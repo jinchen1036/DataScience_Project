{
  "nbformat": 4,
  "nbformat_minor": 0,
  "metadata": {
    "colab": {
      "name": "DecisionTree.ipynb",
      "provenance": [],
      "collapsed_sections": [],
      "include_colab_link": true
    },
    "kernelspec": {
      "name": "python3",
      "display_name": "Python 3"
    }
  },
  "cells": [
    {
      "cell_type": "markdown",
      "metadata": {
        "id": "view-in-github",
        "colab_type": "text"
      },
      "source": [
        "<a href=\"https://colab.research.google.com/github/jinchen1036/DataScience_Project/blob/master/DecisionTree.ipynb\" target=\"_parent\"><img src=\"https://colab.research.google.com/assets/colab-badge.svg\" alt=\"Open In Colab\"/></a>"
      ]
    },
    {
      "cell_type": "code",
      "metadata": {
        "id": "lNCjnR3PTs_T",
        "colab_type": "code",
        "colab": {}
      },
      "source": [
        "import numpy as np\n",
        "import pandas as pd\n",
        "import matplotlib.pyplot as plt\n",
        "import statsmodels.api as sm"
      ],
      "execution_count": 0,
      "outputs": []
    },
    {
      "cell_type": "code",
      "metadata": {
        "id": "HzkH9z9vTv_1",
        "colab_type": "code",
        "colab": {}
      },
      "source": [
        "train_df = pd.read_csv('https://grantmlong.com/data/SE_rents2018_train.csv', index_col=0)\n",
        "test_set1_df = pd.read_csv('https://grantmlong.com/data/SE_rents2018_test1.csv', index_col=0)\n",
        "test_set2_df = pd.read_csv('https://grantmlong.com/data/SE_rents2018_test2.csv', index_col=0)"
      ],
      "execution_count": 0,
      "outputs": []
    },
    {
      "cell_type": "code",
      "metadata": {
        "id": "u6X8JtWpTzq6",
        "colab_type": "code",
        "colab": {
          "base_uri": "https://localhost:8080/",
          "height": 34
        },
        "outputId": "616ed480-492b-4f28-aa0c-051af2bc86ab"
      },
      "source": [
        "concanate_df = pd.concat([train_df,test_set1_df])\n",
        "print(\"Combine df shape: \",concanate_df.shape)"
      ],
      "execution_count": 4,
      "outputs": [
        {
          "output_type": "stream",
          "text": [
            "Combine df shape:  (14000, 38)\n"
          ],
          "name": "stdout"
        }
      ]
    },
    {
      "cell_type": "code",
      "metadata": {
        "id": "1FkrhXViT2J6",
        "colab_type": "code",
        "colab": {
          "base_uri": "https://localhost:8080/",
          "height": 34
        },
        "outputId": "a96d890a-0db5-416b-c482-e180cc7d3b79"
      },
      "source": [
        "numeric_df = concanate_df.select_dtypes(include=[np.number])\n",
        "print(\"Combine numeric df shape: \",numeric_df.shape)"
      ],
      "execution_count": 5,
      "outputs": [
        {
          "output_type": "stream",
          "text": [
            "Combine numeric df shape:  (14000, 29)\n"
          ],
          "name": "stdout"
        }
      ]
    },
    {
      "cell_type": "code",
      "metadata": {
        "id": "lpJBNFGaT4hz",
        "colab_type": "code",
        "colab": {
          "base_uri": "https://localhost:8080/",
          "height": 136
        },
        "outputId": "25ea32a7-52e3-4063-a024-6425b477f693"
      },
      "source": [
        "all_value_df = numeric_df.dropna(axis=1)\n",
        "all_value_df['rent'] = numeric_df['rent']\n",
        "print(\"Combine no null value numeric df shape: \",all_value_df.shape)"
      ],
      "execution_count": 6,
      "outputs": [
        {
          "output_type": "stream",
          "text": [
            "Combine no null value numeric df shape:  (14000, 25)\n"
          ],
          "name": "stdout"
        },
        {
          "output_type": "stream",
          "text": [
            "/usr/local/lib/python3.6/dist-packages/ipykernel_launcher.py:2: SettingWithCopyWarning: \n",
            "A value is trying to be set on a copy of a slice from a DataFrame.\n",
            "Try using .loc[row_indexer,col_indexer] = value instead\n",
            "\n",
            "See the caveats in the documentation: http://pandas.pydata.org/pandas-docs/stable/user_guide/indexing.html#returning-a-view-versus-a-copy\n",
            "  \n"
          ],
          "name": "stderr"
        }
      ]
    },
    {
      "cell_type": "code",
      "metadata": {
        "id": "dsejOQIvUAds",
        "colab_type": "code",
        "colab": {
          "base_uri": "https://localhost:8080/",
          "height": 921
        },
        "outputId": "1cf64f87-888a-4ddb-c623-2d105e270c00"
      },
      "source": [
        "columns = list(all_value_df.columns)\n",
        "columns.remove('rent')\n",
        "columns.append('const')\n",
        "all_value_df = sm.add_constant(all_value_df)\n",
        "est = sm.OLS(all_value_df['rent'],\n",
        "             all_value_df[columns].astype(float)).fit()\n",
        "print(est.summary())"
      ],
      "execution_count": 7,
      "outputs": [
        {
          "output_type": "stream",
          "text": [
            "                            OLS Regression Results                            \n",
            "==============================================================================\n",
            "Dep. Variable:                   rent   R-squared:                       0.627\n",
            "Model:                            OLS   Adj. R-squared:                  0.626\n",
            "Method:                 Least Squares   F-statistic:                     979.2\n",
            "Date:                Sun, 17 Nov 2019   Prob (F-statistic):               0.00\n",
            "Time:                        22:52:02   Log-Likelihood:            -1.2445e+05\n",
            "No. Observations:               14000   AIC:                         2.489e+05\n",
            "Df Residuals:                   13975   BIC:                         2.491e+05\n",
            "Df Model:                          24                                         \n",
            "Covariance Type:            nonrobust                                         \n",
            "==========================================================================================\n",
            "                             coef    std err          t      P>|t|      [0.025      0.975]\n",
            "------------------------------------------------------------------------------------------\n",
            "building_id            -2.282e-06   3.58e-06     -0.637      0.524   -9.31e-06    4.74e-06\n",
            "bedrooms                 233.4398     18.629     12.531      0.000     196.925     269.954\n",
            "bathrooms               1379.7827     35.405     38.972      0.000    1310.385    1449.180\n",
            "size_sqft                  2.3262      0.039     59.772      0.000       2.250       2.402\n",
            "addr_zip                  -0.9044      0.111     -8.118      0.000      -1.123      -0.686\n",
            "addr_lat                -188.5718    485.787     -0.388      0.698   -1140.779     763.635\n",
            "addr_lon               -5552.7579    550.637    -10.084      0.000   -6632.081   -4473.435\n",
            "bbl                    -5.315e-08   4.95e-08     -1.073      0.283    -1.5e-07    4.39e-08\n",
            "floor_count                0.1396      2.054      0.068      0.946      -3.886       4.165\n",
            "has_doorman              155.7121     55.525      2.804      0.005      46.875     264.549\n",
            "has_elevator             307.8591     44.456      6.925      0.000     220.720     394.998\n",
            "has_fireplace            529.8681     81.782      6.479      0.000     369.565     690.171\n",
            "has_dishwasher          -147.6915     34.428     -4.290      0.000    -215.176     -80.207\n",
            "is_furnished             758.5590     86.613      8.758      0.000     588.785     928.333\n",
            "has_gym                  341.3291     56.068      6.088      0.000     231.428     451.230\n",
            "allows_pets              190.2920     33.003      5.766      0.000     125.603     254.981\n",
            "has_washer_dryer         340.2348     38.506      8.836      0.000     264.759     415.711\n",
            "has_garage              -110.4035     46.742     -2.362      0.018    -202.024     -18.783\n",
            "has_roofdeck             171.9019     41.830      4.110      0.000      89.909     253.894\n",
            "has_concierge            232.2912     58.401      3.978      0.000     117.817     346.765\n",
            "has_pool                 234.0826     69.483      3.369      0.001      97.886     370.279\n",
            "has_garden                48.5225     46.297      1.048      0.295     -42.226     139.271\n",
            "has_childrens_playroom    83.2648     63.431      1.313      0.189     -41.069     207.599\n",
            "no_fee                  -216.7876     33.854     -6.404      0.000    -283.146    -150.429\n",
            "const                  -3.941e+05    5.5e+04     -7.164      0.000   -5.02e+05   -2.86e+05\n",
            "==============================================================================\n",
            "Omnibus:                    15392.707   Durbin-Watson:                   2.023\n",
            "Prob(Omnibus):                  0.000   Jarque-Bera (JB):          4989058.062\n",
            "Skew:                           5.114   Prob(JB):                         0.00\n",
            "Kurtosis:                      94.913   Cond. No.                     9.57e+12\n",
            "==============================================================================\n",
            "\n",
            "Warnings:\n",
            "[1] Standard Errors assume that the covariance matrix of the errors is correctly specified.\n",
            "[2] The condition number is large, 9.57e+12. This might indicate that there are\n",
            "strong multicollinearity or other numerical problems.\n"
          ],
          "name": "stdout"
        },
        {
          "output_type": "stream",
          "text": [
            "/usr/local/lib/python3.6/dist-packages/numpy/core/fromnumeric.py:2495: FutureWarning: Method .ptp is deprecated and will be removed in a future version. Use numpy.ptp instead.\n",
            "  return ptp(axis=axis, out=out, **kwargs)\n"
          ],
          "name": "stderr"
        }
      ]
    },
    {
      "cell_type": "code",
      "metadata": {
        "id": "tuFoeQtHUbOE",
        "colab_type": "code",
        "colab": {}
      },
      "source": [
        "feature_columns = ['bedrooms','bathrooms','size_sqft','addr_zip','has_elevator','has_fireplace','has_dishwasher','is_furnished','has_gym','allows_pets','has_washer_dryer','has_roofdeck','has_concierge','no_fee']\n"
      ],
      "execution_count": 0,
      "outputs": []
    },
    {
      "cell_type": "code",
      "metadata": {
        "id": "jGDje94-Uxz8",
        "colab_type": "code",
        "colab": {
          "base_uri": "https://localhost:8080/",
          "height": 71
        },
        "outputId": "8fbfe1ad-1afd-402c-e65a-aa6590cd52df"
      },
      "source": [
        "import warnings\n",
        "from sklearn.tree import DecisionTreeClassifier\n",
        "from sklearn.linear_model import LogisticRegression\n",
        "from sklearn.metrics import accuracy_score, recall_score, precision_score, confusion_matrix\n",
        "from sklearn.metrics import mean_squared_error\n",
        "from sklearn.model_selection import KFold, cross_val_score\n",
        "from sklearn.externals.six import StringIO\n",
        "from IPython.display import Image\n",
        "from sklearn.tree import export_graphviz\n",
        "import pydotplus\n",
        "warnings.filterwarnings(\"ignore\")"
      ],
      "execution_count": 9,
      "outputs": [
        {
          "output_type": "stream",
          "text": [
            "/usr/local/lib/python3.6/dist-packages/sklearn/externals/six.py:31: DeprecationWarning: The module is deprecated in version 0.21 and will be removed in version 0.23 since we've dropped support for Python 2.7. Please rely on the official version of six (https://pypi.org/project/six/).\n",
            "  \"(https://pypi.org/project/six/).\", DeprecationWarning)\n"
          ],
          "name": "stderr"
        }
      ]
    },
    {
      "cell_type": "code",
      "metadata": {
        "id": "bL97JlIZVHGB",
        "colab_type": "code",
        "colab": {
          "base_uri": "https://localhost:8080/",
          "height": 51
        },
        "outputId": "415c1405-dcf9-4e60-cc57-1553ed692bf0"
      },
      "source": [
        "train_df = all_value_df.iloc[:12000]\n",
        "test_df = all_value_df.iloc[12000:]\n",
        "print(\"Train Shape: \", train_df.shape)\n",
        "print(\"Test Shape: \", test_df.shape)"
      ],
      "execution_count": 10,
      "outputs": [
        {
          "output_type": "stream",
          "text": [
            "Train Shape:  (12000, 26)\n",
            "Test Shape:  (2000, 26)\n"
          ],
          "name": "stdout"
        }
      ]
    },
    {
      "cell_type": "code",
      "metadata": {
        "id": "chQNtKCZU6Rm",
        "colab_type": "code",
        "colab": {
          "base_uri": "https://localhost:8080/",
          "height": 119
        },
        "outputId": "3bafaf8b-1696-496d-b15c-4c29cef8ea2b"
      },
      "source": [
        "dtree=DecisionTreeClassifier(\n",
        "    criterion='entropy',\n",
        "    random_state=20191021,\n",
        "    max_depth=50,\n",
        "    #min_samples_split=2,\n",
        "    #min_samples_leaf=1,\n",
        "    #max_features=None,\n",
        "    #max_leaf_nodes=None,\n",
        ")\n",
        "\n",
        "dtree.fit(train_df[feature_columns], train_df['rent'])"
      ],
      "execution_count": 11,
      "outputs": [
        {
          "output_type": "execute_result",
          "data": {
            "text/plain": [
              "DecisionTreeClassifier(class_weight=None, criterion='entropy', max_depth=50,\n",
              "                       max_features=None, max_leaf_nodes=None,\n",
              "                       min_impurity_decrease=0.0, min_impurity_split=None,\n",
              "                       min_samples_leaf=1, min_samples_split=2,\n",
              "                       min_weight_fraction_leaf=0.0, presort=False,\n",
              "                       random_state=20191021, splitter='best')"
            ]
          },
          "metadata": {
            "tags": []
          },
          "execution_count": 11
        }
      ]
    },
    {
      "cell_type": "code",
      "metadata": {
        "id": "cb46-60tVExu",
        "colab_type": "code",
        "colab": {}
      },
      "source": [
        "# Visualization\n",
        "dot_data = StringIO()\n",
        "export_graphviz(dtree,\n",
        "                out_file=dot_data,\n",
        "                filled=True,\n",
        "                rounded=True,\n",
        "                feature_names=feature_columns,\n",
        "                special_characters=True\n",
        "               )\n",
        "graph = pydotplus.graph_from_dot_data(dot_data.getvalue())\n",
        "Image(graph.create_png())"
      ],
      "execution_count": 0,
      "outputs": []
    },
    {
      "cell_type": "code",
      "metadata": {
        "id": "JJEHUfLQVvjI",
        "colab_type": "code",
        "colab": {
          "base_uri": "https://localhost:8080/",
          "height": 34
        },
        "outputId": "30aaa299-a580-4059-c666-aefcd399fea8"
      },
      "source": [
        "pred_survival = dtree.predict(train_df[feature_columns])\n",
        "\n",
        "print('Train mean_squared_error:   %0.3f' % mean_squared_error(train_df.rent, pred_survival))"
      ],
      "execution_count": 12,
      "outputs": [
        {
          "output_type": "stream",
          "text": [
            "Train mean_squared_error:   37278.488\n"
          ],
          "name": "stdout"
        }
      ]
    },
    {
      "cell_type": "code",
      "metadata": {
        "id": "j6-_SHvIVdeX",
        "colab_type": "code",
        "colab": {
          "base_uri": "https://localhost:8080/",
          "height": 34
        },
        "outputId": "92d94d2e-89d8-469e-9003-c7cfeb495678"
      },
      "source": [
        "pred_survival = dtree.predict(test_df[feature_columns])\n",
        "\n",
        "print('Test mean_squared_error:   %0.3f' % mean_squared_error(test_df.rent, pred_survival))"
      ],
      "execution_count": 13,
      "outputs": [
        {
          "output_type": "stream",
          "text": [
            "Test mean_squared_error:   3049997.342\n"
          ],
          "name": "stdout"
        }
      ]
    },
    {
      "cell_type": "code",
      "metadata": {
        "id": "JOkIrg0ckDDK",
        "colab_type": "code",
        "colab": {
          "base_uri": "https://localhost:8080/",
          "height": 119
        },
        "outputId": "358af7fa-37d1-458d-d41c-eb822b86bc00"
      },
      "source": [
        "train_df.index"
      ],
      "execution_count": 14,
      "outputs": [
        {
          "output_type": "execute_result",
          "data": {
            "text/plain": [
              "Int64Index([7236931, 7331920, 7139224, 7364827, 7242151, 7171210, 7286986,\n",
              "            7418503, 7304773, 7180240,\n",
              "            ...\n",
              "            7214185, 7360534, 7398904, 7222669, 7177303, 7411030, 7397836,\n",
              "            7154701, 7259554, 7422694],\n",
              "           dtype='int64', name='rental_id', length=12000)"
            ]
          },
          "metadata": {
            "tags": []
          },
          "execution_count": 14
        }
      ]
    },
    {
      "cell_type": "code",
      "metadata": {
        "id": "G2SvNmyrWgs_",
        "colab_type": "code",
        "colab": {}
      },
      "source": [
        "# Test for CV\n",
        "k_fold = KFold(n_splits=5, random_state=20181105,shuffle=False)\n",
        "\n",
        "def get_cv_results(classifier):\n",
        "    results = []\n",
        "    for train, test in k_fold.split(train_df[feature_columns]):\n",
        "        classifier.fit(train_df.loc[train_df.index[train], feature_columns], train_df.loc[train_df.index[train], 'rent'])\n",
        "        y_predicted = classifier.predict(train_df.loc[train_df.index[test], feature_columns])\n",
        "        loss = mean_squared_error(train_df.loc[train_df.index[test], 'rent'], y_predicted)\n",
        "        results.append(loss)\n",
        "        # print(loss)\n",
        "    return np.mean(results), np.std(results)"
      ],
      "execution_count": 0,
      "outputs": []
    },
    {
      "cell_type": "code",
      "metadata": {
        "id": "hJi6WmV4XWqd",
        "colab_type": "code",
        "colab": {}
      },
      "source": [
        "dtree = DecisionTreeClassifier(\n",
        "    criterion='entropy',\n",
        "    random_state=20180408,\n",
        "    max_depth=50,\n",
        ")"
      ],
      "execution_count": 0,
      "outputs": []
    },
    {
      "cell_type": "code",
      "metadata": {
        "id": "CSIoPo9xXb51",
        "colab_type": "code",
        "colab": {
          "base_uri": "https://localhost:8080/",
          "height": 102
        },
        "outputId": "480a8924-074e-4a0b-ce2e-3266b5d55da3"
      },
      "source": [
        "result = get_cv_results(dtree)\n",
        "# k = k_fold.split(train_df[feature_columns])"
      ],
      "execution_count": 21,
      "outputs": [
        {
          "output_type": "stream",
          "text": [
            "3760957.0370833334\n",
            "2491120.9166666665\n",
            "3302082.75125\n",
            "2086218.2775\n",
            "2873354.5745833335\n"
          ],
          "name": "stdout"
        }
      ]
    },
    {
      "cell_type": "code",
      "metadata": {
        "id": "Hq50TylBliSK",
        "colab_type": "code",
        "colab": {
          "base_uri": "https://localhost:8080/",
          "height": 340
        },
        "outputId": "f625211c-25bf-49ac-de64-a60132153f53"
      },
      "source": [
        "depth_values = range(10, 200, 10)\n",
        "all_depth_mu = []\n",
        "all_depth_sigma = []\n",
        "\n",
        "for m in depth_values:\n",
        "    dtree = DecisionTreeClassifier(\n",
        "        criterion='entropy',\n",
        "        random_state=20180408,\n",
        "        # min_samples_split=m,\n",
        "        max_depth=m,\n",
        "        # min_samples_leaf=m,\n",
        "        # max_features=m,\n",
        "        # max_leaf_nodes=m,\n",
        "    )\n",
        "\n",
        "    mu, sigma = get_cv_results(dtree)\n",
        "    all_depth_mu.append(mu)\n",
        "    all_depth_sigma.append(sigma)\n",
        "\n",
        "    print(m, mu, sigma)"
      ],
      "execution_count": 25,
      "outputs": [
        {
          "output_type": "stream",
          "text": [
            "10 2945691.7098333337 748189.2737775174\n",
            "20 2625489.4396666666 769186.9449568001\n",
            "30 2902746.7114166664 588729.583390585\n",
            "40 2902746.7114166664 588729.583390585\n",
            "50 2902746.7114166664 588729.583390585\n",
            "60 2902746.7114166664 588729.583390585\n",
            "70 2902746.7114166664 588729.583390585\n",
            "80 2902746.7114166664 588729.583390585\n",
            "90 2902746.7114166664 588729.583390585\n",
            "100 2902746.7114166664 588729.583390585\n",
            "110 2902746.7114166664 588729.583390585\n",
            "120 2902746.7114166664 588729.583390585\n",
            "130 2902746.7114166664 588729.583390585\n",
            "140 2902746.7114166664 588729.583390585\n",
            "150 2902746.7114166664 588729.583390585\n",
            "160 2902746.7114166664 588729.583390585\n",
            "170 2902746.7114166664 588729.583390585\n",
            "180 2902746.7114166664 588729.583390585\n",
            "190 2902746.7114166664 588729.583390585\n"
          ],
          "name": "stdout"
        }
      ]
    },
    {
      "cell_type": "code",
      "metadata": {
        "id": "p3R9EjVvXB0M",
        "colab_type": "code",
        "colab": {
          "base_uri": "https://localhost:8080/",
          "height": 351
        },
        "outputId": "b9f60dee-aeb0-476a-a7e8-963091dd8b20"
      },
      "source": [
        "plt.figure(figsize=(14, 5))\n",
        "plt.plot(depth_values, all_depth_mu)\n",
        "plt.ylabel('Cross Validation Accuracy')\n",
        "plt.xlabel('Maximum Depth per Leaf')"
      ],
      "execution_count": 26,
      "outputs": [
        {
          "output_type": "execute_result",
          "data": {
            "text/plain": [
              "Text(0.5, 0, 'Minimum Samples Per Leaf')"
            ]
          },
          "metadata": {
            "tags": []
          },
          "execution_count": 26
        },
        {
          "output_type": "display_data",
          "data": {
            "image/png": "[encoded data removed]",
            "text/plain": [
              "<Figure size 1008x360 with 1 Axes>"
            ]
          },
          "metadata": {
            "tags": []
          }
        }
      ]
    },
    {
      "cell_type": "code",
      "metadata": {
        "id": "WubUWMTUlmYJ",
        "colab_type": "code",
        "colab": {
          "base_uri": "https://localhost:8080/",
          "height": 102
        },
        "outputId": "3b6d82c4-10e5-4a5d-9296-dd3845fd2b04"
      },
      "source": [
        "split_values = range(25, 150, 25)\n",
        "all_split_mu = []\n",
        "all_split_sigma = []\n",
        "\n",
        "for m in split_values:\n",
        "    dtree = DecisionTreeClassifier(\n",
        "        criterion='entropy',\n",
        "        random_state=20180408,\n",
        "        max_depth=20,\n",
        "        min_samples_split=m,\n",
        "        # min_samples_leaf=m,\n",
        "        # max_features=m,\n",
        "        # max_leaf_nodes=m,\n",
        "    )\n",
        "\n",
        "    mu, sigma = get_cv_results(dtree)\n",
        "    all_split_mu.append(mu)\n",
        "    all_split_sigma.append(sigma)\n",
        "\n",
        "    print(m, mu, sigma)"
      ],
      "execution_count": 28,
      "outputs": [
        {
          "output_type": "stream",
          "text": [
            "25 3099206.028 719348.274846836\n",
            "50 2994064.3969166665 925645.1772782601\n",
            "75 3117829.425 876018.0548992485\n",
            "100 2777349.82525 543980.39381378\n",
            "125 2940024.198166667 534826.6447199726\n"
          ],
          "name": "stdout"
        }
      ]
    },
    {
      "cell_type": "code",
      "metadata": {
        "id": "ZT5oDXeamO-y",
        "colab_type": "code",
        "colab": {
          "base_uri": "https://localhost:8080/",
          "height": 351
        },
        "outputId": "6f05b786-400f-4dda-efb3-35ffa81fee73"
      },
      "source": [
        "plt.figure(figsize=(14, 5))\n",
        "plt.plot(split_values, all_split_mu)\n",
        "plt.ylabel('Cross Validation Accuracy')\n",
        "plt.xlabel('Minimum Samples Per Leaf')"
      ],
      "execution_count": 29,
      "outputs": [
        {
          "output_type": "execute_result",
          "data": {
            "text/plain": [
              "Text(0.5, 0, 'Minimum Samples Per Leaf')"
            ]
          },
          "metadata": {
            "tags": []
          },
          "execution_count": 29
        },
        {
          "output_type": "display_data",
          "data": {
            "image/png": "[encoded data removed]",
            "text/plain": [
              "<Figure size 1008x360 with 1 Axes>"
            ]
          },
          "metadata": {
            "tags": []
          }
        }
      ]
    },
    {
      "cell_type": "code",
      "metadata": {
        "id": "btNuZWFQmjbU",
        "colab_type": "code",
        "colab": {
          "base_uri": "https://localhost:8080/",
          "height": 136
        },
        "outputId": "ced01ea7-573b-444f-da50-0d38b82e9e3a"
      },
      "source": [
        "features_values = range(2, 15, 2)\n",
        "all_features_mu = []\n",
        "all_features_sigma = []\n",
        "\n",
        "for m in features_values:\n",
        "    dtree = DecisionTreeClassifier(\n",
        "        criterion='entropy',\n",
        "        random_state=20180408,\n",
        "        max_depth=20,\n",
        "        min_samples_split=100,\n",
        "        # min_samples_leaf=m,\n",
        "        max_features=m,\n",
        "        # max_leaf_nodes=m,\n",
        "    )\n",
        "\n",
        "    mu, sigma = get_cv_results(dtree)\n",
        "    all_features_mu.append(mu)\n",
        "    all_features_sigma.append(sigma)\n",
        "\n",
        "    print(m, mu, sigma)"
      ],
      "execution_count": 33,
      "outputs": [
        {
          "output_type": "stream",
          "text": [
            "2 5233821.390583334 1140204.6160898285\n",
            "4 6404343.27075 3228646.205722867\n",
            "6 4000406.949083333 1371161.2046707415\n",
            "8 5666161.3292499995 3255140.468453604\n",
            "10 3676525.032666667 1002908.1134481063\n",
            "12 3452185.165666667 1032900.6945440092\n",
            "14 2777349.82525 543980.39381378\n"
          ],
          "name": "stdout"
        }
      ]
    },
    {
      "cell_type": "code",
      "metadata": {
        "id": "oKifEM8mm8BU",
        "colab_type": "code",
        "colab": {}
      },
      "source": [
        ""
      ],
      "execution_count": 0,
      "outputs": []
    }
  ]
}