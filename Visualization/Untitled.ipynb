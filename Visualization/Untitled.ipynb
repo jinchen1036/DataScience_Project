{
 "cells": [
  {
   "cell_type": "code",
   "execution_count": 2,
   "metadata": {},
   "outputs": [],
   "source": [
    "import numpy as np\n",
    "import pandas as pd\n",
    "import matplotlib.pyplot as plt"
   ]
  },
  {
   "cell_type": "markdown",
   "metadata": {},
   "source": [
    "As suggested by our analysis, we chose random forest regressor as our model.\n",
    "\n",
    "Now, We are going to utilize visualization tools to to further exam its performance."
   ]
  },
  {
   "cell_type": "markdown",
   "metadata": {},
   "source": [
    "# Random Forest Regressor Prediction"
   ]
  },
  {
   "cell_type": "code",
   "execution_count": 10,
   "metadata": {},
   "outputs": [],
   "source": [
    "# Actual Rent\n",
    "test1_df = pd.read_csv('SE_rents2018_test1.csv')\n",
    "test1_df = test1_df[['rent']]\n",
    "\n",
    "# Rent predicted by random forest trained with raw data\n",
    "test1_pred_df = pd.read_csv('RandomForest_Prediction_TestSet1.csv')\n",
    "test1_pred_df = test1_pred_df[['predictions']]\n",
    "\n",
    "# Rent predicted by random forest trained with normalized data\n",
    "test1_pred_norm_df = pd.read_csv('RandomForest_Prediction_TestSet1_Normalize.csv')\n",
    "test1_pred_norm_df = test1_pred_norm_df[['predictions']]"
   ]
  },
  {
   "cell_type": "code",
   "execution_count": null,
   "metadata": {},
   "outputs": [],
   "source": [
    "plt.figure(figsize=(400,20)) # (length, height)\n",
    "\n",
    "# Blue dots: Actual rent\n",
    "# Red line: raw data trained rf prediction\n",
    "# Green line: normalized data trained rf prediction\n",
    "plt.plot(test1_df.values, marker='.', linestyle='none')\n",
    "plt.plot(test1_pred_df.values, color='red', alpha=0.70)\n",
    "plt.plot(test1_pred_norm_df.values, color='green', alpha=0.70)\n",
    "\n",
    "plt.title('RF prediction')\n",
    "plt.xlabel('Listing #')\n",
    "plt.ylabel('Rent')\n",
    "\n",
    "plt.axis([1, 2000, 0, 10000])   #[xmin, xmax, ymin, ymax]\n",
    "plt.savefig('rf_predictions.png')"
   ]
  },
  {
   "cell_type": "markdown",
   "metadata": {},
   "source": [
    "We didn't want to focus on outliers so we only looked at the listings with a rent under $10,000\n",
    "\n",
    "For the most part, green line overlaps with the red one which means normalizing data didn't make a significant impact in our case."
   ]
  },
  {
   "cell_type": "code",
   "execution_count": null,
   "metadata": {},
   "outputs": [],
   "source": [
    "Random"
   ]
  }
 ],
 "metadata": {
  "kernelspec": {
   "display_name": "Python 3",
   "language": "python",
   "name": "python3"
  },
  "language_info": {
   "codemirror_mode": {
    "name": "ipython",
    "version": 3
   },
   "file_extension": ".py",
   "mimetype": "text/x-python",
   "name": "python",
   "nbconvert_exporter": "python",
   "pygments_lexer": "ipython3",
   "version": "3.7.4"
  }
 },
 "nbformat": 4,
 "nbformat_minor": 2
}
