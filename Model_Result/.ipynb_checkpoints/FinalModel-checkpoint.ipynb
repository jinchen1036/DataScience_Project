{
 "cells": [
  {
   "cell_type": "code",
   "execution_count": 1,
   "metadata": {},
   "outputs": [],
   "source": [
    "import os\n",
    "os.chdir('../')"
   ]
  },
  {
   "cell_type": "code",
   "execution_count": 2,
   "metadata": {},
   "outputs": [],
   "source": [
    "from Helper.DataLoader import *\n",
    "from Helper.StaticParameters import Parameters\n",
    "from Helper.ModelProcessor import ModelProcessor\n",
    "\n",
    "from sklearn.ensemble import GradientBoostingRegressor, RandomForestRegressor"
   ]
  },
  {
   "cell_type": "code",
   "execution_count": 3,
   "metadata": {},
   "outputs": [],
   "source": [
    "# Init model\n",
    "parameter = Parameters()\n",
    "modelProcessor = ModelProcessor()\n",
    "\n",
    "# Get Data\n",
    "combine_df, train_df_index, test_set1_index, test_set2_index = load_dataset(numeric=True, extract_dataset=False)\n",
    "combine_df = clean_data(combine_df)\n",
    "# combine_df = normalized_dataset(combine_df)"
   ]
  },
  {
   "cell_type": "code",
   "execution_count": 5,
   "metadata": {},
   "outputs": [
    {
     "name": "stdout",
     "output_type": "stream",
     "text": [
      "Train Loss: 175379.2218\n",
      "Test Set 2 - Loss: 6656865.7837\n",
      "Test Set 1 Loss: 1755881.8033\n"
     ]
    }
   ],
   "source": [
    "random_train_pred, random_test1_pred, random_test2_pred = modelProcessor.train_final_model(\n",
    "                                                             RandomForestRegressor(max_features=10,n_estimators=320,\n",
    "                                                                                   criterion='mse',bootstrap=True),\n",
    "                                                             train_df= combine_df.loc[train_df_index], \n",
    "                                                             test_df=combine_df.loc[test_set1_index],\n",
    "                                                             feature_columns = parameter.feature_columns,\n",
    "                                                             train_target='rent', trainWithTest1 = False,\n",
    "                                                             test2_df=combine_df.loc[test_set2_index]\n",
    "                                                            )"
   ]
  },
  {
   "cell_type": "code",
   "execution_count": 6,
   "metadata": {},
   "outputs": [
    {
     "name": "stdout",
     "output_type": "stream",
     "text": [
      "Train Loss: 4886592.3184\n",
      "Test Set 2 - Loss: 1133123.8333\n",
      "Test Set 1 Loss: 4865627.4079\n"
     ]
    }
   ],
   "source": [
    "gradient_train_pred, gradient_test1_pred, gradient_test2_pred = modelProcessor.train_final_model(\n",
    "                                                     GradientBoostingRegressor(learning_rate=0.001,\n",
    "                                                                               n_estimators=450,\n",
    "                                                                               min_samples_split=10),\n",
    "                                                     train_df= combine_df.loc[train_df_index], \n",
    "                                                     test_df=combine_df.loc[test_set1_index],\n",
    "                                                     feature_columns = parameter.feature_columns,\n",
    "                                                     train_target='rent', trainWithTest1 = False,\n",
    "                                                     test2_df=combine_df.loc[test_set2_index]\n",
    "                                                    )"
   ]
  },
  {
   "cell_type": "markdown",
   "metadata": {},
   "source": [
    "# Save the Result CSV File"
   ]
  },
  {
   "cell_type": "code",
   "execution_count": 10,
   "metadata": {},
   "outputs": [],
   "source": [
    "test1_df = combine_df.loc[test_set1_index]\n",
    "test1_df['predictions'] = random_test1_pred\n",
    "test1_df['predictions'].to_csv(\"RandomForest_Prediction_TestSet1.csv\", header=True)"
   ]
  },
  {
   "cell_type": "code",
   "execution_count": 9,
   "metadata": {},
   "outputs": [],
   "source": [
    "test2_df = combine_df.loc[test_set2_index]\n",
    "test2_df['predictions'] = random_test2_pred\n",
    "test2_df['predictions'].to_csv(\"RandomForest_Prediction_TestSet2.csv\", header=True)"
   ]
  },
  {
   "cell_type": "code",
   "execution_count": 23,
   "metadata": {},
   "outputs": [],
   "source": [
    "test2_df['predictions'] = gradient_test2_pred\n",
    "test2_df['predictions'].to_csv(\"GradientBoosting_Prediction_TestSet2.csv\", header=True)"
   ]
  },
  {
   "cell_type": "markdown",
   "metadata": {},
   "source": [
    "# Check Result - If Save Correctly "
   ]
  },
  {
   "cell_type": "code",
   "execution_count": 36,
   "metadata": {},
   "outputs": [],
   "source": [
    "save_test1_df = pd.read_csv('RandomForest_Prediction_TestSet1_Normalize.csv', index_col=0)\n",
    "new_df = pd.concat([test1_df['rent'],save_test1_df],axis=1)"
   ]
  },
  {
   "cell_type": "code",
   "execution_count": 19,
   "metadata": {},
   "outputs": [
    {
     "data": {
      "text/plain": [
       "(2000, 2)"
      ]
     },
     "execution_count": 19,
     "metadata": {},
     "output_type": "execute_result"
    }
   ],
   "source": [
    "new_df.shape"
   ]
  },
  {
   "cell_type": "code",
   "execution_count": 20,
   "metadata": {},
   "outputs": [
    {
     "data": {
      "text/plain": [
       "(2000, 27)"
      ]
     },
     "execution_count": 20,
     "metadata": {},
     "output_type": "execute_result"
    }
   ],
   "source": [
    "test1_df.shape"
   ]
  },
  {
   "cell_type": "code",
   "execution_count": 21,
   "metadata": {},
   "outputs": [
    {
     "data": {
      "text/plain": [
       "Index(['rent', 'predictions'], dtype='object')"
      ]
     },
     "execution_count": 21,
     "metadata": {},
     "output_type": "execute_result"
    }
   ],
   "source": [
    "new_df.columns"
   ]
  },
  {
   "cell_type": "code",
   "execution_count": 37,
   "metadata": {},
   "outputs": [
    {
     "data": {
      "text/plain": [
       "1743405.7556120362"
      ]
     },
     "execution_count": 37,
     "metadata": {},
     "output_type": "execute_result"
    }
   ],
   "source": [
    "from sklearn.metrics import mean_squared_error\n",
    "mean_squared_error(new_df.rent, new_df.predictions)"
   ]
  },
  {
   "cell_type": "markdown",
   "metadata": {},
   "source": [
    "# Compare test1 rent and prediction with median train rent"
   ]
  },
  {
   "cell_type": "code",
   "execution_count": 28,
   "metadata": {},
   "outputs": [
    {
     "data": {
      "text/plain": [
       "2900.0"
      ]
     },
     "execution_count": 28,
     "metadata": {},
     "output_type": "execute_result"
    }
   ],
   "source": [
    "combine_df.loc[train_df_index].rent.median()"
   ]
  },
  {
   "cell_type": "code",
   "execution_count": 29,
   "metadata": {},
   "outputs": [
    {
     "data": {
      "text/plain": [
       "7828536.681"
      ]
     },
     "execution_count": 29,
     "metadata": {},
     "output_type": "execute_result"
    }
   ],
   "source": [
    "\n",
    "mean_squared_error(new_df.rent, np.ones(2000) * 2900)"
   ]
  },
  {
   "cell_type": "code",
   "execution_count": 30,
   "metadata": {},
   "outputs": [
    {
     "data": {
      "text/plain": [
       "5285432.61721352"
      ]
     },
     "execution_count": 30,
     "metadata": {},
     "output_type": "execute_result"
    }
   ],
   "source": [
    "mean_squared_error(new_df.predictions, np.ones(2000) * 2900)"
   ]
  },
  {
   "cell_type": "markdown",
   "metadata": {},
   "source": [
    "# Normalization and Feature Test -  Decide Final Model"
   ]
  },
  {
   "cell_type": "code",
   "execution_count": 24,
   "metadata": {},
   "outputs": [],
   "source": [
    "features = ['bedrooms','bathrooms','size_sqft','addr_zip','min_to_subway',\n",
    "                                'has_elevator','is_furnished','has_gym','allows_pets',]"
   ]
  },
  {
   "cell_type": "code",
   "execution_count": 26,
   "metadata": {},
   "outputs": [
    {
     "name": "stdout",
     "output_type": "stream",
     "text": [
      "Train Loss: 195749.3496\n",
      "Test Set 2 - Loss: 6807182.0565\n",
      "Test Set 1 Loss: 1846680.3587\n"
     ]
    }
   ],
   "source": [
    "random_train_pred, random_test1_pred, random_test2_pred = modelProcessor.train_final_model(\n",
    "                                                             RandomForestRegressor(n_estimators=320,\n",
    "                                                                                   criterion='mse',bootstrap=True),\n",
    "                                                             train_df= combine_df.loc[train_df_index], \n",
    "                                                             test_df=combine_df.loc[test_set1_index],\n",
    "                                                             feature_columns = features,\n",
    "                                                             train_target='rent', trainWithTest1 = False,\n",
    "                                                             test2_df=combine_df.loc[test_set2_index]\n",
    "                                                            )"
   ]
  },
  {
   "cell_type": "code",
   "execution_count": 31,
   "metadata": {},
   "outputs": [],
   "source": [
    "combine_df = normalized_dataset(combine_df)"
   ]
  },
  {
   "cell_type": "code",
   "execution_count": 32,
   "metadata": {},
   "outputs": [
    {
     "name": "stdout",
     "output_type": "stream",
     "text": [
      "Train Loss: 198218.1152\n",
      "Test Set 2 - Loss: 6753358.6392\n",
      "Test Set 1 Loss: 1830390.1794\n"
     ]
    }
   ],
   "source": [
    "random_train_pred, random_test1_pred, random_test2_pred = modelProcessor.train_final_model(\n",
    "                                                             RandomForestRegressor(n_estimators=320,\n",
    "                                                                                   criterion='mse',bootstrap=True),\n",
    "                                                             train_df= combine_df.loc[train_df_index], \n",
    "                                                             test_df=combine_df.loc[test_set1_index],\n",
    "                                                             feature_columns = features,\n",
    "                                                             train_target='rent', trainWithTest1 = False,\n",
    "                                                             test2_df=combine_df.loc[test_set2_index]\n",
    "                                                            )"
   ]
  },
  {
   "cell_type": "code",
   "execution_count": 33,
   "metadata": {},
   "outputs": [
    {
     "name": "stdout",
     "output_type": "stream",
     "text": [
      "Train Loss: 172452.2758\n",
      "Test Set 2 - Loss: 6630254.8910\n",
      "Test Set 1 Loss: 1743405.7556\n"
     ]
    }
   ],
   "source": [
    "random_train_pred, random_test1_pred, random_test2_pred = modelProcessor.train_final_model(\n",
    "                                                             RandomForestRegressor(max_features=10,n_estimators=320,\n",
    "                                                                                   criterion='mse',bootstrap=True),\n",
    "                                                             train_df= combine_df.loc[train_df_index], \n",
    "                                                             test_df=combine_df.loc[test_set1_index],\n",
    "                                                             feature_columns = parameter.feature_columns,\n",
    "                                                             train_target='rent', trainWithTest1 = False,\n",
    "                                                             test2_df=combine_df.loc[test_set2_index]\n",
    "                                                            )"
   ]
  },
  {
   "cell_type": "code",
   "execution_count": 34,
   "metadata": {},
   "outputs": [
    {
     "data": {
      "text/plain": [
       "(2000, 27)"
      ]
     },
     "execution_count": 34,
     "metadata": {},
     "output_type": "execute_result"
    }
   ],
   "source": [
    "test1_df.shape"
   ]
  },
  {
   "cell_type": "code",
   "execution_count": 35,
   "metadata": {},
   "outputs": [],
   "source": [
    "test1_df = combine_df.loc[test_set1_index]\n",
    "test1_df['predictions'] = random_test1_pred\n",
    "test1_df['predictions'].to_csv(\"RandomForest_Prediction_TestSet1_Normalize.csv\", header=True)"
   ]
  },
  {
   "cell_type": "code",
   "execution_count": 38,
   "metadata": {},
   "outputs": [],
   "source": [
    "test2_df = combine_df.loc[test_set2_index]\n",
    "test2_df['predictions'] = random_test2_pred\n",
    "test2_df['predictions'].to_csv(\"RandomForest_Prediction_TestSet2_Normalize.csv\", header=True)"
   ]
  },
  {
   "cell_type": "markdown",
   "metadata": {},
   "source": [
    "## Final CSV will be RandomForest_Prediction_TestSet2_Normalize.csv"
   ]
  },
  {
   "cell_type": "code",
   "execution_count": null,
   "metadata": {},
   "outputs": [],
   "source": []
  }
 ],
 "metadata": {
  "kernelspec": {
   "display_name": "Python 3",
   "language": "python",
   "name": "python3"
  },
  "language_info": {
   "codemirror_mode": {
    "name": "ipython",
    "version": 3
   },
   "file_extension": ".py",
   "mimetype": "text/x-python",
   "name": "python",
   "nbconvert_exporter": "python",
   "pygments_lexer": "ipython3",
   "version": "3.7.1"
  }
 },
 "nbformat": 4,
 "nbformat_minor": 2
}
