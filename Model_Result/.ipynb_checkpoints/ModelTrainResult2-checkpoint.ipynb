{
 "cells": [
  {
   "cell_type": "markdown",
   "metadata": {
    "colab_type": "text",
    "id": "view-in-github"
   },
   "source": [
    "<a href=\"https://colab.research.google.com/github/jinchen1036/DataScience_Project/blob/master/ModelTrainResult2.ipynb\" target=\"_parent\"><img src=\"https://colab.research.google.com/assets/colab-badge.svg\" alt=\"Open In Colab\"/></a>"
   ]
  },
  {
   "cell_type": "code",
   "execution_count": 2,
   "metadata": {
    "colab": {
     "base_uri": "https://localhost:8080/",
     "height": 139
    },
    "colab_type": "code",
    "id": "lrNUJ7WkPeCy",
    "outputId": "6e52204f-2237-4b5f-92a9-a877a44e8993"
   },
   "outputs": [
    {
     "name": "stdout",
     "output_type": "stream",
     "text": [
      "Go to this URL in a browser: https://accounts.google.com/o/oauth2/auth?client_id=947318989803-6bn6qk8qdgf4n4g3pfee6491hc0brc4i.apps.googleusercontent.com&redirect_uri=urn%3aietf%3awg%3aoauth%3a2.0%3aoob&response_type=code&scope=email%20https%3a%2f%2fwww.googleapis.com%2fauth%2fdocs.test%20https%3a%2f%2fwww.googleapis.com%2fauth%2fdrive%20https%3a%2f%2fwww.googleapis.com%2fauth%2fdrive.photos.readonly%20https%3a%2f%2fwww.googleapis.com%2fauth%2fpeopleapi.readonly\n",
      "\n",
      "Enter your authorization code:\n",
      "··········\n",
      "Mounted at /content/drive\n"
     ]
    },
    {
     "data": {
      "text/plain": [
       "'/content/drive/My Drive/Fall 2019/DataScience/Project/DataScience_Project'"
      ]
     },
     "execution_count": 2,
     "metadata": {
      "tags": []
     },
     "output_type": "execute_result"
    }
   ],
   "source": [
    "# Only if running in colab\n",
    "from google.colab import drive\n",
    "drive.mount('/content/drive')\n",
    "import os\n",
    "# change the path for your own drive path to the project\n",
    "os.chdir('/content/drive/My Drive/Fall 2019/DataScience/Project/DataScience_Project')\n",
    "os.getcwd()"
   ]
  },
  {
   "cell_type": "code",
   "execution_count": 2,
   "metadata": {},
   "outputs": [],
   "source": [
    "import os\n",
    "os.chdir(\"../\")"
   ]
  },
  {
   "cell_type": "code",
   "execution_count": 3,
   "metadata": {
    "colab": {},
    "colab_type": "code",
    "id": "s9BXhkvrPeC6"
   },
   "outputs": [],
   "source": [
    "import numpy as np\n",
    "from Helper.DataLoader import *\n",
    "from Helper.StaticParameters import Parameters\n",
    "from Helper.ModelProcessor import ModelProcessor\n",
    "\n",
    "from sklearn.neighbors import KNeighborsRegressor\n",
    "from sklearn.linear_model import LinearRegression\n",
    "from sklearn.tree import DecisionTreeRegressor\n",
    "from sklearn.ensemble import GradientBoostingRegressor, AdaBoostRegressor"
   ]
  },
  {
   "cell_type": "code",
   "execution_count": 4,
   "metadata": {
    "colab": {},
    "colab_type": "code",
    "id": "TczfbuPUPeC_"
   },
   "outputs": [],
   "source": [
    "# Init model\n",
    "parameter = Parameters()\n",
    "modelProcessor = ModelProcessor()\n",
    "\n",
    "# Get Data\n",
    "combine_df, train_df_index, test_set1_index, test_set2_index = load_dataset(numeric=True, extract_dataset=False)\n",
    "combine_df = clean_data(combine_df)\n",
    "combine_df = normalized_dataset(combine_df)"
   ]
  },
  {
   "cell_type": "markdown",
   "metadata": {
    "colab_type": "text",
    "id": "aPY6HoPdPeDD"
   },
   "source": [
    "# Train Model with train set and test with test set 1 \n",
    "  - Test all the hyperparameter by setting grid=True, if false only random test the hyparmeters"
   ]
  },
  {
   "cell_type": "code",
   "execution_count": 0,
   "metadata": {
    "colab": {
     "base_uri": "https://localhost:8080/",
     "height": 98
    },
    "colab_type": "code",
    "id": "b5eBslBcPeDE",
    "outputId": "3b936a99-ab99-419c-fd1f-4612a31fb461"
   },
   "outputs": [
    {
     "name": "stdout",
     "output_type": "stream",
     "text": [
      "Best Estimator LinearRegression(copy_X=True, fit_intercept=True, n_jobs=None, normalize=False)\n",
      "Best Parameters:  {'fit_intercept': True}\n",
      "Best Score:  -2462756.858821604\n",
      "Test Set 1 - Loss: 2870402.2234\n",
      "Test Set 2 - Loss: 5830874.4832\n"
     ]
    }
   ],
   "source": [
    "#Linear Regression\n",
    "modelProcessor.train_model(classifier=LinearRegression(),\n",
    "                           parameters=parameter.linreg_parameter,\n",
    "                           feature_columns= parameter.feature_columns,\n",
    "                           train_df= combine_df.iloc[:12000], \n",
    "                           test_df=combine_df.iloc[12000:14000],\n",
    "                           grid=True,train_target='rent',\n",
    "                           cv_split = 4, trainWithTest1=False, \n",
    "                           test2_df=combine_df.iloc[14000:])"
   ]
  },
  {
   "cell_type": "code",
   "execution_count": 9,
   "metadata": {
    "colab": {
     "base_uri": "https://localhost:8080/",
     "height": 170
    },
    "colab_type": "code",
    "id": "t59lC9jvdZh6",
    "outputId": "a697d178-1c6a-499e-e30f-bad22c62e9bb"
   },
   "outputs": [
    {
     "name": "stdout",
     "output_type": "stream",
     "text": [
      "Best Estimator DecisionTreeRegressor(criterion='mse', max_depth=20, max_features=10,\n",
      "                      max_leaf_nodes=None, min_impurity_decrease=0.0,\n",
      "                      min_impurity_split=None, min_samples_leaf=1,\n",
      "                      min_samples_split=50, min_weight_fraction_leaf=0.0,\n",
      "                      presort=False, random_state=None, splitter='best')\n",
      "Best Parameters:  {'max_depth': 20, 'max_features': 10, 'min_samples_split': 50}\n",
      "Best Score:  -1936279.55033343\n",
      "Test Set 1 - Loss: 2853766.8381\n",
      "Test Set 2 - Loss: 6596728.8758\n"
     ]
    }
   ],
   "source": [
    "#Decision Tree\n",
    "modelProcessor.train_model(classifier=DecisionTreeRegressor(),\n",
    "                           parameters=parameter.dtree_parameter,\n",
    "                           feature_columns= parameter.feature_columns,\n",
    "                           train_df= combine_df.iloc[:12000], \n",
    "                           test_df=combine_df.iloc[12000:14000],\n",
    "                           grid=True,train_target='rent',\n",
    "                           cv_split = 4, trainWithTest1=False, \n",
    "                           test2_df=combine_df.iloc[14000:])"
   ]
  },
  {
   "cell_type": "code",
   "execution_count": 0,
   "metadata": {
    "colab": {
     "base_uri": "https://localhost:8080/",
     "height": 131
    },
    "colab_type": "code",
    "id": "16nWrrXPe0TB",
    "outputId": "866e077a-59ea-4767-c476-7f8fe5b9161f"
   },
   "outputs": [
    {
     "name": "stdout",
     "output_type": "stream",
     "text": [
      "Best Estimator KNeighborsRegressor(algorithm='auto', leaf_size=30, metric='minkowski',\n",
      "                    metric_params=None, n_jobs=None, n_neighbors=4, p=2,\n",
      "                    weights='uniform')\n",
      "Best Parameters:  {'n_neighbors': 4}\n",
      "Best Score:  -3991915.9958125\n",
      "Test Set 1 - Loss: 3911766.0539\n",
      "Test Set 2 - Loss: 3723764.7534\n"
     ]
    }
   ],
   "source": [
    "#KNN\n",
    "modelProcessor.train_model(classifier=KNeighborsRegressor(),parameters=parameter.knn_parameter,\n",
    "                          feature_columns= parameter.feature_columns,\n",
    "                           train_df= combine_df.iloc[:12000], \n",
    "                           test_df=combine_df.iloc[12000:14000],\n",
    "                           grid=True,train_target='rent',\n",
    "                           cv_split = 4, trainWithTest1=False, \n",
    "                           test2_df=combine_df.iloc[14000:])"
   ]
  },
  {
   "cell_type": "code",
   "execution_count": 5,
   "metadata": {
    "colab": {
     "base_uri": "https://localhost:8080/",
     "height": 238
    },
    "colab_type": "code",
    "id": "aqvjEbwHe7Tp",
    "outputId": "00d38eb4-cff7-4e9b-c94c-046e5320838a"
   },
   "outputs": [
    {
     "name": "stdout",
     "output_type": "stream",
     "text": [
      "Best Estimator GradientBoostingRegressor(alpha=0.9, criterion='friedman_mse', init=None,\n",
      "                          learning_rate=0.001, loss='ls', max_depth=3,\n",
      "                          max_features=None, max_leaf_nodes=None,\n",
      "                          min_impurity_decrease=0.0, min_impurity_split=None,\n",
      "                          min_samples_leaf=1, min_samples_split=10,\n",
      "                          min_weight_fraction_leaf=0.0, n_estimators=450,\n",
      "                          n_iter_no_change=None, presort='auto',\n",
      "                          random_state=None, subsample=1.0, tol=0.0001,\n",
      "                          validation_fraction=0.1, verbose=0, warm_start=False)\n",
      "Best Parameters:  {'learning_rate': 0.001, 'min_samples_split': 10, 'n_estimators': 450}\n",
      "Best Score:  -4960787.648104212\n",
      "Test Set 1 - Loss: 4865627.4079\n",
      "Test Set 2 - Loss: 1133123.8333\n"
     ]
    }
   ],
   "source": [
    "#Gradient Boosting\n",
    "modelProcessor.train_model(classifier=GradientBoostingRegressor(loss=\"ls\"),parameters=parameter.gradient_parameter,\n",
    "                           feature_columns= parameter.feature_columns,\n",
    "                           train_df= combine_df.iloc[:12000], \n",
    "                           test_df=combine_df.iloc[12000:14000],\n",
    "                           grid=True,train_target='rent',\n",
    "                           cv_split = 4, trainWithTest1=False, \n",
    "                           test2_df=combine_df.iloc[14000:])"
   ]
  },
  {
   "cell_type": "code",
   "execution_count": 5,
   "metadata": {},
   "outputs": [
    {
     "name": "stdout",
     "output_type": "stream",
     "text": [
      "Best Estimator AdaBoostRegressor(base_estimator=None, learning_rate=1e-05, loss='linear',\n",
      "         n_estimators=250, random_state=None)\n",
      "Best Parameters:  {'learning_rate': 1e-05, 'n_estimators': 250}\n",
      "Best Score:  -2581441.748975116\n",
      "Test Set 1 - Loss: 3059467.7381\n",
      "Test Set 2 - Loss: 4752455.2622\n"
     ]
    }
   ],
   "source": [
    "#Ada Boosting\n",
    "modelProcessor.train_model(classifier=AdaBoostRegressor(),\n",
    "                           parameters=parameter.ada_parameter,\n",
    "                           feature_columns= parameter.feature_columns,\n",
    "                           train_df= combine_df.iloc[:12000], \n",
    "                           test_df=combine_df.iloc[12000:14000],\n",
    "                           grid=True,train_target='rent',\n",
    "                           cv_split = 4, trainWithTest1=False, \n",
    "                           test2_df=combine_df.iloc[14000:])"
   ]
  },
  {
   "cell_type": "code",
   "execution_count": 6,
   "metadata": {
    "colab": {},
    "colab_type": "code",
    "id": "LCbjYlN9czeU"
   },
   "outputs": [],
   "source": [
    "features = [\n",
    "    'bedrooms', 'bathrooms', 'year_built','addr_zip', 'bathrooms','size_sqft', 'no_fee'\n",
    "]"
   ]
  },
  {
   "cell_type": "code",
   "execution_count": 0,
   "metadata": {
    "colab": {
     "base_uri": "https://localhost:8080/",
     "height": 98
    },
    "colab_type": "code",
    "id": "lvXtdqNVPeDI",
    "outputId": "ea58672c-97a8-401e-b52f-910847576ac8"
   },
   "outputs": [
    {
     "name": "stdout",
     "output_type": "stream",
     "text": [
      "Best Estimator LinearRegression(copy_X=True, fit_intercept=True, n_jobs=None, normalize=False)\n",
      "Best Parameters:  {'fit_intercept': True}\n",
      "Best Score:  -2640407.6502291206\n",
      "Test Set 1 - Loss: 3130781.1625\n",
      "Test Set 2 - Loss: 5702636.3532\n"
     ]
    }
   ],
   "source": [
    "#Linear Regression\n",
    "modelProcessor.train_model(classifier=LinearRegression(),\n",
    "                           parameters=parameter.linreg_parameter,\n",
    "                           feature_columns= features,\n",
    "                           train_df= combine_df.iloc[:12000], \n",
    "                           test_df=combine_df.iloc[12000:14000],\n",
    "                           grid=True,train_target='rent',\n",
    "                           cv_split = 4, trainWithTest1=False, \n",
    "                           test2_df=combine_df.iloc[14000:])"
   ]
  },
  {
   "cell_type": "code",
   "execution_count": 9,
   "metadata": {},
   "outputs": [
    {
     "name": "stdout",
     "output_type": "stream",
     "text": [
      "Best Estimator DecisionTreeRegressor(criterion='mse', max_depth=45, max_features=6,\n",
      "           max_leaf_nodes=None, min_impurity_decrease=0.0,\n",
      "           min_impurity_split=None, min_samples_leaf=1,\n",
      "           min_samples_split=10, min_weight_fraction_leaf=0.0,\n",
      "           presort=False, random_state=None, splitter='best')\n",
      "Best Parameters:  {'max_depth': 45, 'max_features': 6, 'min_samples_split': 10}\n",
      "Best Score:  -1896431.5426454877\n",
      "Test Set 1 - Loss: 2335347.4257\n",
      "Test Set 2 - Loss: 6989698.4956\n"
     ]
    }
   ],
   "source": [
    "#Decision Tree\n",
    "parameter.dtree_parameter['max_features'] = np.arange(2,7,2)\n",
    "modelProcessor.train_model(classifier=DecisionTreeRegressor(),\n",
    "                           parameters=parameter.dtree_parameter,\n",
    "                           feature_columns= features,\n",
    "                           train_df= combine_df.iloc[:12000], \n",
    "                           test_df=combine_df.iloc[12000:14000],\n",
    "                           grid=True,train_target='rent',\n",
    "                           cv_split = 4, trainWithTest1=False, \n",
    "                           test2_df=combine_df.iloc[14000:])"
   ]
  },
  {
   "cell_type": "code",
   "execution_count": 0,
   "metadata": {
    "colab": {
     "base_uri": "https://localhost:8080/",
     "height": 131
    },
    "colab_type": "code",
    "id": "WddwXRtYfV2j",
    "outputId": "3f46e77c-3d4e-4def-8cf4-2b24e14f4a3a"
   },
   "outputs": [
    {
     "name": "stdout",
     "output_type": "stream",
     "text": [
      "Best Estimator KNeighborsRegressor(algorithm='auto', leaf_size=30, metric='minkowski',\n",
      "                    metric_params=None, n_jobs=None, n_neighbors=6, p=2,\n",
      "                    weights='uniform')\n",
      "Best Parameters:  {'n_neighbors': 6}\n",
      "Best Score:  -2116593.635138889\n",
      "Test Set 1 - Loss: 2305387.7376\n",
      "Test Set 2 - Loss: 6478483.8429\n"
     ]
    }
   ],
   "source": [
    "#KNN\n",
    "modelProcessor.train_model(classifier=KNeighborsRegressor(),parameters=parameter.knn_parameter,\n",
    "                          feature_columns= features,\n",
    "                           train_df= combine_df.iloc[:12000], \n",
    "                           test_df=combine_df.iloc[12000:14000],\n",
    "                           grid=True,train_target='rent',\n",
    "                           cv_split = 4, trainWithTest1=False, \n",
    "                           test2_df=combine_df.iloc[14000:])"
   ]
  },
  {
   "cell_type": "code",
   "execution_count": 7,
   "metadata": {
    "colab": {
     "base_uri": "https://localhost:8080/",
     "height": 238
    },
    "colab_type": "code",
    "id": "2Xp6lJN1fZ31",
    "outputId": "0b16ef09-f4e7-4c0b-d5b7-7a62f0f99ac4"
   },
   "outputs": [
    {
     "name": "stdout",
     "output_type": "stream",
     "text": [
      "Best Estimator GradientBoostingRegressor(alpha=0.9, criterion='friedman_mse', init=None,\n",
      "                          learning_rate=0.001, loss='ls', max_depth=3,\n",
      "                          max_features=None, max_leaf_nodes=None,\n",
      "                          min_impurity_decrease=0.0, min_impurity_split=None,\n",
      "                          min_samples_leaf=1, min_samples_split=10,\n",
      "                          min_weight_fraction_leaf=0.0, n_estimators=450,\n",
      "                          n_iter_no_change=None, presort='auto',\n",
      "                          random_state=None, subsample=1.0, tol=0.0001,\n",
      "                          validation_fraction=0.1, verbose=0, warm_start=False)\n",
      "Best Parameters:  {'learning_rate': 0.001, 'min_samples_split': 10, 'n_estimators': 450}\n",
      "Best Score:  -4945401.910802327\n",
      "Test Set 1 - Loss: 4874866.8723\n",
      "Test Set 2 - Loss: 1160366.4162\n"
     ]
    }
   ],
   "source": [
    "#Gradient Boosting\n",
    "modelProcessor.train_model(classifier=GradientBoostingRegressor(loss=\"ls\"),parameters=parameter.gradient_parameter,\n",
    "                           feature_columns= features,\n",
    "                           train_df= combine_df.iloc[:12000], \n",
    "                           test_df=combine_df.iloc[12000:14000],\n",
    "                           grid=True,train_target='rent',\n",
    "                           cv_split = 4, trainWithTest1=False, \n",
    "                           test2_df=combine_df.iloc[14000:])"
   ]
  },
  {
   "cell_type": "code",
   "execution_count": 10,
   "metadata": {},
   "outputs": [
    {
     "name": "stdout",
     "output_type": "stream",
     "text": [
      "Best Estimator AdaBoostRegressor(base_estimator=None, learning_rate=0.0001, loss='linear',\n",
      "         n_estimators=300, random_state=None)\n",
      "Best Parameters:  {'learning_rate': 0.0001, 'n_estimators': 300}\n",
      "Best Score:  -2584778.634403259\n",
      "Test Set 1 - Loss: 3172407.7560\n",
      "Test Set 2 - Loss: 4806204.5106\n"
     ]
    }
   ],
   "source": [
    "#Ada Boosting\n",
    "modelProcessor.train_model(classifier=AdaBoostRegressor(),\n",
    "                           parameters=parameter.ada_parameter,\n",
    "                           feature_columns= features,\n",
    "                           train_df= combine_df.iloc[:12000], \n",
    "                           test_df=combine_df.iloc[12000:14000],\n",
    "                           grid=True,train_target='rent',\n",
    "                           cv_split = 4, trainWithTest1=False, \n",
    "                           test2_df=combine_df.iloc[14000:])"
   ]
  },
  {
   "cell_type": "code",
   "execution_count": null,
   "metadata": {},
   "outputs": [],
   "source": []
  }
 ],
 "metadata": {
  "colab": {
   "collapsed_sections": [],
   "include_colab_link": true,
   "name": "ModelTrainResult2.ipynb",
   "provenance": []
  },
  "kernelspec": {
   "display_name": "Python 3",
   "language": "python",
   "name": "python3"
  },
  "language_info": {
   "codemirror_mode": {
    "name": "ipython",
    "version": 3
   },
   "file_extension": ".py",
   "mimetype": "text/x-python",
   "name": "python",
   "nbconvert_exporter": "python",
   "pygments_lexer": "ipython3",
   "version": "3.7.1"
  }
 },
 "nbformat": 4,
 "nbformat_minor": 1
}
