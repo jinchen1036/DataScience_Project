{
 "cells": [
  {
   "cell_type": "code",
   "execution_count": 1,
   "metadata": {},
   "outputs": [],
   "source": [
    "import os\n",
    "os.chdir('../')"
   ]
  },
  {
   "cell_type": "code",
   "execution_count": 2,
   "metadata": {},
   "outputs": [],
   "source": [
    "from Helper.DataLoader import *\n",
    "from Helper.StaticParameters import Parameters\n",
    "from Helper.ModelProcessor import ModelProcessor\n",
    "\n",
    "from sklearn.ensemble import GradientBoostingRegressor, RandomForestRegressor"
   ]
  },
  {
   "cell_type": "code",
   "execution_count": 3,
   "metadata": {},
   "outputs": [],
   "source": [
    "# Init model\n",
    "parameter = Parameters()\n",
    "modelProcessor = ModelProcessor()\n",
    "\n",
    "# Get Data\n",
    "combine_df, train_df_index, test_set1_index, test_set2_index = load_dataset(numeric=True, extract_dataset=False)\n",
    "combine_df = clean_data(combine_df)\n",
    "# combine_df = normalized_dataset(combine_df)"
   ]
  },
  {
   "cell_type": "code",
   "execution_count": 5,
   "metadata": {},
   "outputs": [
    {
     "name": "stdout",
     "output_type": "stream",
     "text": [
      "Train Loss: 175379.2218\n",
      "Test Set 2 - Loss: 6656865.7837\n",
      "Test Set 1 Loss: 1755881.8033\n"
     ]
    }
   ],
   "source": [
    "random_train_pred, random_test1_pred, random_test2_pred = modelProcessor.train_final_model(\n",
    "                                                             RandomForestRegressor(max_features=10,n_estimators=320,\n",
    "                                                                                   criterion='mse',bootstrap=True),\n",
    "                                                             train_df= combine_df.loc[train_df_index], \n",
    "                                                             test_df=combine_df.loc[test_set1_index],\n",
    "                                                             feature_columns = parameter.feature_columns,\n",
    "                                                             train_target='rent', trainWithTest1 = False,\n",
    "                                                             test2_df=combine_df.loc[test_set2_index]\n",
    "                                                            )"
   ]
  },
  {
   "cell_type": "code",
   "execution_count": 6,
   "metadata": {},
   "outputs": [
    {
     "name": "stdout",
     "output_type": "stream",
     "text": [
      "Train Loss: 4886592.3184\n",
      "Test Set 2 - Loss: 1133123.8333\n",
      "Test Set 1 Loss: 4865627.4079\n"
     ]
    }
   ],
   "source": [
    "gradient_train_pred, gradient_test1_pred, gradient_test2_pred = modelProcessor.train_final_model(\n",
    "                                                     GradientBoostingRegressor(learning_rate=0.001,\n",
    "                                                                               n_estimators=450,\n",
    "                                                                               min_samples_split=10),\n",
    "                                                     train_df= combine_df.loc[train_df_index], \n",
    "                                                     test_df=combine_df.loc[test_set1_index],\n",
    "                                                     feature_columns = parameter.feature_columns,\n",
    "                                                     train_target='rent', trainWithTest1 = False,\n",
    "                                                     test2_df=combine_df.loc[test_set2_index]\n",
    "                                                    )"
   ]
  },
  {
   "cell_type": "markdown",
   "metadata": {},
   "source": [
    "# Save the Result CSV File"
   ]
  },
  {
   "cell_type": "code",
   "execution_count": 10,
   "metadata": {},
   "outputs": [],
   "source": [
    "test1_df = combine_df.loc[test_set1_index]\n",
    "test1_df['predictions'] = random_test1_pred\n",
    "test1_df['predictions'].to_csv(\"RandomForest_Prediction_TestSet1.csv\", header=True)"
   ]
  },
  {
   "cell_type": "code",
   "execution_count": 9,
   "metadata": {},
   "outputs": [],
   "source": [
    "test2_df = combine_df.loc[test_set2_index]\n",
    "test2_df['predictions'] = random_test2_pred\n",
    "test2_df['predictions'].to_csv(\"RandomForest_Prediction_TestSet2.csv\", header=True)"
   ]
  },
  {
   "cell_type": "code",
   "execution_count": 23,
   "metadata": {},
   "outputs": [],
   "source": [
    "test2_df['predictions'] = gradient_test2_pred\n",
    "test2_df['predictions'].to_csv(\"GradientBoosting_Prediction_TestSet2.csv\", header=True)"
   ]
  },
  {
   "cell_type": "markdown",
   "metadata": {},
   "source": [
    "# Check Result - If Save Correctly "
   ]
  },
  {
   "cell_type": "code",
   "execution_count": 18,
   "metadata": {},
   "outputs": [],
   "source": [
    "save_test1_df = pd.read_csv('RandomForest_Prediction_TestSet1.csv', index_col=0)\n",
    "new_df = pd.concat([test1_df['rent'],save_test1_df],axis=1)"
   ]
  },
  {
   "cell_type": "code",
   "execution_count": 19,
   "metadata": {},
   "outputs": [
    {
     "data": {
      "text/plain": [
       "(2000, 2)"
      ]
     },
     "execution_count": 19,
     "metadata": {},
     "output_type": "execute_result"
    }
   ],
   "source": [
    "new_df.shape"
   ]
  },
  {
   "cell_type": "code",
   "execution_count": 20,
   "metadata": {},
   "outputs": [
    {
     "data": {
      "text/plain": [
       "(2000, 27)"
      ]
     },
     "execution_count": 20,
     "metadata": {},
     "output_type": "execute_result"
    }
   ],
   "source": [
    "test1_df.shape"
   ]
  },
  {
   "cell_type": "code",
   "execution_count": 21,
   "metadata": {},
   "outputs": [
    {
     "data": {
      "text/plain": [
       "Index(['rent', 'predictions'], dtype='object')"
      ]
     },
     "execution_count": 21,
     "metadata": {},
     "output_type": "execute_result"
    }
   ],
   "source": [
    "new_df.columns"
   ]
  },
  {
   "cell_type": "code",
   "execution_count": 22,
   "metadata": {},
   "outputs": [
    {
     "data": {
      "text/plain": [
       "1755881.8032661323"
      ]
     },
     "execution_count": 22,
     "metadata": {},
     "output_type": "execute_result"
    }
   ],
   "source": [
    "from sklearn.metrics import mean_squared_error\n",
    "mean_squared_error(new_df.rent, new_df.predictions)"
   ]
  },
  {
   "cell_type": "code",
   "execution_count": null,
   "metadata": {},
   "outputs": [],
   "source": []
  }
 ],
 "metadata": {
  "kernelspec": {
   "display_name": "Python 3",
   "language": "python",
   "name": "python3"
  },
  "language_info": {
   "codemirror_mode": {
    "name": "ipython",
    "version": 3
   },
   "file_extension": ".py",
   "mimetype": "text/x-python",
   "name": "python",
   "nbconvert_exporter": "python",
   "pygments_lexer": "ipython3",
   "version": "3.7.1"
  }
 },
 "nbformat": 4,
 "nbformat_minor": 2
}
