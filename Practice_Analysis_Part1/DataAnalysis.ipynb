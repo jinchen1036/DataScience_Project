{
 "cells": [
  {
   "cell_type": "code",
   "execution_count": 1,
   "metadata": {},
   "outputs": [],
   "source": [
    "import numpy as np\n",
    "import pandas as pd\n",
    "# import matplotlib.pyplot as plt\n",
    "\n",
    "from sklearn.linear_model import LinearRegression\n",
    "from sklearn.metrics import mean_squared_error\n",
    "\n",
    "import statsmodels.api as sm\n"
   ]
  },
  {
   "cell_type": "markdown",
   "metadata": {},
   "source": [
    "### Data Analysis Test Set 1"
   ]
  },
  {
   "cell_type": "code",
   "execution_count": 2,
   "metadata": {},
   "outputs": [],
   "source": [
    "test_set1_df = pd.read_csv('https://grantmlong.com/data/SE_rents2018_test1.csv', index_col=0)"
   ]
  },
  {
   "cell_type": "code",
   "execution_count": 18,
   "metadata": {},
   "outputs": [],
   "source": [
    "numeric_df = test_set1_df.select_dtypes(include=[np.number])"
   ]
  },
  {
   "cell_type": "code",
   "execution_count": 26,
   "metadata": {},
   "outputs": [],
   "source": [
    "columns = list(numeric_df.columns)"
   ]
  },
  {
   "cell_type": "code",
   "execution_count": 27,
   "metadata": {},
   "outputs": [],
   "source": [
    "columns.remove('rent')\n",
    "columns.append('const')"
   ]
  },
  {
   "cell_type": "code",
   "execution_count": 28,
   "metadata": {},
   "outputs": [
    {
     "data": {
      "text/plain": [
       "['building_id',\n",
       " 'bedrooms',\n",
       " 'bathrooms',\n",
       " 'size_sqft',\n",
       " 'addr_zip',\n",
       " 'addr_lat',\n",
       " 'addr_lon',\n",
       " 'bin',\n",
       " 'bbl',\n",
       " 'floor_count',\n",
       " 'year_built',\n",
       " 'min_to_subway',\n",
       " 'has_doorman',\n",
       " 'has_elevator',\n",
       " 'has_fireplace',\n",
       " 'has_dishwasher',\n",
       " 'is_furnished',\n",
       " 'has_gym',\n",
       " 'allows_pets',\n",
       " 'has_washer_dryer',\n",
       " 'has_garage',\n",
       " 'has_roofdeck',\n",
       " 'has_concierge',\n",
       " 'has_pool',\n",
       " 'has_garden',\n",
       " 'has_childrens_playroom',\n",
       " 'no_fee',\n",
       " 'floornumber',\n",
       " 'const']"
      ]
     },
     "execution_count": 28,
     "metadata": {},
     "output_type": "execute_result"
    }
   ],
   "source": [
    "columns"
   ]
  },
  {
   "cell_type": "code",
   "execution_count": 29,
   "metadata": {},
   "outputs": [],
   "source": [
    "# Add a constant to our existing dataframe for modeling purposes\n",
    "fixed_set = numeric_df.dropna(axis=0)\n",
    "fixed_set = sm.add_constant(fixed_set)"
   ]
  },
  {
   "cell_type": "code",
   "execution_count": 30,
   "metadata": {},
   "outputs": [
    {
     "data": {
      "text/plain": [
       "(1696,)"
      ]
     },
     "execution_count": 30,
     "metadata": {},
     "output_type": "execute_result"
    }
   ],
   "source": [
    "fixed_set['rent'].shape"
   ]
  },
  {
   "cell_type": "code",
   "execution_count": 31,
   "metadata": {},
   "outputs": [
    {
     "data": {
      "text/plain": [
       "(1696, 29)"
      ]
     },
     "execution_count": 31,
     "metadata": {},
     "output_type": "execute_result"
    }
   ],
   "source": [
    "fixed_set[columns].shape"
   ]
  },
  {
   "cell_type": "code",
   "execution_count": 32,
   "metadata": {},
   "outputs": [
    {
     "name": "stdout",
     "output_type": "stream",
     "text": [
      "                            OLS Regression Results                            \n",
      "==============================================================================\n",
      "Dep. Variable:                   rent   R-squared:                       0.558\n",
      "Model:                            OLS   Adj. R-squared:                  0.550\n",
      "Method:                 Least Squares   F-statistic:                     75.02\n",
      "Date:                Thu, 14 Nov 2019   Prob (F-statistic):          5.96e-271\n",
      "Time:                        12:37:14   Log-Likelihood:                -15131.\n",
      "No. Observations:                1696   AIC:                         3.032e+04\n",
      "Df Residuals:                    1667   BIC:                         3.048e+04\n",
      "Df Model:                          28                                         \n",
      "Covariance Type:            nonrobust                                         \n",
      "==========================================================================================\n",
      "                             coef    std err          t      P>|t|      [0.025      0.975]\n",
      "------------------------------------------------------------------------------------------\n",
      "building_id            -3.166e-05   1.53e-05     -2.069      0.039   -6.17e-05   -1.65e-06\n",
      "bedrooms                 177.7202     55.317      3.213      0.001      69.221     286.219\n",
      "bathrooms               1362.3190    127.406     10.693      0.000    1112.427    1612.211\n",
      "size_sqft                  2.2611      0.119     18.960      0.000       2.027       2.495\n",
      "addr_zip                  -1.2579      0.346     -3.631      0.000      -1.937      -0.578\n",
      "addr_lat               -2640.3033   1485.994     -1.777      0.076   -5554.915     274.308\n",
      "addr_lon               -5793.2053   1795.361     -3.227      0.001   -9314.605   -2271.806\n",
      "bin                      5.86e-05      0.000      0.156      0.876      -0.001       0.001\n",
      "bbl                     4.993e-08   4.02e-07      0.124      0.901   -7.38e-07    8.38e-07\n",
      "floor_count               -8.4441      8.252     -1.023      0.306     -24.629       7.741\n",
      "year_built                 0.0641      0.302      0.212      0.832      -0.528       0.656\n",
      "min_to_subway            -16.6176     11.822     -1.406      0.160     -39.805       6.570\n",
      "has_doorman              211.1440    174.103      1.213      0.225    -130.340     552.628\n",
      "has_elevator             173.2621    136.900      1.266      0.206     -95.253     441.777\n",
      "has_fireplace            263.3133    243.381      1.082      0.279    -214.051     740.678\n",
      "has_dishwasher           -45.9016    105.038     -0.437      0.662    -251.921     160.118\n",
      "is_furnished             266.4534    222.133      1.200      0.230    -169.236     702.143\n",
      "has_gym                  466.9960    171.480      2.723      0.007     130.656     803.336\n",
      "allows_pets              293.2417     99.514      2.947      0.003      98.056     488.428\n",
      "has_washer_dryer         131.9046    116.146      1.136      0.256     -95.902     359.711\n",
      "has_garage                12.5305    142.733      0.088      0.930    -267.423     292.484\n",
      "has_roofdeck             227.3477    124.802      1.822      0.069     -17.438     472.133\n",
      "has_concierge            234.8133    175.976      1.334      0.182    -110.344     579.970\n",
      "has_pool                  55.7636    213.147      0.262      0.794    -362.301     473.828\n",
      "has_garden               193.3720    136.730      1.414      0.157     -74.808     461.552\n",
      "has_childrens_playroom    35.8739    195.799      0.183      0.855    -348.164     419.912\n",
      "no_fee                  -232.4815    105.278     -2.208      0.027    -438.972     -25.991\n",
      "floornumber               22.2673     10.545      2.112      0.035       1.584      42.950\n",
      "const                  -3.086e+05   1.76e+05     -1.751      0.080   -6.54e+05    3.71e+04\n",
      "==============================================================================\n",
      "Omnibus:                     2579.545   Durbin-Watson:                   1.999\n",
      "Prob(Omnibus):                  0.000   Jarque-Bera (JB):          1921309.664\n",
      "Skew:                           8.895   Prob(JB):                         0.00\n",
      "Kurtosis:                     166.926   Cond. No.                     1.02e+13\n",
      "==============================================================================\n",
      "\n",
      "Warnings:\n",
      "[1] Standard Errors assume that the covariance matrix of the errors is correctly specified.\n",
      "[2] The condition number is large, 1.02e+13. This might indicate that there are\n",
      "strong multicollinearity or other numerical problems.\n"
     ]
    }
   ],
   "source": [
    "est = sm.OLS(fixed_set['rent'], \n",
    "             fixed_set[columns].astype(float)).fit()\n",
    "print(est.summary())"
   ]
  },
  {
   "cell_type": "markdown",
   "metadata": {},
   "source": [
    "### Data Analysis Train Set 1"
   ]
  },
  {
   "cell_type": "code",
   "execution_count": 35,
   "metadata": {},
   "outputs": [],
   "source": [
    "train_df = pd.read_csv('https://grantmlong.com/data/SE_rents2018_train.csv', index_col=0)"
   ]
  },
  {
   "cell_type": "code",
   "execution_count": 38,
   "metadata": {},
   "outputs": [],
   "source": [
    "train_numeric_df = train_df.select_dtypes(include=[np.number])"
   ]
  },
  {
   "cell_type": "code",
   "execution_count": 39,
   "metadata": {},
   "outputs": [],
   "source": [
    "train_fixed_set = train_numeric_df.dropna(axis=0)\n",
    "train_fixed_set = sm.add_constant(train_fixed_set)"
   ]
  },
  {
   "cell_type": "code",
   "execution_count": 40,
   "metadata": {},
   "outputs": [
    {
     "data": {
      "text/plain": [
       "(10221,)"
      ]
     },
     "execution_count": 40,
     "metadata": {},
     "output_type": "execute_result"
    }
   ],
   "source": [
    "train_fixed_set['rent'].shape"
   ]
  },
  {
   "cell_type": "code",
   "execution_count": 41,
   "metadata": {},
   "outputs": [
    {
     "data": {
      "text/plain": [
       "(10221, 29)"
      ]
     },
     "execution_count": 41,
     "metadata": {},
     "output_type": "execute_result"
    }
   ],
   "source": [
    "train_fixed_set[columns].shape"
   ]
  },
  {
   "cell_type": "code",
   "execution_count": 42,
   "metadata": {},
   "outputs": [
    {
     "name": "stdout",
     "output_type": "stream",
     "text": [
      "                            OLS Regression Results                            \n",
      "==============================================================================\n",
      "Dep. Variable:                   rent   R-squared:                       0.654\n",
      "Model:                            OLS   Adj. R-squared:                  0.653\n",
      "Method:                 Least Squares   F-statistic:                     687.4\n",
      "Date:                Thu, 14 Nov 2019   Prob (F-statistic):               0.00\n",
      "Time:                        12:46:56   Log-Likelihood:                -90314.\n",
      "No. Observations:               10221   AIC:                         1.807e+05\n",
      "Df Residuals:                   10192   BIC:                         1.809e+05\n",
      "Df Model:                          28                                         \n",
      "Covariance Type:            nonrobust                                         \n",
      "==========================================================================================\n",
      "                             coef    std err          t      P>|t|      [0.025      0.975]\n",
      "------------------------------------------------------------------------------------------\n",
      "building_id            -7.687e-06   6.34e-06     -1.213      0.225   -2.01e-05    4.74e-06\n",
      "bedrooms                 178.8345     21.295      8.398      0.000     137.092     220.577\n",
      "bathrooms               1735.5923     43.119     40.251      0.000    1651.070    1820.115\n",
      "size_sqft                  2.2237      0.045     48.960      0.000       2.135       2.313\n",
      "addr_zip                  -0.7427      0.130     -5.699      0.000      -0.998      -0.487\n",
      "addr_lat                 764.4639    564.699      1.354      0.176    -342.457    1871.385\n",
      "addr_lon               -6067.5802    642.568     -9.443      0.000   -7327.141   -4808.020\n",
      "bin                        0.0001      0.000      0.953      0.341      -0.000       0.000\n",
      "bbl                     -2.22e-07    1.5e-07     -1.479      0.139   -5.16e-07    7.22e-08\n",
      "floor_count              -14.1651      2.887     -4.907      0.000     -19.824      -8.506\n",
      "year_built                 0.0539      0.107      0.505      0.613      -0.155       0.263\n",
      "min_to_subway             -0.0080      0.006     -1.394      0.163      -0.019       0.003\n",
      "has_doorman              121.7150     60.692      2.005      0.045       2.747     240.683\n",
      "has_elevator             375.0224     50.762      7.388      0.000     275.518     474.526\n",
      "has_fireplace            579.0791     90.474      6.401      0.000     401.732     756.426\n",
      "has_dishwasher          -140.6771     38.263     -3.677      0.000    -215.681     -65.674\n",
      "is_furnished             719.2505     97.790      7.355      0.000     527.563     910.938\n",
      "has_gym                  338.6761     60.881      5.563      0.000     219.337     458.015\n",
      "allows_pets              160.9834     36.712      4.385      0.000      89.021     232.946\n",
      "has_washer_dryer         339.3424     42.635      7.959      0.000     255.770     422.915\n",
      "has_garage              -168.6472     51.983     -3.244      0.001    -270.544     -66.751\n",
      "has_roofdeck              90.3319     45.420      1.989      0.047       1.300     179.363\n",
      "has_concierge            149.9051     62.766      2.388      0.017      26.872     272.939\n",
      "has_pool                 223.8702     75.010      2.985      0.003      76.837     370.904\n",
      "has_garden                24.5083     51.722      0.474      0.636     -76.877     125.893\n",
      "has_childrens_playroom    72.5749     69.368      1.046      0.295     -63.400     208.550\n",
      "no_fee                  -217.1786     37.556     -5.783      0.000    -290.796    -143.562\n",
      "floornumber               28.9369      3.654      7.920      0.000      21.775      36.099\n",
      "const                   -4.73e+05   6.37e+04     -7.429      0.000   -5.98e+05   -3.48e+05\n",
      "==============================================================================\n",
      "Omnibus:                    10397.431   Durbin-Watson:                   2.004\n",
      "Prob(Omnibus):                  0.000   Jarque-Bera (JB):          2349232.587\n",
      "Skew:                           4.536   Prob(JB):                         0.00\n",
      "Kurtosis:                      76.715   Cond. No.                     9.96e+12\n",
      "==============================================================================\n",
      "\n",
      "Warnings:\n",
      "[1] Standard Errors assume that the covariance matrix of the errors is correctly specified.\n",
      "[2] The condition number is large, 9.96e+12. This might indicate that there are\n",
      "strong multicollinearity or other numerical problems.\n"
     ]
    }
   ],
   "source": [
    "est = sm.OLS(train_fixed_set['rent'], \n",
    "             train_fixed_set[columns].astype(float)).fit()\n",
    "print(est.summary())"
   ]
  },
  {
   "cell_type": "code",
   "execution_count": null,
   "metadata": {},
   "outputs": [],
   "source": []
  }
 ],
 "metadata": {
  "kernelspec": {
   "display_name": "Python 3",
   "language": "python",
   "name": "python3"
  },
  "language_info": {
   "codemirror_mode": {
    "name": "ipython",
    "version": 3
   },
   "file_extension": ".py",
   "mimetype": "text/x-python",
   "name": "python",
   "nbconvert_exporter": "python",
   "pygments_lexer": "ipython3",
   "version": "3.7.1"
  }
 },
 "nbformat": 4,
 "nbformat_minor": 2
}
