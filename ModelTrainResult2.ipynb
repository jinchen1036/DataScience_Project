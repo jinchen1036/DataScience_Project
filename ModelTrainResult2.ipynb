{
 "cells": [
  {
   "cell_type": "code",
   "execution_count": null,
   "metadata": {},
   "outputs": [],
   "source": [
    "# Only if running in colab\n",
    "from google.colab import drive\n",
    "drive.mount('/content/drive')\n",
    "import os\n",
    "# change the path for your own drive path to the project\n",
    "os.chdir('/content/drive/My Drive/Fall 2019/DataScience/Project/DataScience_Project')\n",
    "os.getcwd()"
   ]
  },
  {
   "cell_type": "code",
   "execution_count": 1,
   "metadata": {},
   "outputs": [],
   "source": [
    "from Helper.DataLoader import *\n",
    "from Helper.StaticParameters import Parameters\n",
    "from ModelProcessor import ModelProcessor\n",
    "\n",
    "from sklearn.neighbors import KNeighborsRegressor\n",
    "from sklearn.linear_model import LinearRegression\n",
    "from sklearn.tree import DecisionTreeClassifier\n",
    "from sklearn.ensemble import GradientBoostingRegressor, AdaBoostRegressor"
   ]
  },
  {
   "cell_type": "code",
   "execution_count": 2,
   "metadata": {},
   "outputs": [],
   "source": [
    "# Init model\n",
    "parameter = Parameters()\n",
    "modelProcessor = ModelProcessor()\n",
    "\n",
    "# Get Data\n",
    "combine_df, train_df_index, test_set1_index, test_set2_index = load_dataset(numeric=True, extract_dataset=False)\n",
    "combine_df = clean_data(combine_df)\n",
    "combine_df = normalized_dataset(combine_df)"
   ]
  },
  {
   "cell_type": "markdown",
   "metadata": {},
   "source": [
    "# Train Model with train set and test with test set 1 \n",
    "  - Test all the hyperparameter by setting grid=True, if false only random test the hyparmeters"
   ]
  },
  {
   "cell_type": "code",
   "execution_count": 3,
   "metadata": {},
   "outputs": [
    {
     "name": "stdout",
     "output_type": "stream",
     "text": [
      "Best Estimator LinearRegression(copy_X=True, fit_intercept=True, n_jobs=None,\n",
      "         normalize=False)\n",
      "Best Parameters:  {'fit_intercept': True}\n",
      "Best Score:  -2462756.8588216035\n",
      "Test Set 1 - Loss: 2870402.2234\n",
      "Test Set 2 - Loss: 5830874.4832\n"
     ]
    }
   ],
   "source": [
    "#Linear Regression\n",
    "modelProcessor.train_model(classifier=LinearRegression(),\n",
    "                           parameters=parameter.linreg_parameter,\n",
    "                           feature_columns= parameter.feature_columns,\n",
    "                           train_df= combine_df.iloc[:12000], \n",
    "                           test_df=combine_df.iloc[12000:14000],\n",
    "                           grid=True,train_target='rent',\n",
    "                           cv_split = 4, trainWithTest1=False, \n",
    "                           test2_df=combine_df.iloc[14000:])"
   ]
  },
  {
   "cell_type": "code",
   "execution_count": null,
   "metadata": {},
   "outputs": [],
   "source": []
  }
 ],
 "metadata": {
  "kernelspec": {
   "display_name": "Python 3",
   "language": "python",
   "name": "python3"
  },
  "language_info": {
   "codemirror_mode": {
    "name": "ipython",
    "version": 3
   },
   "file_extension": ".py",
   "mimetype": "text/x-python",
   "name": "python",
   "nbconvert_exporter": "python",
   "pygments_lexer": "ipython3",
   "version": "3.7.1"
  }
 },
 "nbformat": 4,
 "nbformat_minor": 2
}
