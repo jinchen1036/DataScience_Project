{
  "nbformat": 4,
  "nbformat_minor": 0,
  "metadata": {
    "kernelspec": {
      "display_name": "Python 3",
      "language": "python",
      "name": "python3"
    },
    "language_info": {
      "codemirror_mode": {
        "name": "ipython",
        "version": 3
      },
      "file_extension": ".py",
      "mimetype": "text/x-python",
      "name": "python",
      "nbconvert_exporter": "python",
      "pygments_lexer": "ipython3",
      "version": "3.7.1"
    },
    "colab": {
      "name": "ModelTrainResult2.ipynb",
      "provenance": [],
      "collapsed_sections": [],
      "toc_visible": true,
      "include_colab_link": true
    }
  },
  "cells": [
    {
      "cell_type": "markdown",
      "metadata": {
        "id": "view-in-github",
        "colab_type": "text"
      },
      "source": [
        "<a href=\"https://colab.research.google.com/github/jinchen1036/DataScience_Project/blob/master/ModelTrainResult2.ipynb\" target=\"_parent\"><img src=\"https://colab.research.google.com/assets/colab-badge.svg\" alt=\"Open In Colab\"/></a>"
      ]
    },
    {
      "cell_type": "code",
      "metadata": {
        "id": "lrNUJ7WkPeCy",
        "colab_type": "code",
        "outputId": "8e4f8856-bad9-48fe-9f5a-003f68494536",
        "colab": {
          "base_uri": "https://localhost:8080/",
          "height": 135
        }
      },
      "source": [
        "# Only if running in colab\n",
        "from google.colab import drive\n",
        "drive.mount('/content/drive')\n",
        "import os\n",
        "# change the path for your own drive path to the project\n",
        "os.chdir('/content/drive/My Drive/db_project')\n",
        "os.getcwd()"
      ],
      "execution_count": 0,
      "outputs": [
        {
          "output_type": "stream",
          "text": [
            "Go to this URL in a browser: https://accounts.google.com/o/oauth2/auth?client_id=947318989803-6bn6qk8qdgf4n4g3pfee6491hc0brc4i.apps.googleusercontent.com&redirect_uri=urn%3aietf%3awg%3aoauth%3a2.0%3aoob&response_type=code&scope=email%20https%3a%2f%2fwww.googleapis.com%2fauth%2fdocs.test%20https%3a%2f%2fwww.googleapis.com%2fauth%2fdrive%20https%3a%2f%2fwww.googleapis.com%2fauth%2fdrive.photos.readonly%20https%3a%2f%2fwww.googleapis.com%2fauth%2fpeopleapi.readonly\n",
            "\n",
            "Enter your authorization code:\n",
            "··········\n",
            "Mounted at /content/drive\n"
          ],
          "name": "stdout"
        },
        {
          "output_type": "execute_result",
          "data": {
            "text/plain": [
              "'/content/drive/My Drive/db_project'"
            ]
          },
          "metadata": {
            "tags": []
          },
          "execution_count": 1
        }
      ]
    },
    {
      "cell_type": "code",
      "metadata": {
        "id": "s9BXhkvrPeC6",
        "colab_type": "code",
        "colab": {}
      },
      "source": [
        "from Helper.DataLoader import *\n",
        "from Helper.StaticParameters import Parameters\n",
        "from ModelProcessor import ModelProcessor\n",
        "\n",
        "from sklearn.neighbors import KNeighborsRegressor\n",
        "from sklearn.linear_model import LinearRegression\n",
        "from sklearn.tree import DecisionTreeClassifier\n",
        "from sklearn.ensemble import GradientBoostingRegressor, AdaBoostRegressor"
      ],
      "execution_count": 0,
      "outputs": []
    },
    {
      "cell_type": "code",
      "metadata": {
        "id": "h23-FBBH2oX_",
        "colab_type": "code",
        "outputId": "19cf2fc2-3632-4d66-a6f6-1e57f08037ce",
        "colab": {
          "base_uri": "https://localhost:8080/",
          "height": 33
        }
      },
      "source": [
        "from google.colab import drive\n",
        "drive.mount('/content/drive')"
      ],
      "execution_count": 0,
      "outputs": [
        {
          "output_type": "stream",
          "text": [
            "Drive already mounted at /content/drive; to attempt to forcibly remount, call drive.mount(\"/content/drive\", force_remount=True).\n"
          ],
          "name": "stdout"
        }
      ]
    },
    {
      "cell_type": "code",
      "metadata": {
        "id": "TczfbuPUPeC_",
        "colab_type": "code",
        "colab": {}
      },
      "source": [
        "# Init model\n",
        "parameter = Parameters()\n",
        "modelProcessor = ModelProcessor()\n",
        "\n",
        "# Get Data\n",
        "combine_df, train_df_index, test_set1_index, test_set2_index = load_dataset(numeric=True, extract_dataset=False)\n",
        "combine_df = clean_data(combine_df)\n",
        "combine_df = normalized_dataset(combine_df)"
      ],
      "execution_count": 0,
      "outputs": []
    },
    {
      "cell_type": "markdown",
      "metadata": {
        "id": "aPY6HoPdPeDD",
        "colab_type": "text"
      },
      "source": [
        "# Train Model with train set and test with test set 1 \n",
        "  - Test all the hyperparameter by setting grid=True, if false only random test the hyparmeters"
      ]
    },
    {
      "cell_type": "code",
      "metadata": {
        "id": "b5eBslBcPeDE",
        "colab_type": "code",
        "outputId": "3b936a99-ab99-419c-fd1f-4612a31fb461",
        "colab": {
          "base_uri": "https://localhost:8080/",
          "height": 98
        }
      },
      "source": [
        "#Linear Regression\n",
        "modelProcessor.train_model(classifier=LinearRegression(),\n",
        "                           parameters=parameter.linreg_parameter,\n",
        "                           feature_columns= parameter.feature_columns,\n",
        "                           train_df= combine_df.iloc[:12000], \n",
        "                           test_df=combine_df.iloc[12000:14000],\n",
        "                           grid=True,train_target='rent',\n",
        "                           cv_split = 4, trainWithTest1=False, \n",
        "                           test2_df=combine_df.iloc[14000:])"
      ],
      "execution_count": 0,
      "outputs": [
        {
          "output_type": "stream",
          "text": [
            "Best Estimator LinearRegression(copy_X=True, fit_intercept=True, n_jobs=None, normalize=False)\n",
            "Best Parameters:  {'fit_intercept': True}\n",
            "Best Score:  -2462756.858821604\n",
            "Test Set 1 - Loss: 2870402.2234\n",
            "Test Set 2 - Loss: 5830874.4832\n"
          ],
          "name": "stdout"
        }
      ]
    },
    {
      "cell_type": "code",
      "metadata": {
        "id": "t59lC9jvdZh6",
        "colab_type": "code",
        "outputId": "09512107-5619-4fe9-e968-688130a16b77",
        "colab": {
          "base_uri": "https://localhost:8080/",
          "height": 265
        }
      },
      "source": [
        "#Decision Tree\n",
        "modelProcessor.train_model(classifier=DecisionTreeClassifier(),\n",
        "                           parameters=parameter.dtree_parameter,\n",
        "                           feature_columns= parameter.feature_columns,\n",
        "                           train_df= combine_df.iloc[:12000], \n",
        "                           test_df=combine_df.iloc[12000:14000],\n",
        "                           grid=True,train_target='rent',\n",
        "                           cv_split = 4, trainWithTest1=False, \n",
        "                           test2_df=combine_df.iloc[14000:])"
      ],
      "execution_count": 0,
      "outputs": [
        {
          "output_type": "stream",
          "text": [
            "/usr/local/lib/python3.6/dist-packages/sklearn/model_selection/_split.py:657: Warning: The least populated class in y has only 1 members, which is too few. The minimum number of members in any class cannot be less than n_splits=4.\n",
            "  % (min_groups, self.n_splits)), Warning)\n",
            "/usr/local/lib/python3.6/dist-packages/sklearn/model_selection/_search.py:814: DeprecationWarning: The default of the `iid` parameter will change from True to False in version 0.22 and will be removed in 0.24. This will change numeric results when test-set sizes are unequal.\n",
            "  DeprecationWarning)\n"
          ],
          "name": "stderr"
        },
        {
          "output_type": "stream",
          "text": [
            "Best Estimator DecisionTreeClassifier(class_weight=None, criterion='gini', max_depth=40,\n",
            "                       max_features=14, max_leaf_nodes=None,\n",
            "                       min_impurity_decrease=0.0, min_impurity_split=None,\n",
            "                       min_samples_leaf=1, min_samples_split=90,\n",
            "                       min_weight_fraction_leaf=0.0, presort=False,\n",
            "                       random_state=None, splitter='best')\n",
            "Best Parameters:  {'max_depth': 40, 'max_features': 14, 'min_samples_split': 90}\n",
            "Best Score:  -2741854.142\n",
            "Test Set 1 - Loss: 3454312.8975\n",
            "Test Set 2 - Loss: 4828894.5800\n"
          ],
          "name": "stdout"
        }
      ]
    },
    {
      "cell_type": "code",
      "metadata": {
        "id": "16nWrrXPe0TB",
        "colab_type": "code",
        "outputId": "866e077a-59ea-4767-c476-7f8fe5b9161f",
        "colab": {
          "base_uri": "https://localhost:8080/",
          "height": 131
        }
      },
      "source": [
        "#KNN\n",
        "modelProcessor.train_model(classifier=KNeighborsRegressor(),parameters=parameter.knn_parameter,\n",
        "                          feature_columns= parameter.feature_columns,\n",
        "                           train_df= combine_df.iloc[:12000], \n",
        "                           test_df=combine_df.iloc[12000:14000],\n",
        "                           grid=True,train_target='rent',\n",
        "                           cv_split = 4, trainWithTest1=False, \n",
        "                           test2_df=combine_df.iloc[14000:])"
      ],
      "execution_count": 0,
      "outputs": [
        {
          "output_type": "stream",
          "text": [
            "Best Estimator KNeighborsRegressor(algorithm='auto', leaf_size=30, metric='minkowski',\n",
            "                    metric_params=None, n_jobs=None, n_neighbors=4, p=2,\n",
            "                    weights='uniform')\n",
            "Best Parameters:  {'n_neighbors': 4}\n",
            "Best Score:  -3991915.9958125\n",
            "Test Set 1 - Loss: 3911766.0539\n",
            "Test Set 2 - Loss: 3723764.7534\n"
          ],
          "name": "stdout"
        }
      ]
    },
    {
      "cell_type": "code",
      "metadata": {
        "id": "aqvjEbwHe7Tp",
        "colab_type": "code",
        "outputId": "0fdbd2e4-4a8d-4098-c550-105b6951f0ae",
        "colab": {
          "base_uri": "https://localhost:8080/",
          "height": 228
        }
      },
      "source": [
        "#Gradient Boosting\n",
        "modelProcessor.train_model(classifier=GradientBoostingRegressor(loss=\"lad\"),parameters=parameter.gradient_parameter,\n",
        "                           feature_columns= parameter.feature_columns,\n",
        "                           train_df= combine_df.iloc[:12000], \n",
        "                           test_df=combine_df.iloc[12000:14000],\n",
        "                           grid=True,train_target='rent',\n",
        "                           cv_split = 4, trainWithTest1=False, \n",
        "                           test2_df=combine_df.iloc[14000:])"
      ],
      "execution_count": 0,
      "outputs": [
        {
          "output_type": "stream",
          "text": [
            "Best Estimator GradientBoostingRegressor(alpha=0.9, criterion='friedman_mse', init=None,\n",
            "                          learning_rate=0.001, loss='lad', max_depth=3,\n",
            "                          max_features=None, max_leaf_nodes=None,\n",
            "                          min_impurity_decrease=0.0, min_impurity_split=None,\n",
            "                          min_samples_leaf=1, min_samples_split=10,\n",
            "                          min_weight_fraction_leaf=0.0, n_estimators=450,\n",
            "                          n_iter_no_change=None, presort='auto',\n",
            "                          random_state=None, subsample=1.0, tol=0.0001,\n",
            "                          validation_fraction=0.1, verbose=0, warm_start=False)\n",
            "Best Parameters:  {'learning_rate': 0.001, 'min_samples_split': 10, 'n_estimators': 450}\n",
            "Best Score:  -7676390.8855923135\n",
            "Test Set 1 - Loss: 6768428.8347\n",
            "Test Set 2 - Loss: 108557.3281\n"
          ],
          "name": "stdout"
        }
      ]
    },
    {
      "cell_type": "code",
      "metadata": {
        "id": "LCbjYlN9czeU",
        "colab_type": "code",
        "colab": {}
      },
      "source": [
        "features = [\n",
        "    'bedrooms', 'bathrooms', 'year_built','addr_zip', 'bathrooms','size_sqft', 'no_fee'\n",
        "]"
      ],
      "execution_count": 0,
      "outputs": []
    },
    {
      "cell_type": "code",
      "metadata": {
        "id": "lvXtdqNVPeDI",
        "colab_type": "code",
        "outputId": "ea58672c-97a8-401e-b52f-910847576ac8",
        "colab": {
          "base_uri": "https://localhost:8080/",
          "height": 98
        }
      },
      "source": [
        "#Linear Regression\n",
        "modelProcessor.train_model(classifier=LinearRegression(),\n",
        "                           parameters=parameter.linreg_parameter,\n",
        "                           feature_columns= features,\n",
        "                           train_df= combine_df.iloc[:12000], \n",
        "                           test_df=combine_df.iloc[12000:14000],\n",
        "                           grid=True,train_target='rent',\n",
        "                           cv_split = 4, trainWithTest1=False, \n",
        "                           test2_df=combine_df.iloc[14000:])"
      ],
      "execution_count": 0,
      "outputs": [
        {
          "output_type": "stream",
          "text": [
            "Best Estimator LinearRegression(copy_X=True, fit_intercept=True, n_jobs=None, normalize=False)\n",
            "Best Parameters:  {'fit_intercept': True}\n",
            "Best Score:  -2640407.6502291206\n",
            "Test Set 1 - Loss: 3130781.1625\n",
            "Test Set 2 - Loss: 5702636.3532\n"
          ],
          "name": "stdout"
        }
      ]
    },
    {
      "cell_type": "code",
      "metadata": {
        "id": "WddwXRtYfV2j",
        "colab_type": "code",
        "outputId": "3f46e77c-3d4e-4def-8cf4-2b24e14f4a3a",
        "colab": {
          "base_uri": "https://localhost:8080/",
          "height": 131
        }
      },
      "source": [
        "#KNN\n",
        "modelProcessor.train_model(classifier=KNeighborsRegressor(),parameters=parameter.knn_parameter,\n",
        "                          feature_columns= features,\n",
        "                           train_df= combine_df.iloc[:12000], \n",
        "                           test_df=combine_df.iloc[12000:14000],\n",
        "                           grid=True,train_target='rent',\n",
        "                           cv_split = 4, trainWithTest1=False, \n",
        "                           test2_df=combine_df.iloc[14000:])"
      ],
      "execution_count": 0,
      "outputs": [
        {
          "output_type": "stream",
          "text": [
            "Best Estimator KNeighborsRegressor(algorithm='auto', leaf_size=30, metric='minkowski',\n",
            "                    metric_params=None, n_jobs=None, n_neighbors=6, p=2,\n",
            "                    weights='uniform')\n",
            "Best Parameters:  {'n_neighbors': 6}\n",
            "Best Score:  -2116593.635138889\n",
            "Test Set 1 - Loss: 2305387.7376\n",
            "Test Set 2 - Loss: 6478483.8429\n"
          ],
          "name": "stdout"
        }
      ]
    },
    {
      "cell_type": "code",
      "metadata": {
        "id": "2Xp6lJN1fZ31",
        "colab_type": "code",
        "outputId": "46e9d48f-27b1-433e-f751-5754beb36c17",
        "colab": {
          "base_uri": "https://localhost:8080/",
          "height": 228
        }
      },
      "source": [
        "#Gradient Boosting\n",
        "modelProcessor.train_model(classifier=GradientBoostingRegressor(loss=\"lad\"),parameters=parameter.gradient_parameter,\n",
        "                           feature_columns= features,\n",
        "                           train_df= combine_df.iloc[:12000], \n",
        "                           test_df=combine_df.iloc[12000:14000],\n",
        "                           grid=True,train_target='rent',\n",
        "                           cv_split = 4, trainWithTest1=False, \n",
        "                           test2_df=combine_df.iloc[14000:])"
      ],
      "execution_count": 0,
      "outputs": [
        {
          "output_type": "stream",
          "text": [
            "Best Estimator GradientBoostingRegressor(alpha=0.9, criterion='friedman_mse', init=None,\n",
            "                          learning_rate=0.001, loss='lad', max_depth=3,\n",
            "                          max_features=None, max_leaf_nodes=None,\n",
            "                          min_impurity_decrease=0.0, min_impurity_split=None,\n",
            "                          min_samples_leaf=1, min_samples_split=10,\n",
            "                          min_weight_fraction_leaf=0.0, n_estimators=450,\n",
            "                          n_iter_no_change=None, presort='auto',\n",
            "                          random_state=None, subsample=1.0, tol=0.0001,\n",
            "                          validation_fraction=0.1, verbose=0, warm_start=False)\n",
            "Best Parameters:  {'learning_rate': 0.001, 'min_samples_split': 10, 'n_estimators': 450}\n",
            "Best Score:  -7504214.525445441\n",
            "Test Set 1 - Loss: 6613888.0585\n",
            "Test Set 2 - Loss: 147322.2079\n"
          ],
          "name": "stdout"
        }
      ]
    }
  ]
}