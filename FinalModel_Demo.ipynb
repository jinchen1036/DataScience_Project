{
 "cells": [
  {
   "cell_type": "code",
   "execution_count": 1,
   "metadata": {
    "colab": {},
    "colab_type": "code",
    "id": "IsqLU9LRntCS"
   },
   "outputs": [],
   "source": [
    "import os\n",
    "os.chdir('../')"
   ]
  },
  {
   "cell_type": "code",
   "execution_count": 8,
   "metadata": {
    "colab": {
     "base_uri": "https://localhost:8080/",
     "height": 122
    },
    "colab_type": "code",
    "executionInfo": {
     "elapsed": 25534,
     "status": "ok",
     "timestamp": 1575173375666,
     "user": {
      "displayName": "Xiaohong Zhu",
      "photoUrl": "",
      "userId": "18342359153303905606"
     },
     "user_tz": 300
    },
    "id": "2qAsxi9fpB-E",
    "outputId": "df279855-ba6b-4f56-ccda-c41e4ee073f5"
   },
   "outputs": [
    {
     "name": "stdout",
     "output_type": "stream",
     "text": [
      "Go to this URL in a browser: https://accounts.google.com/o/oauth2/auth?client_id=947318989803-6bn6qk8qdgf4n4g3pfee6491hc0brc4i.apps.googleusercontent.com&redirect_uri=urn%3aietf%3awg%3aoauth%3a2.0%3aoob&response_type=code&scope=email%20https%3a%2f%2fwww.googleapis.com%2fauth%2fdocs.test%20https%3a%2f%2fwww.googleapis.com%2fauth%2fdrive%20https%3a%2f%2fwww.googleapis.com%2fauth%2fdrive.photos.readonly%20https%3a%2f%2fwww.googleapis.com%2fauth%2fpeopleapi.readonly\n",
      "\n",
      "Enter your authorization code:\n",
      "··········\n",
      "Mounted at /content/gdrive\n"
     ]
    }
   ],
   "source": [
    "from google.colab import drive\n",
    "drive.mount('/content/gdrive')\n",
    "%cd /content/gdrive/My\\ Drive/Colab\\ Notebooks/DataScience_Project"
   ]
  },
  {
   "cell_type": "code",
   "execution_count": 2,
   "metadata": {
    "colab": {},
    "colab_type": "code",
    "id": "QMrtxczDntCX"
   },
   "outputs": [],
   "source": [
    "from Helper.DataLoader import *\n",
    "from Helper.ModelProcessor import ModelProcessor\n",
    "from Helper.DataVisualization import statistic_analysis\n",
    "from sklearn.ensemble import GradientBoostingRegressor, RandomForestRegressor"
   ]
  },
  {
   "cell_type": "code",
   "execution_count": 3,
   "metadata": {
    "colab": {
     "base_uri": "https://localhost:8080/",
     "height": 204
    },
    "colab_type": "code",
    "executionInfo": {
     "elapsed": 3199,
     "status": "ok",
     "timestamp": 1575173679766,
     "user": {
      "displayName": "Xiaohong Zhu",
      "photoUrl": "",
      "userId": "18342359153303905606"
     },
     "user_tz": 300
    },
    "id": "o3D2AkTEntCZ",
    "outputId": "751a6e9f-fe19-4978-a96d-54f5c451dddf"
   },
   "outputs": [
    {
     "name": "stderr",
     "output_type": "stream",
     "text": [
      "/Users/jinchen/anaconda3/lib/python3.7/site-packages/pandas/core/generic.py:5434: SettingWithCopyWarning: \n",
      "A value is trying to be set on a copy of a slice from a DataFrame\n",
      "\n",
      "See the caveats in the documentation: http://pandas.pydata.org/pandas-docs/stable/indexing.html#indexing-view-versus-copy\n",
      "  self._update_inplace(new_data)\n",
      "/Users/jinchen/anaconda3/lib/python3.7/site-packages/pandas/core/indexing.py:543: SettingWithCopyWarning: \n",
      "A value is trying to be set on a copy of a slice from a DataFrame.\n",
      "Try using .loc[row_indexer,col_indexer] = value instead\n",
      "\n",
      "See the caveats in the documentation: http://pandas.pydata.org/pandas-docs/stable/indexing.html#indexing-view-versus-copy\n",
      "  self.obj[item] = s\n"
     ]
    }
   ],
   "source": [
    "# Init model\n",
    "modelProcessor = ModelProcessor()\n",
    "\n",
    "# Get Data\n",
    "combine_df, train_df_index, test_set1_index,test_set2_index, test_set3_index = load_dataset(numeric=False, extra_dataset=True)\n",
    "combine_df = transform_data(combine_df)\n",
    "combine_df = clean_data(combine_df)"
   ]
  },
  {
   "cell_type": "code",
   "execution_count": 12,
   "metadata": {
    "colab": {
     "base_uri": "https://localhost:8080/",
     "height": 663
    },
    "colab_type": "code",
    "executionInfo": {
     "elapsed": 355,
     "status": "ok",
     "timestamp": 1575173694081,
     "user": {
      "displayName": "Xiaohong Zhu",
      "photoUrl": "",
      "userId": "18342359153303905606"
     },
     "user_tz": 300
    },
    "id": "HMbwc5EOntCc",
    "outputId": "c201b1b0-92ea-4a69-c478-90c3cc380536"
   },
   "outputs": [
    {
     "name": "stdout",
     "output_type": "stream",
     "text": [
      "<class 'pandas.core.frame.DataFrame'>\n",
      "Int64Index: 18000 entries, 7236931 to 7450378\n",
      "Data columns (total 33 columns):\n",
      "building_id               18000 non-null int64\n",
      "bedrooms                  18000 non-null int64\n",
      "bathrooms                 18000 non-null float64\n",
      "size_sqft                 18000 non-null float64\n",
      "addr_city                 18000 non-null int64\n",
      "addr_zip                  18000 non-null int64\n",
      "addr_lat                  18000 non-null float64\n",
      "addr_lon                  18000 non-null float64\n",
      "bin                       18000 non-null float64\n",
      "bbl                       18000 non-null int64\n",
      "floor_count               18000 non-null float64\n",
      "year_built                18000 non-null float64\n",
      "min_to_subway             18000 non-null float64\n",
      "has_doorman               18000 non-null int64\n",
      "has_elevator              18000 non-null int64\n",
      "has_fireplace             18000 non-null int64\n",
      "has_dishwasher            18000 non-null int64\n",
      "is_furnished              18000 non-null int64\n",
      "has_gym                   18000 non-null int64\n",
      "allows_pets               18000 non-null int64\n",
      "has_washer_dryer          18000 non-null int64\n",
      "has_garage                18000 non-null int64\n",
      "has_roofdeck              18000 non-null int64\n",
      "has_concierge             18000 non-null int64\n",
      "has_pool                  18000 non-null int64\n",
      "has_garden                18000 non-null int64\n",
      "has_childrens_playroom    18000 non-null int64\n",
      "rent                      14000 non-null float64\n",
      "no_fee                    18000 non-null int64\n",
      "neighborhood              18000 non-null int64\n",
      "borough                   18000 non-null int64\n",
      "floornumber               18000 non-null float64\n",
      "income                    18000 non-null float64\n",
      "dtypes: float64(11), int64(22)\n",
      "memory usage: 4.7 MB\n"
     ]
    }
   ],
   "source": [
    "combine_df.info()"
   ]
  },
  {
   "cell_type": "code",
   "execution_count": 13,
   "metadata": {
    "colab": {
     "base_uri": "https://localhost:8080/",
     "height": 1000
    },
    "colab_type": "code",
    "executionInfo": {
     "elapsed": 445,
     "status": "ok",
     "timestamp": 1575173738174,
     "user": {
      "displayName": "Xiaohong Zhu",
      "photoUrl": "",
      "userId": "18342359153303905606"
     },
     "user_tz": 300
    },
    "id": "VGIJajOFntCe",
    "outputId": "d0eb16cb-7ca6-4814-82aa-f01a8820c225"
   },
   "outputs": [
    {
     "name": "stdout",
     "output_type": "stream",
     "text": [
      "                            OLS Regression Results                            \n",
      "==============================================================================\n",
      "Dep. Variable:                   rent   R-squared:                       0.715\n",
      "Model:                            OLS   Adj. R-squared:                  0.714\n",
      "Method:                 Least Squares   F-statistic:                     1094.\n",
      "Date:                Sun, 01 Dec 2019   Prob (F-statistic):               0.00\n",
      "Time:                        04:15:37   Log-Likelihood:            -1.2257e+05\n",
      "No. Observations:               14000   AIC:                         2.452e+05\n",
      "Df Residuals:                   13967   BIC:                         2.455e+05\n",
      "Df Model:                          32                                         \n",
      "Covariance Type:            nonrobust                                         \n",
      "==========================================================================================\n",
      "                             coef    std err          t      P>|t|      [0.025      0.975]\n",
      "------------------------------------------------------------------------------------------\n",
      "const                  -4.158e+05   5.59e+04     -7.443      0.000   -5.25e+05   -3.06e+05\n",
      "building_id            -2.224e-06   3.29e-06     -0.676      0.499   -8.68e-06    4.23e-06\n",
      "bedrooms                 -35.9538     17.411     -2.065      0.039     -70.082      -1.826\n",
      "bathrooms               1123.8488     37.467     29.996      0.000    1050.409    1197.288\n",
      "size_sqft                  3.7857      0.047     80.208      0.000       3.693       3.878\n",
      "addr_city                -16.7101      2.765     -6.044      0.000     -22.129     -11.291\n",
      "addr_zip                   0.4480      0.166      2.693      0.007       0.122       0.774\n",
      "addr_lat                 133.8527    461.175      0.290      0.772    -770.113    1037.818\n",
      "addr_lon               -5448.1351    566.276     -9.621      0.000   -6558.112   -4338.158\n",
      "bin                        0.0003      0.000      2.326      0.020     4.1e-05       0.000\n",
      "bbl                    -8.976e-07   1.32e-07     -6.778      0.000   -1.16e-06   -6.38e-07\n",
      "floor_count              -14.1944      2.243     -6.329      0.000     -18.591      -9.798\n",
      "year_built                 0.5864      0.476      1.233      0.218      -0.346       1.519\n",
      "min_to_subway            -19.8655      3.690     -5.383      0.000     -27.099     -12.632\n",
      "has_doorman              128.5597     48.945      2.627      0.009      32.620     224.499\n",
      "has_elevator             237.0944     39.653      5.979      0.000     159.369     314.819\n",
      "has_fireplace            181.5349     71.863      2.526      0.012      40.674     322.396\n",
      "has_dishwasher          -203.4875     30.318     -6.712      0.000    -262.914    -144.060\n",
      "is_furnished             687.2849     75.847      9.061      0.000     538.614     835.956\n",
      "has_gym                  304.8398     49.511      6.157      0.000     207.793     401.887\n",
      "allows_pets              153.5008     28.900      5.311      0.000      96.852     210.149\n",
      "has_washer_dryer         208.0524     34.029      6.114      0.000     141.351     274.754\n",
      "has_garage              -100.2523     41.234     -2.431      0.015    -181.076     -19.429\n",
      "has_roofdeck             137.0100     37.078      3.695      0.000      64.331     209.689\n",
      "has_concierge            209.1359     51.367      4.071      0.000     108.449     309.822\n",
      "has_pool                 142.8869     60.883      2.347      0.019      23.549     262.225\n",
      "has_garden               -32.6710     40.701     -0.803      0.422    -112.450      47.108\n",
      "has_childrens_playroom    29.7631     55.967      0.532      0.595     -79.940     139.466\n",
      "no_fee                   -41.2823     29.853     -1.383      0.167     -99.798      17.233\n",
      "neighborhood               2.4121      0.296      8.143      0.000       1.831       2.993\n",
      "borough                  499.0602     45.517     10.964      0.000     409.840     588.280\n",
      "floornumber               29.4886      2.757     10.695      0.000      24.084      34.893\n",
      "income                     0.0079      0.001     14.385      0.000       0.007       0.009\n",
      "==============================================================================\n",
      "Omnibus:                    16346.126   Durbin-Watson:                   2.016\n",
      "Prob(Omnibus):                  0.000   Jarque-Bera (JB):          6531067.747\n",
      "Skew:                           5.656   Prob(JB):                         0.00\n",
      "Kurtosis:                     108.205   Cond. No.                     1.11e+13\n",
      "==============================================================================\n",
      "\n",
      "Warnings:\n",
      "[1] Standard Errors assume that the covariance matrix of the errors is correctly specified.\n",
      "[2] The condition number is large, 1.11e+13. This might indicate that there are\n",
      "strong multicollinearity or other numerical problems.\n"
     ]
    },
    {
     "name": "stderr",
     "output_type": "stream",
     "text": [
      "/usr/local/lib/python3.6/dist-packages/numpy/core/fromnumeric.py:2495: FutureWarning: Method .ptp is deprecated and will be removed in a future version. Use numpy.ptp instead.\n",
      "  return ptp(axis=axis, out=out, **kwargs)\n"
     ]
    }
   ],
   "source": [
    "statistic_analysis(combine_df)"
   ]
  },
  {
   "cell_type": "code",
   "execution_count": 45,
   "metadata": {
    "colab": {
     "base_uri": "https://localhost:8080/",
     "height": 68
    },
    "colab_type": "code",
    "executionInfo": {
     "elapsed": 13701,
     "status": "ok",
     "timestamp": 1575175461887,
     "user": {
      "displayName": "Xiaohong Zhu",
      "photoUrl": "",
      "userId": "18342359153303905606"
     },
     "user_tz": 300
    },
    "id": "WHEPOzPNntCg",
    "outputId": "b32e333a-9d1f-4e5b-80a6-6603b28f1430"
   },
   "outputs": [
    {
     "name": "stdout",
     "output_type": "stream",
     "text": [
      "Train Loss: 177974.2631\n",
      "Test Set 1 Loss: 1736093.2218\n",
      "Test Set 2 Loss: 6923559.1952\n"
     ]
    }
   ],
   "source": [
    "features = ['bathrooms','size_sqft','addr_city','min_to_subway','has_elevator','has_dishwasher','is_furnished',\n",
    "            'has_gym','allows_pets','has_washer_dryer','has_roofdeck','has_concierge','income','neighborhood','borough', 'addr_zip']\n",
    "\n",
    "\n",
    "random_train_pred, random_test1_pred, random_test2_pred = modelProcessor.train_final_model(\n",
    "                                                             RandomForestRegressor(max_features=10,n_estimators=320,\n",
    "                                                                                   criterion='mse',bootstrap=True),\n",
    "                                                             train_df= combine_df.loc[train_df_index], \n",
    "                                                             test_df=combine_df.loc[test_set1_index],\n",
    "                                                             feature_columns = features,\n",
    "                                                             train_target='rent', trainWithTest1 = False,\n",
    "                                                             test2_df=combine_df.loc[test_set2_index]\n",
    "                                                            )"
   ]
  },
  {
   "cell_type": "code",
   "execution_count": 43,
   "metadata": {
    "colab": {
     "base_uri": "https://localhost:8080/",
     "height": 68
    },
    "colab_type": "code",
    "executionInfo": {
     "elapsed": 14336,
     "status": "ok",
     "timestamp": 1575175408547,
     "user": {
      "displayName": "Xiaohong Zhu",
      "photoUrl": "",
      "userId": "18342359153303905606"
     },
     "user_tz": 300
    },
    "id": "TNPGZK1gntCk",
    "outputId": "2b880b0f-760c-4548-ed95-d939820a0423"
   },
   "outputs": [
    {
     "name": "stdout",
     "output_type": "stream",
     "text": [
      "Train Loss: 170740.8538\n",
      "Test Set 1 Loss: 1711891.1600\n",
      "Test Set 2 Loss: 6981411.7092\n"
     ]
    }
   ],
   "source": [
    "features = ['bathrooms','size_sqft','addr_city','min_to_subway','has_elevator','has_dishwasher','is_furnished',\n",
    "            'has_gym','allows_pets','has_washer_dryer','has_roofdeck','has_concierge','floornumber',\n",
    "            'income','neighborhood','borough', 'addr_zip']\n",
    "\n",
    "random_train_pred, random_test1_pred, random_test2_pred = modelProcessor.train_final_model(\n",
    "                                                             RandomForestRegressor(max_features=10,n_estimators=320,\n",
    "                                                                                   criterion='mse',bootstrap=True),\n",
    "                                                             train_df= combine_df.loc[train_df_index], \n",
    "                                                             test_df=combine_df.loc[test_set1_index],\n",
    "                                                             feature_columns = features,\n",
    "                                                             train_target='rent', trainWithTest1 = False,\n",
    "                                                             test2_df=combine_df.loc[test_set2_index]\n",
    "                                                            )"
   ]
  },
  {
   "cell_type": "code",
   "execution_count": 4,
   "metadata": {
    "colab": {
     "base_uri": "https://localhost:8080/",
     "height": 68
    },
    "colab_type": "code",
    "executionInfo": {
     "elapsed": 13639,
     "status": "ok",
     "timestamp": 1575178879971,
     "user": {
      "displayName": "Xiaohong Zhu",
      "photoUrl": "",
      "userId": "18342359153303905606"
     },
     "user_tz": 300
    },
    "id": "KMPhEBmontCi",
    "outputId": "51138f00-161c-4a63-8607-24d482a02632"
   },
   "outputs": [
    {
     "name": "stdout",
     "output_type": "stream",
     "text": [
      "Train Loss: 170889.9720\n",
      "Test Set 1 Loss: 1688772.5375\n",
      "Test Set 2 Loss: 4767364.8313\n"
     ]
    }
   ],
   "source": [
    "features = ['bathrooms','size_sqft','addr_city','min_to_subway','has_elevator','has_dishwasher','is_furnished',\n",
    "            'has_gym','allows_pets','has_washer_dryer','has_roofdeck','has_concierge','floornumber',\n",
    "            'income','neighborhood','borough', 'addr_zip']\n",
    "\n",
    "\n",
    "random_train_pred_a, random_test1_pred_a, random_test2_pred_a = modelProcessor.train_final_model(\n",
    "                                                             RandomForestRegressor(max_features=10,n_estimators=320,\n",
    "                                                                                   criterion='mse',bootstrap=True),\n",
    "                                                             train_df= combine_df.loc[train_df_index], \n",
    "                                                             test_df=combine_df.loc[test_set1_index],\n",
    "                                                             feature_columns = features,\n",
    "                                                             train_target='rent', trainWithTest1 = False,\n",
    "                                                             test2_df=combine_df.loc[test_set3_index]\n",
    "                                                            )"
   ]
  },
  {
   "cell_type": "code",
   "execution_count": 37,
   "metadata": {
    "colab": {
     "base_uri": "https://localhost:8080/",
     "height": 68
    },
    "colab_type": "code",
    "executionInfo": {
     "elapsed": 13566,
     "status": "ok",
     "timestamp": 1575178895450,
     "user": {
      "displayName": "Xiaohong Zhu",
      "photoUrl": "",
      "userId": "18342359153303905606"
     },
     "user_tz": 300
    },
    "id": "7-fcSjMsntCm",
    "outputId": "b35a740a-0578-4653-e4a1-1fb75ad108f1"
   },
   "outputs": [
    {
     "name": "stdout",
     "output_type": "stream",
     "text": [
      "Train Loss: 168849.7695\n",
      "Test Set 1 Loss: 1698491.5266\n",
      "Test Set 2 Loss: 4725871.8365\n"
     ]
    }
   ],
   "source": [
    "features = ['bathrooms','size_sqft','addr_city','min_to_subway','has_elevator','has_dishwasher','is_furnished',\n",
    "            'has_gym','allows_pets','has_washer_dryer','has_roofdeck','has_concierge','floornumber',\n",
    "            'income','neighborhood','borough', 'addr_zip']\n",
    "\n",
    "random_train_pred_b, random_test1_pred_b, random_test2_pred_b = modelProcessor.train_final_model(\n",
    "                                                             RandomForestRegressor(max_features=10,n_estimators=330,\n",
    "                                                                                   criterion='mse',bootstrap=True),\n",
    "                                                             train_df= combine_df.loc[train_df_index], \n",
    "                                                             test_df=combine_df.loc[test_set1_index],\n",
    "                                                             feature_columns = features,\n",
    "                                                             train_target='rent', trainWithTest1 = False,\n",
    "                                                             test2_df=combine_df.loc[test_set3_index]\n",
    "                                                            )"
   ]
  },
  {
   "cell_type": "code",
   "execution_count": 19,
   "metadata": {},
   "outputs": [
    {
     "name": "stdout",
     "output_type": "stream",
     "text": [
      "Train Loss: 166283.7130\n",
      "Test Set 1 Loss: 1692528.0374\n",
      "Test Set 2 Loss: 4701079.1129\n"
     ]
    }
   ],
   "source": [
    "features = ['bathrooms','size_sqft','addr_city','min_to_subway','has_elevator','has_dishwasher','is_furnished',\n",
    "            'has_gym','allows_pets','has_washer_dryer','has_roofdeck','has_concierge','floornumber',\n",
    "            'income','neighborhood','borough', 'addr_zip']\n",
    "\n",
    "random_train_pred_c, random_test1_pred_c, random_test2_pred_c = modelProcessor.train_final_model(\n",
    "                                                             RandomForestRegressor(max_features=10,n_estimators=400,\n",
    "                                                                                   criterion='mse',bootstrap=True),\n",
    "                                                             train_df= combine_df.loc[train_df_index], \n",
    "                                                             test_df=combine_df.loc[test_set1_index],\n",
    "                                                             feature_columns = features,\n",
    "                                                             train_target='rent', trainWithTest1 = False,\n",
    "                                                             test2_df=combine_df.loc[test_set3_index]\n",
    "                                                            )"
   ]
  },
  {
   "cell_type": "code",
   "execution_count": 39,
   "metadata": {
    "colab": {
     "base_uri": "https://localhost:8080/",
     "height": 51
    },
    "colab_type": "code",
    "executionInfo": {
     "elapsed": 392,
     "status": "ok",
     "timestamp": 1575179447900,
     "user": {
      "displayName": "Xiaohong Zhu",
      "photoUrl": "",
      "userId": "18342359153303905606"
     },
     "user_tz": 300
    },
    "id": "BQOT1IQA-Q76",
    "outputId": "b2bbf7d1-ba75-4fe0-8bb8-3fe048efe041"
   },
   "outputs": [
    {
     "name": "stdout",
     "output_type": "stream",
     "text": [
      "Ensemble Random Forest by averaging predictions\n",
      "Test Set 1 Loss: 1690865.2006849246\n"
     ]
    }
   ],
   "source": [
    "from sklearn.metrics import mean_squared_error as MSE\n",
    "\n",
    "random_test_1_pred_avg = (random_test1_pred_a + random_test1_pred_b+random_test1_pred_c) / 3\n",
    "\n",
    "loss = MSE(random_test_1_pred_avg, combine_df.loc[test_set1_index].rent)\n",
    "\n",
    "print('Ensemble Random Forest by averaging predictions')\n",
    "print('Test Set 1 Loss:', loss)"
   ]
  },
  {
   "cell_type": "markdown",
   "metadata": {},
   "source": [
    "# Generate Prediction CSV File"
   ]
  },
  {
   "cell_type": "code",
   "execution_count": 40,
   "metadata": {},
   "outputs": [],
   "source": [
    "test3_df = combine_df.loc[test_set3_index]\n",
    "test3_df['predictions'] = random_test2_pred_b\n",
    "test3_df['predictions'].to_csv(\"RandomForest_Prediction_TestSet3_withIncome_predA.csv\", header=True)"
   ]
  },
  {
   "cell_type": "code",
   "execution_count": 41,
   "metadata": {},
   "outputs": [],
   "source": [
    "random_test_2_pred_avg = (random_test2_pred_a + random_test2_pred_b+random_test2_pred_c) / 3"
   ]
  },
  {
   "cell_type": "code",
   "execution_count": 42,
   "metadata": {},
   "outputs": [],
   "source": [
    "test3_df['predictions'] = random_test_2_pred_avg\n",
    "test3_df['predictions'].to_csv(\"RandomForest_Prediction_TestSet3_withIncome_AVG.csv\", header=True)"
   ]
  },
  {
   "cell_type": "code",
   "execution_count": null,
   "metadata": {},
   "outputs": [],
   "source": []
  }
 ],
 "metadata": {
  "colab": {
   "name": "FinalModel_Demo.ipynb",
   "provenance": []
  },
  "kernelspec": {
   "display_name": "Python 3",
   "language": "python",
   "name": "python3"
  },
  "language_info": {
   "codemirror_mode": {
    "name": "ipython",
    "version": 3
   },
   "file_extension": ".py",
   "mimetype": "text/x-python",
   "name": "python",
   "nbconvert_exporter": "python",
   "pygments_lexer": "ipython3",
   "version": "3.7.4"
  }
 },
 "nbformat": 4,
 "nbformat_minor": 1
}
