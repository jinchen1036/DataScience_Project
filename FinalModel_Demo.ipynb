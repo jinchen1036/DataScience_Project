{
 "cells": [
  {
   "cell_type": "code",
   "execution_count": 1,
   "metadata": {},
   "outputs": [],
   "source": [
    "import os\n",
    "os.chdir('../')"
   ]
  },
  {
   "cell_type": "code",
   "execution_count": 2,
   "metadata": {},
   "outputs": [],
   "source": [
    "from Helper.DataLoader import *\n",
    "from Helper.ModelProcessor import ModelProcessor\n",
    "from Helper.DataVisualization import statistic_analysis\n",
    "from sklearn.ensemble import GradientBoostingRegressor, RandomForestRegressor"
   ]
  },
  {
   "cell_type": "code",
   "execution_count": 3,
   "metadata": {},
   "outputs": [
    {
     "name": "stderr",
     "output_type": "stream",
     "text": [
      "/Users/jinchen/anaconda3/lib/python3.7/site-packages/pandas/core/generic.py:5434: SettingWithCopyWarning: \n",
      "A value is trying to be set on a copy of a slice from a DataFrame\n",
      "\n",
      "See the caveats in the documentation: http://pandas.pydata.org/pandas-docs/stable/indexing.html#indexing-view-versus-copy\n",
      "  self._update_inplace(new_data)\n",
      "/Users/jinchen/anaconda3/lib/python3.7/site-packages/pandas/core/indexing.py:543: SettingWithCopyWarning: \n",
      "A value is trying to be set on a copy of a slice from a DataFrame.\n",
      "Try using .loc[row_indexer,col_indexer] = value instead\n",
      "\n",
      "See the caveats in the documentation: http://pandas.pydata.org/pandas-docs/stable/indexing.html#indexing-view-versus-copy\n",
      "  self.obj[item] = s\n"
     ]
    }
   ],
   "source": [
    "# Init model\n",
    "modelProcessor = ModelProcessor()\n",
    "\n",
    "# Get Data\n",
    "combine_df, train_df_index, test_set1_index,test_set2_index, test_set3_index = load_dataset(numeric=False, extra_dataset=True)\n",
    "combine_df = transform_data(combine_df)\n",
    "combine_df = clean_data(combine_df)"
   ]
  },
  {
   "cell_type": "code",
   "execution_count": 4,
   "metadata": {},
   "outputs": [
    {
     "name": "stdout",
     "output_type": "stream",
     "text": [
      "<class 'pandas.core.frame.DataFrame'>\n",
      "Int64Index: 18000 entries, 7236931 to 7450378\n",
      "Data columns (total 33 columns):\n",
      "building_id               18000 non-null int64\n",
      "bedrooms                  18000 non-null int64\n",
      "bathrooms                 18000 non-null float64\n",
      "size_sqft                 18000 non-null float64\n",
      "addr_city                 18000 non-null int64\n",
      "addr_zip                  18000 non-null int64\n",
      "addr_lat                  18000 non-null float64\n",
      "addr_lon                  18000 non-null float64\n",
      "bin                       18000 non-null float64\n",
      "bbl                       18000 non-null int64\n",
      "floor_count               18000 non-null float64\n",
      "year_built                18000 non-null float64\n",
      "min_to_subway             18000 non-null float64\n",
      "has_doorman               18000 non-null int64\n",
      "has_elevator              18000 non-null int64\n",
      "has_fireplace             18000 non-null int64\n",
      "has_dishwasher            18000 non-null int64\n",
      "is_furnished              18000 non-null int64\n",
      "has_gym                   18000 non-null int64\n",
      "allows_pets               18000 non-null int64\n",
      "has_washer_dryer          18000 non-null int64\n",
      "has_garage                18000 non-null int64\n",
      "has_roofdeck              18000 non-null int64\n",
      "has_concierge             18000 non-null int64\n",
      "has_pool                  18000 non-null int64\n",
      "has_garden                18000 non-null int64\n",
      "has_childrens_playroom    18000 non-null int64\n",
      "rent                      14000 non-null float64\n",
      "no_fee                    18000 non-null int64\n",
      "neighborhood              18000 non-null int64\n",
      "borough                   18000 non-null int64\n",
      "floornumber               18000 non-null float64\n",
      "income                    18000 non-null float64\n",
      "dtypes: float64(11), int64(22)\n",
      "memory usage: 4.7 MB\n"
     ]
    }
   ],
   "source": [
    "combine_df.info()"
   ]
  },
  {
   "cell_type": "code",
   "execution_count": 5,
   "metadata": {},
   "outputs": [
    {
     "name": "stdout",
     "output_type": "stream",
     "text": [
      "                            OLS Regression Results                            \n",
      "==============================================================================\n",
      "Dep. Variable:                   rent   R-squared:                       0.715\n",
      "Model:                            OLS   Adj. R-squared:                  0.714\n",
      "Method:                 Least Squares   F-statistic:                     1094.\n",
      "Date:                Sat, 30 Nov 2019   Prob (F-statistic):               0.00\n",
      "Time:                        14:42:03   Log-Likelihood:            -1.2257e+05\n",
      "No. Observations:               14000   AIC:                         2.452e+05\n",
      "Df Residuals:                   13967   BIC:                         2.455e+05\n",
      "Df Model:                          32                                         \n",
      "Covariance Type:            nonrobust                                         \n",
      "==========================================================================================\n",
      "                             coef    std err          t      P>|t|      [0.025      0.975]\n",
      "------------------------------------------------------------------------------------------\n",
      "const                  -4.158e+05   5.59e+04     -7.443      0.000   -5.25e+05   -3.06e+05\n",
      "building_id            -2.224e-06   3.29e-06     -0.676      0.499   -8.68e-06    4.23e-06\n",
      "bedrooms                 -35.9537     17.411     -2.065      0.039     -70.082      -1.826\n",
      "bathrooms               1123.8492     37.467     29.996      0.000    1050.410    1197.289\n",
      "size_sqft                  3.7857      0.047     80.208      0.000       3.693       3.878\n",
      "addr_city                -16.7101      2.765     -6.044      0.000     -22.129     -11.291\n",
      "addr_zip                   0.4480      0.166      2.693      0.007       0.122       0.774\n",
      "addr_lat                 133.8525    461.175      0.290      0.772    -770.113    1037.818\n",
      "addr_lon               -5448.1354    566.276     -9.621      0.000   -6558.113   -4338.158\n",
      "bin                        0.0003      0.000      2.326      0.020     4.1e-05       0.000\n",
      "bbl                    -8.976e-07   1.32e-07     -6.778      0.000   -1.16e-06   -6.38e-07\n",
      "floor_count              -14.1944      2.243     -6.329      0.000     -18.591      -9.798\n",
      "year_built                 0.5864      0.476      1.233      0.218      -0.346       1.519\n",
      "min_to_subway            -19.8655      3.690     -5.383      0.000     -27.099     -12.632\n",
      "has_doorman              128.5597     48.945      2.627      0.009      32.620     224.499\n",
      "has_elevator             237.0944     39.653      5.979      0.000     159.369     314.819\n",
      "has_fireplace            181.5349     71.863      2.526      0.012      40.674     322.396\n",
      "has_dishwasher          -203.4875     30.318     -6.712      0.000    -262.914    -144.060\n",
      "is_furnished             687.2849     75.847      9.061      0.000     538.614     835.956\n",
      "has_gym                  304.8398     49.511      6.157      0.000     207.793     401.887\n",
      "allows_pets              153.5008     28.900      5.311      0.000      96.852     210.149\n",
      "has_washer_dryer         208.0524     34.029      6.114      0.000     141.351     274.754\n",
      "has_garage              -100.2523     41.234     -2.431      0.015    -181.076     -19.429\n",
      "has_roofdeck             137.0100     37.078      3.695      0.000      64.331     209.689\n",
      "has_concierge            209.1359     51.367      4.071      0.000     108.449     309.822\n",
      "has_pool                 142.8869     60.883      2.347      0.019      23.549     262.225\n",
      "has_garden               -32.6710     40.701     -0.803      0.422    -112.450      47.108\n",
      "has_childrens_playroom    29.7631     55.967      0.532      0.595     -79.940     139.466\n",
      "no_fee                   -41.2823     29.853     -1.383      0.167     -99.798      17.233\n",
      "neighborhood               2.4121      0.296      8.143      0.000       1.831       2.993\n",
      "borough                  499.0602     45.517     10.964      0.000     409.840     588.280\n",
      "floornumber               29.4886      2.757     10.695      0.000      24.084      34.893\n",
      "income                     0.0079      0.001     14.385      0.000       0.007       0.009\n",
      "==============================================================================\n",
      "Omnibus:                    16346.126   Durbin-Watson:                   2.016\n",
      "Prob(Omnibus):                  0.000   Jarque-Bera (JB):          6531067.076\n",
      "Skew:                           5.656   Prob(JB):                         0.00\n",
      "Kurtosis:                     108.205   Cond. No.                     1.11e+13\n",
      "==============================================================================\n",
      "\n",
      "Warnings:\n",
      "[1] Standard Errors assume that the covariance matrix of the errors is correctly specified.\n",
      "[2] The condition number is large, 1.11e+13. This might indicate that there are\n",
      "strong multicollinearity or other numerical problems.\n"
     ]
    }
   ],
   "source": [
    "statistic_analysis(combine_df)"
   ]
  },
  {
   "cell_type": "code",
   "execution_count": 6,
   "metadata": {},
   "outputs": [
    {
     "name": "stdout",
     "output_type": "stream",
     "text": [
      "Train Loss: 183941.6697\n",
      "Test Set 1 Loss: 1787957.7684\n",
      "Test Set 2 - Loss: 5061320.1760\n"
     ]
    }
   ],
   "source": [
    "features = ['bathrooms','size_sqft','addr_city','min_to_subway','has_elevator','has_dishwasher','is_furnished',\n",
    "            'has_gym','allows_pets','has_washer_dryer','has_roofdeck','has_concierge','income','neighborhood','borough']\n",
    "\n",
    "\n",
    "random_train_pred, random_test1_pred, random_test2_pred = modelProcessor.train_final_model(\n",
    "                                                             RandomForestRegressor(max_features=10,n_estimators=320,\n",
    "                                                                                   criterion='mse',bootstrap=True),\n",
    "                                                             train_df= combine_df.loc[train_df_index], \n",
    "                                                             test_df=combine_df.loc[test_set1_index],\n",
    "                                                             feature_columns = features,\n",
    "                                                             train_target='rent', trainWithTest1 = False,\n",
    "                                                             test2_df=combine_df.loc[test_set2_index]\n",
    "                                                            )"
   ]
  },
  {
   "cell_type": "code",
   "execution_count": 16,
   "metadata": {},
   "outputs": [
    {
     "name": "stdout",
     "output_type": "stream",
     "text": [
      "Train Loss: 188856.1815\n",
      "Test Set 1 Loss: 1767727.6671\n",
      "Test Set 2 - Loss: 4451311.1579\n"
     ]
    }
   ],
   "source": [
    "features = ['bathrooms','size_sqft','addr_city','min_to_subway','has_elevator','has_dishwasher','is_furnished',\n",
    "            'has_gym','allows_pets','has_washer_dryer','has_roofdeck','has_concierge','income','neighborhood','borough']\n",
    "\n",
    "\n",
    "random_train_pred, random_test1_pred, random_test2_pred = modelProcessor.train_final_model(\n",
    "                                                             RandomForestRegressor(max_features=10,n_estimators=320,\n",
    "                                                                                   criterion='mse',bootstrap=True),\n",
    "                                                             train_df= combine_df.loc[train_df_index], \n",
    "                                                             test_df=combine_df.loc[test_set1_index],\n",
    "                                                             feature_columns = features,\n",
    "                                                             train_target='rent', trainWithTest1 = False,\n",
    "                                                             test2_df=combine_df.loc[test_set3_index]\n",
    "                                                            )"
   ]
  },
  {
   "cell_type": "code",
   "execution_count": 7,
   "metadata": {},
   "outputs": [
    {
     "name": "stdout",
     "output_type": "stream",
     "text": [
      "Train Loss: 176782.6129\n",
      "Test Set 1 Loss: 1749785.1950\n",
      "Test Set 2 - Loss: 5230354.9346\n"
     ]
    }
   ],
   "source": [
    "features = ['bathrooms','size_sqft','addr_city','min_to_subway','has_elevator','has_dishwasher','is_furnished',\n",
    "            'has_gym','allows_pets','has_washer_dryer','has_roofdeck','has_concierge','floornumber',\n",
    "            'income','neighborhood','borough']\n",
    "\n",
    "random_train_pred, random_test1_pred, random_test2_pred = modelProcessor.train_final_model(\n",
    "                                                             RandomForestRegressor(max_features=10,n_estimators=320,\n",
    "                                                                                   criterion='mse',bootstrap=True),\n",
    "                                                             train_df= combine_df.loc[train_df_index], \n",
    "                                                             test_df=combine_df.loc[test_set1_index],\n",
    "                                                             feature_columns = features,\n",
    "                                                             train_target='rent', trainWithTest1 = False,\n",
    "                                                             test2_df=combine_df.loc[test_set2_index]\n",
    "                                                            )"
   ]
  },
  {
   "cell_type": "code",
   "execution_count": 8,
   "metadata": {},
   "outputs": [
    {
     "name": "stdout",
     "output_type": "stream",
     "text": [
      "Train Loss: 175311.5128\n",
      "Test Set 1 Loss: 1748406.0040\n",
      "Test Set 2 - Loss: 4635328.7900\n"
     ]
    }
   ],
   "source": [
    "features = ['bathrooms','size_sqft','addr_city','min_to_subway','has_elevator','has_dishwasher','is_furnished',\n",
    "            'has_gym','allows_pets','has_washer_dryer','has_roofdeck','has_concierge','floornumber',\n",
    "            'income','neighborhood','borough']\n",
    "\n",
    "random_train_pred, random_test1_pred, random_test2_pred = modelProcessor.train_final_model(\n",
    "                                                             RandomForestRegressor(max_features=10,n_estimators=320,\n",
    "                                                                                   criterion='mse',bootstrap=True),\n",
    "                                                             train_df= combine_df.loc[train_df_index], \n",
    "                                                             test_df=combine_df.loc[test_set1_index],\n",
    "                                                             feature_columns = features,\n",
    "                                                             train_target='rent', trainWithTest1 = False,\n",
    "                                                             test2_df=combine_df.loc[test_set3_index]\n",
    "                                                            )"
   ]
  },
  {
   "cell_type": "code",
   "execution_count": null,
   "metadata": {},
   "outputs": [],
   "source": []
  }
 ],
 "metadata": {
  "kernelspec": {
   "display_name": "Python 3",
   "language": "python",
   "name": "python3"
  },
  "language_info": {
   "codemirror_mode": {
    "name": "ipython",
    "version": 3
   },
   "file_extension": ".py",
   "mimetype": "text/x-python",
   "name": "python",
   "nbconvert_exporter": "python",
   "pygments_lexer": "ipython3",
   "version": "3.7.1"
  }
 },
 "nbformat": 4,
 "nbformat_minor": 2
}
