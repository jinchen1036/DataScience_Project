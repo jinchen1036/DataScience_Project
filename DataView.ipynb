{
 "cells": [
  {
   "cell_type": "code",
   "execution_count": 32,
   "metadata": {
    "id": "OhHEkdWbj7Xh",
    "colab_type": "code",
    "outputId": "3fbb43ac-5fb3-41ca-fb16-fc443ca6f676",
    "executionInfo": {
     "status": "ok",
     "timestamp": 1.574369691998E12,
     "user_tz": 300.0,
     "elapsed": 366.0,
     "user": {
      "displayName": "Jin Chen",
      "photoUrl": "https://lh3.googleusercontent.com/a-/AAuE7mDEKVWQMgMwSOJ95EtISaebmkx1pOrqTpnfVGAF=s64",
      "userId": "13548826124117743544"
     }
    },
    "colab": {
     "base_uri": "https://localhost:8080/",
     "height": 34.0
    }
   },
   "outputs": [
    {
     "name": "stdout",
     "output_type": "stream",
     "text": [
      "Drive already mounted at /content/drive; to attempt to forcibly remount, call drive.mount(\"/content/drive\", force_remount=True).\n"
     ]
    }
   ],
   "source": [
    "from google.colab import drive\n",
    "drive.mount('/content/drive')"
   ]
  },
  {
   "cell_type": "code",
   "execution_count": 0,
   "metadata": {
    "id": "QrR9En9KkSm4",
    "colab_type": "code",
    "colab": {}
   },
   "outputs": [],
   "source": [
    "import sys\n",
    "sys.path.append('/content/drive/My Drive/Fall 2019/DataScience/Project/DataScience_Project')"
   ]
  },
  {
   "cell_type": "code",
   "execution_count": 34,
   "metadata": {
    "id": "qmPEo7YMj8sL",
    "colab_type": "code",
    "outputId": "97001850-a210-47b3-8f04-da81ad7fde24",
    "executionInfo": {
     "status": "ok",
     "timestamp": 1.574369693488E12,
     "user_tz": 300.0,
     "elapsed": 219.0,
     "user": {
      "displayName": "Jin Chen",
      "photoUrl": "https://lh3.googleusercontent.com/a-/AAuE7mDEKVWQMgMwSOJ95EtISaebmkx1pOrqTpnfVGAF=s64",
      "userId": "13548826124117743544"
     }
    },
    "colab": {
     "base_uri": "https://localhost:8080/",
     "height": 34.0
    }
   },
   "outputs": [
    {
     "data": {
      "text/plain": [
       "'/content/drive/My Drive/Fall 2019/DataScience/Project/DataScience_Project'"
      ]
     },
     "execution_count": 34,
     "metadata": {
      "tags": []
     },
     "output_type": "execute_result"
    }
   ],
   "source": [
    "import os\n",
    "os.chdir('/content/drive/My Drive/Fall 2019/DataScience/Project/DataScience_Project')\n",
    "os.getcwd()"
   ]
  },
  {
   "cell_type": "code",
   "execution_count": 0,
   "metadata": {
    "id": "QG4J8xuijGfK",
    "colab_type": "code",
    "colab": {}
   },
   "outputs": [],
   "source": [
    "from Helper.DataLoader import *\n",
    "from Helper.DataVisualization import statistic_analysis\n",
    "from Helper.SearchCVModels import CV_Model\n",
    "from Helper.StaticParameters import Parameters\n",
    "\n",
    "from sklearn.neighbors import KNeighborsRegressor\n",
    "from sklearn.linear_model import LinearRegression\n",
    "from sklearn.tree import DecisionTreeClassifier\n",
    "from sklearn.linear_model import Ridge, Lasso\n",
    "from sklearn.ensemble import GradientBoostingRegressor, AdaBoostRegressor"
   ]
  },
  {
   "cell_type": "code",
   "execution_count": 0,
   "metadata": {
    "id": "jGly_qUCjGfQ",
    "colab_type": "code",
    "colab": {}
   },
   "outputs": [],
   "source": [
    "# Prepare Dataset\n",
    "combine_df, train_df_index, test_set1_index, test_set2_index = load_dataset(numeric=True, extract_dataset=False)\n",
    "combine_df = clean_data(combine_df)\n",
    "combine_df = normalized_dataset(combine_df)"
   ]
  },
  {
   "cell_type": "code",
   "execution_count": 0,
   "metadata": {
    "id": "4lg2GdMIjGfV",
    "colab_type": "code",
    "outputId": "63a0eafe-465c-4ce8-e08c-c6fb04fe277f",
    "executionInfo": {
     "status": "ok",
     "timestamp": 1.574366803073E12,
     "user_tz": 300.0,
     "elapsed": 609.0,
     "user": {
      "displayName": "Jin Chen",
      "photoUrl": "https://lh3.googleusercontent.com/a-/AAuE7mDEKVWQMgMwSOJ95EtISaebmkx1pOrqTpnfVGAF=s64",
      "userId": "13548826124117743544"
     }
    },
    "colab": {
     "base_uri": "https://localhost:8080/",
     "height": 904.0
    }
   },
   "outputs": [
    {
     "name": "stdout",
     "output_type": "stream",
     "text": [
      "                            OLS Regression Results                            \n",
      "==============================================================================\n",
      "Dep. Variable:                   rent   R-squared:                       0.703\n",
      "Model:                            OLS   Adj. R-squared:                  0.703\n",
      "Method:                 Least Squares   F-statistic:                     1325.\n",
      "Date:                Thu, 21 Nov 2019   Prob (F-statistic):               0.00\n",
      "Time:                        20:06:42   Log-Likelihood:            -1.2285e+05\n",
      "No. Observations:               14000   AIC:                         2.457e+05\n",
      "Df Residuals:                   13974   BIC:                         2.459e+05\n",
      "Df Model:                          25                                         \n",
      "Covariance Type:            nonrobust                                         \n",
      "==========================================================================================\n",
      "                             coef    std err          t      P>|t|      [0.025      0.975]\n",
      "------------------------------------------------------------------------------------------\n",
      "const                   1665.1880     97.198     17.132      0.000    1474.668    1855.708\n",
      "bedrooms                -756.8527    139.976     -5.407      0.000   -1031.224    -482.482\n",
      "bathrooms               7033.8773    228.488     30.784      0.000    6586.010    7481.744\n",
      "size_sqft               2.742e+04    341.460     80.293      0.000    2.67e+04    2.81e+04\n",
      "addr_zip               -1490.0311     74.660    -19.958      0.000   -1636.374   -1343.688\n",
      "addr_lat                 -48.1983    138.958     -0.347      0.729    -320.574     224.177\n",
      "addr_lon               -2442.9943    214.082    -11.412      0.000   -2862.623   -2023.366\n",
      "floor_count             -847.1006    197.961     -4.279      0.000   -1235.131    -459.070\n",
      "year_built                54.2356    101.598      0.534      0.593    -144.910     253.381\n",
      "min_to_subway           -897.8393    218.657     -4.106      0.000   -1326.436    -469.243\n",
      "has_doorman              254.3284     49.487      5.139      0.000     157.327     351.329\n",
      "has_elevator             252.7438     40.037      6.313      0.000     174.266     331.222\n",
      "has_fireplace            244.4887     73.148      3.342      0.001     101.109     387.868\n",
      "has_dishwasher          -148.6462     30.774     -4.830      0.000    -208.968     -88.324\n",
      "is_furnished             675.6099     77.320      8.738      0.000     524.052     827.167\n",
      "has_gym                  297.4016     50.403      5.900      0.000     198.605     396.198\n",
      "allows_pets              128.9347     29.274      4.404      0.000      71.554     186.315\n",
      "has_washer_dryer         206.1889     34.607      5.958      0.000     138.355     274.023\n",
      "has_garage              -110.8525     41.854     -2.649      0.008    -192.892     -28.813\n",
      "has_roofdeck             124.1482     37.691      3.294      0.001      50.268     198.028\n",
      "has_concierge            267.7077     52.035      5.145      0.000     165.712     369.703\n",
      "has_pool                 187.5120     61.691      3.040      0.002      66.589     308.435\n",
      "has_garden               -26.1959     41.402     -0.633      0.527    -107.350      54.958\n",
      "has_childrens_playroom    90.1898     56.682      1.591      0.112     -20.915     201.294\n",
      "no_fee                   -99.1266     29.575     -3.352      0.001    -157.098     -41.156\n",
      "floornumber             2088.3492    216.337      9.653      0.000    1664.299    2512.399\n",
      "==============================================================================\n",
      "Omnibus:                    15690.886   Durbin-Watson:                   2.020\n",
      "Prob(Omnibus):                  0.000   Jarque-Bera (JB):          5716332.395\n",
      "Skew:                           5.260   Prob(JB):                         0.00\n",
      "Kurtosis:                     101.431   Cond. No.                         55.8\n",
      "==============================================================================\n",
      "\n",
      "Warnings:\n",
      "[1] Standard Errors assume that the covariance matrix of the errors is correctly specified.\n"
     ]
    },
    {
     "name": "stderr",
     "output_type": "stream",
     "text": [
      "/usr/local/lib/python3.6/dist-packages/numpy/core/fromnumeric.py:2495: FutureWarning: Method .ptp is deprecated and will be removed in a future version. Use numpy.ptp instead.\n",
      "  return ptp(axis=axis, out=out, **kwargs)\n"
     ]
    }
   ],
   "source": [
    "# Visualize Columns \n",
    "statistic_analysis(combine_df)"
   ]
  },
  {
   "cell_type": "code",
   "execution_count": 0,
   "metadata": {
    "id": "UafFJVkIjGfZ",
    "colab_type": "code",
    "colab": {}
   },
   "outputs": [],
   "source": [
    "parameter = Parameters()"
   ]
  },
  {
   "cell_type": "code",
   "execution_count": 0,
   "metadata": {
    "id": "tR-OZ3DZjGfb",
    "colab_type": "code",
    "outputId": "59ba6e44-99b7-4f51-d9e1-c8be81265098",
    "colab": {}
   },
   "outputs": [
    {
     "name": "stderr",
     "output_type": "stream",
     "text": [
      "/Users/jinchen/anaconda3/lib/python3.7/site-packages/sklearn/model_selection/_split.py:652: Warning: The least populated class in y has only 1 members, which is too few. The minimum number of members in any class cannot be less than n_splits=6.\n",
      "  % (min_groups, self.n_splits)), Warning)\n"
     ]
    },
    {
     "name": "stdout",
     "output_type": "stream",
     "text": [
      "Best Estimator DecisionTreeClassifier(class_weight=None, criterion='gini', max_depth=10,\n",
      "            max_features=12, max_leaf_nodes=None,\n",
      "            min_impurity_decrease=0.0, min_impurity_split=None,\n",
      "            min_samples_leaf=1, min_samples_split=50,\n",
      "            min_weight_fraction_leaf=0.0, presort=False, random_state=None,\n",
      "            splitter='best')\n",
      "Best Parameters:  {'min_samples_split': 50, 'max_features': 12, 'max_depth': 10}\n",
      "Best Score:  -2723029.276\n",
      "Test Loss: 3673441.7905\n"
     ]
    },
    {
     "name": "stderr",
     "output_type": "stream",
     "text": [
      "/Users/jinchen/anaconda3/lib/python3.7/site-packages/sklearn/model_selection/_search.py:841: DeprecationWarning: The default of the `iid` parameter will change from True to False in version 0.22 and will be removed in 0.24. This will change numeric results when test-set sizes are unequal.\n",
      "  DeprecationWarning)\n"
     ]
    }
   ],
   "source": [
    "DTree = DecisionTreeClassifier()\n",
    "SearchCV = CV_Model(GridSearch=False)\n",
    "SearchCV.train_model(DTree, parameter.dtree_parameter, combine_df.iloc[:12000], parameter.feature_columns, cv_split = 6)\n",
    "SearchCV.test_model(combine_df.iloc[12000:14000], parameter.feature_columns)"
   ]
  },
  {
   "cell_type": "code",
   "execution_count": 0,
   "metadata": {
    "id": "rx5yvxr7jGfd",
    "colab_type": "code",
    "outputId": "8c60504e-99e2-45b1-df61-40b10b77f5d9",
    "colab": {}
   },
   "outputs": [
    {
     "name": "stdout",
     "output_type": "stream",
     "text": [
      "Best Estimator KNeighborsRegressor(algorithm='auto', leaf_size=30, metric='minkowski',\n",
      "          metric_params=None, n_jobs=None, n_neighbors=4, p=2,\n",
      "          weights='uniform')\n",
      "Best Parameters:  {'n_neighbors': 4}\n",
      "Best Score:  -3890679.1065416667\n",
      "Test Loss: 3911766.0539\n"
     ]
    }
   ],
   "source": [
    "KNN = KNeighborsRegressor()\n",
    "SearchCV = CV_Model(GridSearch=False)\n",
    "SearchCV.train_model(KNN, parameter.knn_parameter, combine_df.iloc[:12000], parameter.feature_columns, cv_split = 6)\n",
    "SearchCV.test_model(combine_df.iloc[12000:14000], parameter.feature_columns)"
   ]
  },
  {
   "cell_type": "code",
   "execution_count": 39,
   "metadata": {
    "id": "0SC4q6WHk2iN",
    "colab_type": "code",
    "outputId": "5c2a1092-c10d-4952-b150-048b33a951b2",
    "executionInfo": {
     "status": "ok",
     "timestamp": 1.574369917919E12,
     "user_tz": 300.0,
     "elapsed": 141176.0,
     "user": {
      "displayName": "Jin Chen",
      "photoUrl": "https://lh3.googleusercontent.com/a-/AAuE7mDEKVWQMgMwSOJ95EtISaebmkx1pOrqTpnfVGAF=s64",
      "userId": "13548826124117743544"
     }
    },
    "colab": {
     "base_uri": "https://localhost:8080/",
     "height": 221.0
    }
   },
   "outputs": [
    {
     "name": "stdout",
     "output_type": "stream",
     "text": [
      "Best Estimator GradientBoostingRegressor(alpha=0.9, criterion='friedman_mse', init=None,\n",
      "                          learning_rate=0.001, loss='lad', max_depth=3,\n",
      "                          max_features=None, max_leaf_nodes=None,\n",
      "                          min_impurity_decrease=0.0, min_impurity_split=None,\n",
      "                          min_samples_leaf=1, min_samples_split=110,\n",
      "                          min_weight_fraction_leaf=0.0, n_estimators=400,\n",
      "                          n_iter_no_change=None, presort='auto',\n",
      "                          random_state=None, subsample=1.0, tol=0.0001,\n",
      "                          validation_fraction=0.1, verbose=0, warm_start=False)\n",
      "Best Parameters:  {'n_estimators': 400, 'min_samples_split': 110, 'learning_rate': 0.001}\n",
      "Best Score:  -7805841.994777449\n",
      "Test Loss: 6870242.5473\n"
     ]
    }
   ],
   "source": [
    "gradient_parameter = {'n_estimators': np.arange(100, 500, 50),'min_samples_split': np.arange(10, 200, 10),\n",
    "          'learning_rate': [0.001, 0.0001, 0.00001]}\n",
    "gradientB = GradientBoostingRegressor(loss=\"lad\", verbose=0)\n",
    "SearchCV = CV_Model(GridSearch=False)\n",
    "SearchCV.train_model(gradientB, gradient_parameter, combine_df.iloc[:12000], parameter.feature_columns, cv_split = 6)\n",
    "SearchCV.test_model(combine_df.iloc[12000:14000], parameter.feature_columns)"
   ]
  },
  {
   "cell_type": "code",
   "execution_count": 40,
   "metadata": {
    "id": "h7YZbqvTmj83",
    "colab_type": "code",
    "outputId": "666c96c0-b465-4d1e-fa86-8e413ca61ee0",
    "executionInfo": {
     "status": "ok",
     "timestamp": 1.574370161722E12,
     "user_tz": 300.0,
     "elapsed": 243790.0,
     "user": {
      "displayName": "Jin Chen",
      "photoUrl": "https://lh3.googleusercontent.com/a-/AAuE7mDEKVWQMgMwSOJ95EtISaebmkx1pOrqTpnfVGAF=s64",
      "userId": "13548826124117743544"
     }
    },
    "colab": {
     "base_uri": "https://localhost:8080/",
     "height": 170.0
    }
   },
   "outputs": [
    {
     "name": "stdout",
     "output_type": "stream",
     "text": [
      "Best Estimator AdaBoostRegressor(base_estimator=LinearRegression(copy_X=True,\n",
      "                                                  fit_intercept=True,\n",
      "                                                  n_jobs=None,\n",
      "                                                  normalize=False),\n",
      "                  learning_rate=0.001, loss='linear', n_estimators=100,\n",
      "                  random_state=None)\n",
      "Best Parameters:  {'n_estimators': 100, 'learning_rate': 0.001}\n",
      "Best Score:  -2478863.57218928\n",
      "Test Loss: 2878619.4067\n"
     ]
    }
   ],
   "source": [
    "ada_parameter = {'n_estimators': np.arange(100, 500, 100),'learning_rate': [0.001, 0.0001, 0.00001]}\n",
    "adaBoost = AdaBoostRegressor(base_estimator=LinearRegression())\n",
    "SearchCV = CV_Model(GridSearch=False)\n",
    "SearchCV.train_model(adaBoost, ada_parameter, combine_df.iloc[:12000], parameter.feature_columns, cv_split = 6)\n",
    "SearchCV.test_model(combine_df.iloc[12000:14000], parameter.feature_columns)"
   ]
  },
  {
   "cell_type": "code",
   "execution_count": 0,
   "metadata": {
    "id": "7Ejjo7B6muvB",
    "colab_type": "code",
    "outputId": "2548d9f4-6a6f-4251-ec7a-962ce2e9f5dc",
    "executionInfo": {
     "status": "ok",
     "timestamp": 1.574367331948E12,
     "user_tz": 300.0,
     "elapsed": 274.0,
     "user": {
      "displayName": "Jin Chen",
      "photoUrl": "https://lh3.googleusercontent.com/a-/AAuE7mDEKVWQMgMwSOJ95EtISaebmkx1pOrqTpnfVGAF=s64",
      "userId": "13548826124117743544"
     }
    },
    "colab": {
     "base_uri": "https://localhost:8080/",
     "height": 34.0
    }
   },
   "outputs": [
    {
     "name": "stdout",
     "output_type": "stream",
     "text": [
      "<Helper.StaticParameters.Parameters object at 0x7f26b93e0438>\n"
     ]
    }
   ],
   "source": [
    "print(parameter)"
   ]
  },
  {
   "cell_type": "markdown",
   "metadata": {
    "id": "0nKtX20-jGff",
    "colab_type": "text"
   },
   "source": [
    "### Change Feature Columns"
   ]
  },
  {
   "cell_type": "code",
   "execution_count": 0,
   "metadata": {
    "id": "01er0rxujGff",
    "colab_type": "code",
    "colab": {}
   },
   "outputs": [],
   "source": [
    "parameter.feature_columns = ['bedrooms','bathrooms','size_sqft','addr_zip','min_to_subway',\n",
    "                                'has_elevator','is_furnished','has_gym','allows_pets','no_fee','floornumber']\n",
    "parameter.dtree_parameter['max_features'] = np.arange(4, 11, 2)"
   ]
  },
  {
   "cell_type": "code",
   "execution_count": 0,
   "metadata": {
    "id": "qiIwQ3RkjGfg",
    "colab_type": "code",
    "outputId": "6576f915-bb97-4ed2-fb25-5e1ae7b0099b",
    "colab": {}
   },
   "outputs": [
    {
     "name": "stderr",
     "output_type": "stream",
     "text": [
      "/Users/jinchen/anaconda3/lib/python3.7/site-packages/sklearn/model_selection/_split.py:652: Warning: The least populated class in y has only 1 members, which is too few. The minimum number of members in any class cannot be less than n_splits=6.\n",
      "  % (min_groups, self.n_splits)), Warning)\n"
     ]
    },
    {
     "name": "stdout",
     "output_type": "stream",
     "text": [
      "Best Estimator DecisionTreeClassifier(class_weight=None, criterion='gini', max_depth=10,\n",
      "            max_features=8, max_leaf_nodes=None, min_impurity_decrease=0.0,\n",
      "            min_impurity_split=None, min_samples_leaf=1,\n",
      "            min_samples_split=100, min_weight_fraction_leaf=0.0,\n",
      "            presort=False, random_state=None, splitter='best')\n",
      "Best Parameters:  {'min_samples_split': 100, 'max_features': 8, 'max_depth': 10}\n",
      "Best Score:  -2942668.336\n",
      "Test Loss: 3491868.8260\n"
     ]
    },
    {
     "name": "stderr",
     "output_type": "stream",
     "text": [
      "/Users/jinchen/anaconda3/lib/python3.7/site-packages/sklearn/model_selection/_search.py:841: DeprecationWarning: The default of the `iid` parameter will change from True to False in version 0.22 and will be removed in 0.24. This will change numeric results when test-set sizes are unequal.\n",
      "  DeprecationWarning)\n"
     ]
    }
   ],
   "source": [
    "DTree = DecisionTreeClassifier()\n",
    "SearchCV = CV_Model(GridSearch=False)\n",
    "SearchCV.train_model(DTree, parameter.dtree_parameter, combine_df.iloc[:12000], parameter.feature_columns, cv_split = 6)\n",
    "SearchCV.test_model(combine_df.iloc[12000:14000], parameter.feature_columns)"
   ]
  },
  {
   "cell_type": "code",
   "execution_count": 0,
   "metadata": {
    "id": "MD2McwMWjGfh",
    "colab_type": "code",
    "outputId": "b0b5ae50-512c-4fb1-ff02-fc02dac78ec7",
    "colab": {}
   },
   "outputs": [
    {
     "name": "stdout",
     "output_type": "stream",
     "text": [
      "Best Estimator KNeighborsRegressor(algorithm='auto', leaf_size=30, metric='minkowski',\n",
      "          metric_params=None, n_jobs=None, n_neighbors=4, p=2,\n",
      "          weights='uniform')\n",
      "Best Parameters:  {'n_neighbors': 4}\n",
      "Best Score:  -2748465.7093072915\n",
      "Test Loss: 2588572.8098\n"
     ]
    }
   ],
   "source": [
    "KNN = KNeighborsRegressor()\n",
    "SearchCV = CV_Model(GridSearch=False)\n",
    "SearchCV.train_model(KNN, parameter.knn_parameter, combine_df.iloc[:12000], parameter.feature_columns, cv_split = 6)\n",
    "SearchCV.test_model(combine_df.iloc[12000:14000], parameter.feature_columns)"
   ]
  },
  {
   "cell_type": "code",
   "execution_count": 0,
   "metadata": {
    "id": "xwdxYvH2jGfj",
    "colab_type": "code",
    "colab": {}
   },
   "outputs": [],
   "source": [
    "gradient_parameter = {'n_estimators': np.arange(100, 500, 50),'min_samples_split': np.arange(10, 200, 10),\n",
    "          'learning_rate': [0.001, 0.0001, 0.00001]}\n",
    "gradientB = GradientBoostingRegressor(loss=\"lad\", verbose=0)\n",
    "SearchCV = CV_Model(GridSearch=False)\n",
    "SearchCV.train_model(gradientB, gradient_parameter, combine_df.iloc[:12000], parameter.feature_columns, cv_split = 6)\n",
    "SearchCV.test_model(combine_df.iloc[12000:14000], parameter.feature_columns)"
   ]
  },
  {
   "cell_type": "code",
   "execution_count": 0,
   "metadata": {
    "id": "Zj2wubiJwLeB",
    "colab_type": "code",
    "colab": {}
   },
   "outputs": [],
   "source": [
    "ada_parameter = {'n_estimators': np.arange(100, 500, 100),'learning_rate': [0.001, 0.0001, 0.00001]}\n",
    "adaBoost = AdaBoostRegressor(base_estimator=LinearRegression())\n",
    "SearchCV = CV_Model(GridSearch=False)\n",
    "SearchCV.train_model(adaBoost, ada_parameter, combine_df.iloc[:12000], parameter.feature_columns, cv_split = 6)\n",
    "SearchCV.test_model(combine_df.iloc[12000:14000], parameter.feature_columns)"
   ]
  }
 ],
 "metadata": {
  "kernelspec": {
   "display_name": "Python 3",
   "language": "python",
   "name": "python3"
  },
  "language_info": {
   "codemirror_mode": {
    "name": "ipython",
    "version": 3
   },
   "file_extension": ".py",
   "mimetype": "text/x-python",
   "name": "python",
   "nbconvert_exporter": "python",
   "pygments_lexer": "ipython3",
   "version": "3.7.1"
  },
  "colab": {
   "name": "DataView.ipynb",
   "provenance": [],
   "collapsed_sections": []
  }
 },
 "nbformat": 4,
 "nbformat_minor": 0
}
