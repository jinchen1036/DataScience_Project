{
 "cells": [
  {
   "cell_type": "code",
   "execution_count": 1,
   "metadata": {},
   "outputs": [],
   "source": [
    "from Helper.DataLoader import *\n",
    "from Helper.StaticParameters import Parameters\n",
    "from ModelProcessor import ModelProcessor"
   ]
  },
  {
   "cell_type": "code",
   "execution_count": 2,
   "metadata": {},
   "outputs": [],
   "source": [
    "from sklearn.neighbors import KNeighborsRegressor\n",
    "from sklearn.linear_model import LinearRegression\n",
    "from sklearn.tree import DecisionTreeClassifier\n",
    "from sklearn.ensemble import GradientBoostingRegressor, AdaBoostRegressor"
   ]
  },
  {
   "cell_type": "code",
   "execution_count": 3,
   "metadata": {},
   "outputs": [],
   "source": [
    "# Init model\n",
    "parameter = Parameters()\n",
    "modelProcessor = ModelProcessor()\n",
    "\n",
    "# Get Data\n",
    "combine_df, train_df_index, test_set1_index, test_set2_index = load_dataset(numeric=True, extract_dataset=False)\n",
    "combine_df = clean_data(combine_df)\n",
    "combine_df = normalized_dataset(combine_df)"
   ]
  },
  {
   "cell_type": "markdown",
   "metadata": {},
   "source": [
    "# Train Models - All Selected Features"
   ]
  },
  {
   "cell_type": "code",
   "execution_count": 4,
   "metadata": {},
   "outputs": [
    {
     "name": "stderr",
     "output_type": "stream",
     "text": [
      "/Users/jinchen/anaconda3/lib/python3.7/site-packages/sklearn/model_selection/_split.py:652: Warning: The least populated class in y has only 1 members, which is too few. The minimum number of members in any class cannot be less than n_splits=4.\n",
      "  % (min_groups, self.n_splits)), Warning)\n"
     ]
    },
    {
     "name": "stdout",
     "output_type": "stream",
     "text": [
      "Best Estimator DecisionTreeClassifier(class_weight=None, criterion='gini', max_depth=5,\n",
      "            max_features=12, max_leaf_nodes=None,\n",
      "            min_impurity_decrease=0.0, min_impurity_split=None,\n",
      "            min_samples_leaf=1, min_samples_split=40,\n",
      "            min_weight_fraction_leaf=0.0, presort=False, random_state=None,\n",
      "            splitter='best')\n",
      "Best Parameters:  {'min_samples_split': 40, 'max_features': 12, 'max_depth': 5}\n",
      "Best Score:  -3472691.418785714\n",
      "Test Loss: 2656850.7625\n"
     ]
    },
    {
     "name": "stderr",
     "output_type": "stream",
     "text": [
      "/Users/jinchen/anaconda3/lib/python3.7/site-packages/sklearn/model_selection/_search.py:841: DeprecationWarning: The default of the `iid` parameter will change from True to False in version 0.22 and will be removed in 0.24. This will change numeric results when test-set sizes are unequal.\n",
      "  DeprecationWarning)\n"
     ]
    }
   ],
   "source": [
    "#Decision Tree\n",
    "modelProcessor.train_model(classifier=DecisionTreeClassifier(),parameters=parameter.dtree_parameter,\n",
    "                           feature_columns= parameter.feature_columns,\n",
    "                           train_df= combine_df.iloc[:14000], test_df=combine_df.iloc[14000:],\n",
    "                           grid=False,train_target='rent',cv_split = 4)"
   ]
  },
  {
   "cell_type": "code",
   "execution_count": 5,
   "metadata": {},
   "outputs": [
    {
     "name": "stdout",
     "output_type": "stream",
     "text": [
      "Best Estimator KNeighborsRegressor(algorithm='auto', leaf_size=30, metric='minkowski',\n",
      "          metric_params=None, n_jobs=None, n_neighbors=4, p=2,\n",
      "          weights='uniform')\n",
      "Best Parameters:  {'n_neighbors': 4}\n",
      "Best Score:  -4075811.8896651785\n",
      "Test Loss: 3792505.6058\n"
     ]
    }
   ],
   "source": [
    "#KNN\n",
    "modelProcessor.train_model(classifier=KNeighborsRegressor(),parameters=parameter.knn_parameter,\n",
    "                           feature_columns= parameter.feature_columns,\n",
    "                           train_df= combine_df.iloc[:14000], test_df=combine_df.iloc[14000:],\n",
    "                           grid=False,train_target='rent',cv_split = 4)"
   ]
  },
  {
   "cell_type": "code",
   "execution_count": 6,
   "metadata": {},
   "outputs": [
    {
     "name": "stdout",
     "output_type": "stream",
     "text": [
      "Best Estimator LinearRegression(copy_X=True, fit_intercept=True, n_jobs=None,\n",
      "         normalize=False)\n",
      "Best Parameters:  {'fit_intercept': True}\n",
      "Best Score:  -2527357.885914485\n",
      "Test Loss: 5727316.4732\n"
     ]
    },
    {
     "name": "stderr",
     "output_type": "stream",
     "text": [
      "/Users/jinchen/anaconda3/lib/python3.7/site-packages/sklearn/model_selection/_search.py:271: UserWarning: The total space of parameters 2 is smaller than n_iter=10. Running 2 iterations. For exhaustive searches, use GridSearchCV.\n",
      "  % (grid_size, self.n_iter, grid_size), UserWarning)\n"
     ]
    }
   ],
   "source": [
    "#Linear Regression\n",
    "modelProcessor.train_model(classifier=LinearRegression(),parameters=parameter.linreg_parameter,\n",
    "                           feature_columns= parameter.feature_columns,\n",
    "                           train_df= combine_df.iloc[:14000], test_df=combine_df.iloc[14000:],\n",
    "                           grid=False,train_target='rent',cv_split = 4)"
   ]
  },
  {
   "cell_type": "code",
   "execution_count": 7,
   "metadata": {},
   "outputs": [
    {
     "name": "stdout",
     "output_type": "stream",
     "text": [
      "Best Estimator GradientBoostingRegressor(alpha=0.9, criterion='friedman_mse', init=None,\n",
      "             learning_rate=0.001, loss='lad', max_depth=3,\n",
      "             max_features=None, max_leaf_nodes=None,\n",
      "             min_impurity_decrease=0.0, min_impurity_split=None,\n",
      "             min_samples_leaf=1, min_samples_split=110,\n",
      "             min_weight_fraction_leaf=0.0, n_estimators=300,\n",
      "             n_iter_no_change=None, presort='auto', random_state=None,\n",
      "             subsample=1.0, tol=0.0001, validation_fraction=0.1, verbose=0,\n",
      "             warm_start=False)\n",
      "Best Parameters:  {'n_estimators': 300, 'min_samples_split': 110, 'learning_rate': 0.001}\n",
      "Best Score:  -8002662.743059531\n",
      "Test Loss: 46253.2311\n"
     ]
    }
   ],
   "source": [
    "#Gradient Boosting\n",
    "modelProcessor.train_model(classifier=GradientBoostingRegressor(loss=\"lad\"),parameters=parameter.gradient_parameter,\n",
    "                           feature_columns= parameter.feature_columns,\n",
    "                           train_df= combine_df.iloc[:14000], test_df=combine_df.iloc[14000:],\n",
    "                           grid=False,train_target='rent',cv_split = 4)"
   ]
  },
  {
   "cell_type": "code",
   "execution_count": 8,
   "metadata": {},
   "outputs": [
    {
     "name": "stdout",
     "output_type": "stream",
     "text": [
      "Best Estimator AdaBoostRegressor(base_estimator=LinearRegression(copy_X=True, fit_intercept=True, n_jobs=None,\n",
      "         normalize=False),\n",
      "         learning_rate=0.0001, loss='linear', n_estimators=100,\n",
      "         random_state=None)\n",
      "Best Parameters:  {'n_estimators': 100, 'learning_rate': 0.0001}\n",
      "Best Score:  -2522361.641171052\n",
      "Test Loss: 5719932.1218\n"
     ]
    }
   ],
   "source": [
    "# Ada Boosting with Linear Regression\n",
    "modelProcessor.train_model(classifier=AdaBoostRegressor(base_estimator=LinearRegression()),\n",
    "                           parameters=parameter.ada_parameter,\n",
    "                           feature_columns= parameter.feature_columns,\n",
    "                           train_df= combine_df.iloc[:14000], test_df=combine_df.iloc[14000:],\n",
    "                           grid=False,train_target='rent',cv_split = 4)"
   ]
  },
  {
   "cell_type": "markdown",
   "metadata": {},
   "source": [
    "# Train Model - Less Features"
   ]
  },
  {
   "cell_type": "code",
   "execution_count": 9,
   "metadata": {},
   "outputs": [],
   "source": [
    "features = ['bedrooms', 'bathrooms', 'size_sqft', 'addr_zip', 'floor_count', 'min_to_subway', 'has_doorman',\n",
    "                        'is_furnished', 'allows_pets', 'no_fee','floornumber']"
   ]
  },
  {
   "cell_type": "code",
   "execution_count": 10,
   "metadata": {},
   "outputs": [
    {
     "name": "stderr",
     "output_type": "stream",
     "text": [
      "/Users/jinchen/anaconda3/lib/python3.7/site-packages/sklearn/model_selection/_split.py:652: Warning: The least populated class in y has only 1 members, which is too few. The minimum number of members in any class cannot be less than n_splits=4.\n",
      "  % (min_groups, self.n_splits)), Warning)\n",
      "/Users/jinchen/anaconda3/lib/python3.7/site-packages/sklearn/model_selection/_search.py:841: DeprecationWarning: The default of the `iid` parameter will change from True to False in version 0.22 and will be removed in 0.24. This will change numeric results when test-set sizes are unequal.\n",
      "  DeprecationWarning)\n"
     ]
    },
    {
     "name": "stdout",
     "output_type": "stream",
     "text": [
      "Best Estimator DecisionTreeClassifier(class_weight=None, criterion='gini', max_depth=15,\n",
      "            max_features=6, max_leaf_nodes=None, min_impurity_decrease=0.0,\n",
      "            min_impurity_split=None, min_samples_leaf=1,\n",
      "            min_samples_split=10, min_weight_fraction_leaf=0.0,\n",
      "            presort=False, random_state=None, splitter='best')\n",
      "Best Parameters:  {'min_samples_split': 10, 'max_features': 6, 'max_depth': 15}\n",
      "Best Score:  -3150202.2895714287\n",
      "Test Loss: 3681468.6285\n"
     ]
    }
   ],
   "source": [
    "#Decision Tree\n",
    "modelProcessor.train_model(classifier=DecisionTreeClassifier(),parameters=parameter.dtree_less_parameter,\n",
    "                           feature_columns= features,\n",
    "                           train_df= combine_df.iloc[:14000], test_df=combine_df.iloc[14000:],\n",
    "                           grid=False,train_target='rent',cv_split = 4)"
   ]
  },
  {
   "cell_type": "code",
   "execution_count": 11,
   "metadata": {},
   "outputs": [
    {
     "name": "stdout",
     "output_type": "stream",
     "text": [
      "Best Estimator KNeighborsRegressor(algorithm='auto', leaf_size=30, metric='minkowski',\n",
      "          metric_params=None, n_jobs=None, n_neighbors=6, p=2,\n",
      "          weights='uniform')\n",
      "Best Parameters:  {'n_neighbors': 6}\n",
      "Best Score:  -2543032.1381349205\n",
      "Test Loss: 5149683.4701\n"
     ]
    }
   ],
   "source": [
    "#KNN\n",
    "modelProcessor.train_model(classifier=KNeighborsRegressor(),parameters=parameter.knn_parameter,\n",
    "                           feature_columns= features,\n",
    "                           train_df= combine_df.iloc[:14000], test_df=combine_df.iloc[14000:],\n",
    "                           grid=False,train_target='rent',cv_split = 4)"
   ]
  },
  {
   "cell_type": "code",
   "execution_count": 12,
   "metadata": {},
   "outputs": [
    {
     "name": "stdout",
     "output_type": "stream",
     "text": [
      "Best Estimator LinearRegression(copy_X=True, fit_intercept=True, n_jobs=None,\n",
      "         normalize=False)\n",
      "Best Parameters:  {'fit_intercept': True}\n",
      "Best Score:  -2574970.6086334577\n",
      "Test Loss: 5709539.9990\n"
     ]
    },
    {
     "name": "stderr",
     "output_type": "stream",
     "text": [
      "/Users/jinchen/anaconda3/lib/python3.7/site-packages/sklearn/model_selection/_search.py:271: UserWarning: The total space of parameters 2 is smaller than n_iter=10. Running 2 iterations. For exhaustive searches, use GridSearchCV.\n",
      "  % (grid_size, self.n_iter, grid_size), UserWarning)\n"
     ]
    }
   ],
   "source": [
    "#Linear Regression\n",
    "modelProcessor.train_model(classifier=LinearRegression(),parameters=parameter.linreg_parameter,\n",
    "                           feature_columns= features,\n",
    "                           train_df= combine_df.iloc[:14000], test_df=combine_df.iloc[14000:],\n",
    "                           grid=False,train_target='rent',cv_split = 4)"
   ]
  },
  {
   "cell_type": "code",
   "execution_count": 13,
   "metadata": {},
   "outputs": [
    {
     "name": "stdout",
     "output_type": "stream",
     "text": [
      "Best Estimator GradientBoostingRegressor(alpha=0.9, criterion='friedman_mse', init=None,\n",
      "             learning_rate=0.001, loss='lad', max_depth=3,\n",
      "             max_features=None, max_leaf_nodes=None,\n",
      "             min_impurity_decrease=0.0, min_impurity_split=None,\n",
      "             min_samples_leaf=1, min_samples_split=130,\n",
      "             min_weight_fraction_leaf=0.0, n_estimators=250,\n",
      "             n_iter_no_change=None, presort='auto', random_state=None,\n",
      "             subsample=1.0, tol=0.0001, validation_fraction=0.1, verbose=0,\n",
      "             warm_start=False)\n",
      "Best Parameters:  {'n_estimators': 250, 'min_samples_split': 130, 'learning_rate': 0.001}\n",
      "Best Score:  -8108274.603773771\n",
      "Test Loss: 34569.2963\n"
     ]
    }
   ],
   "source": [
    "#Gradient Boosting\n",
    "modelProcessor.train_model(classifier=GradientBoostingRegressor(loss=\"lad\"),parameters=parameter.gradient_parameter,\n",
    "                           feature_columns= features,\n",
    "                           train_df= combine_df.iloc[:14000], test_df=combine_df.iloc[14000:],\n",
    "                           grid=False,train_target='rent',cv_split = 4)"
   ]
  },
  {
   "cell_type": "code",
   "execution_count": 14,
   "metadata": {},
   "outputs": [
    {
     "name": "stdout",
     "output_type": "stream",
     "text": [
      "Best Estimator AdaBoostRegressor(base_estimator=LinearRegression(copy_X=True, fit_intercept=True, n_jobs=None,\n",
      "         normalize=False),\n",
      "         learning_rate=1e-05, loss='linear', n_estimators=250,\n",
      "         random_state=None)\n",
      "Best Parameters:  {'n_estimators': 250, 'learning_rate': 1e-05}\n",
      "Best Score:  -2573662.845970374\n",
      "Test Loss: 5688203.4539\n"
     ]
    }
   ],
   "source": [
    "# Ada Boosting with Linear Regression\n",
    "modelProcessor.train_model(classifier=AdaBoostRegressor(base_estimator=LinearRegression()),\n",
    "                           parameters=parameter.ada_parameter,\n",
    "                           feature_columns= features,\n",
    "                           train_df= combine_df.iloc[:14000], test_df=combine_df.iloc[14000:],\n",
    "                           grid=False,train_target='rent',cv_split = 4)"
   ]
  },
  {
   "cell_type": "code",
   "execution_count": null,
   "metadata": {},
   "outputs": [],
   "source": []
  },
  {
   "cell_type": "markdown",
   "metadata": {},
   "source": [
    "# Test Features"
   ]
  },
  {
   "cell_type": "code",
   "execution_count": 15,
   "metadata": {},
   "outputs": [],
   "source": [
    "features = [\n",
    "    'bedrooms', 'bathrooms', 'year_built','addr_zip', 'bathrooms','size_sqft', 'no_fee'\n",
    "]"
   ]
  },
  {
   "cell_type": "code",
   "execution_count": 18,
   "metadata": {},
   "outputs": [
    {
     "name": "stderr",
     "output_type": "stream",
     "text": [
      "/Users/jinchen/anaconda3/lib/python3.7/site-packages/sklearn/model_selection/_split.py:652: Warning: The least populated class in y has only 1 members, which is too few. The minimum number of members in any class cannot be less than n_splits=4.\n",
      "  % (min_groups, self.n_splits)), Warning)\n"
     ]
    },
    {
     "name": "stdout",
     "output_type": "stream",
     "text": [
      "Best Estimator DecisionTreeClassifier(class_weight=None, criterion='gini', max_depth=10,\n",
      "            max_features=4, max_leaf_nodes=None, min_impurity_decrease=0.0,\n",
      "            min_impurity_split=None, min_samples_leaf=1,\n",
      "            min_samples_split=20, min_weight_fraction_leaf=0.0,\n",
      "            presort=False, random_state=None, splitter='best')\n",
      "Best Parameters:  {'min_samples_split': 20, 'max_features': 4, 'max_depth': 10}\n",
      "Best Score:  -3298075.4839285715\n",
      "Test Loss: 6614827.2700\n"
     ]
    },
    {
     "name": "stderr",
     "output_type": "stream",
     "text": [
      "/Users/jinchen/anaconda3/lib/python3.7/site-packages/sklearn/model_selection/_search.py:841: DeprecationWarning: The default of the `iid` parameter will change from True to False in version 0.22 and will be removed in 0.24. This will change numeric results when test-set sizes are unequal.\n",
      "  DeprecationWarning)\n"
     ]
    }
   ],
   "source": [
    "#Decision Tree\n",
    "parameter.dtree_less_parameter['max_features'] = np.arange(2, 6, 2)\n",
    "modelProcessor.train_model(classifier=DecisionTreeClassifier(),parameters=parameter.dtree_less_parameter,\n",
    "                           feature_columns= features,\n",
    "                           train_df= combine_df.iloc[:14000], test_df=combine_df.iloc[14000:],\n",
    "                           grid=False,train_target='rent',cv_split = 4)"
   ]
  },
  {
   "cell_type": "code",
   "execution_count": null,
   "metadata": {},
   "outputs": [],
   "source": []
  }
 ],
 "metadata": {
  "kernelspec": {
   "display_name": "Python 3",
   "language": "python",
   "name": "python3"
  },
  "language_info": {
   "codemirror_mode": {
    "name": "ipython",
    "version": 3
   },
   "file_extension": ".py",
   "mimetype": "text/x-python",
   "name": "python",
   "nbconvert_exporter": "python",
   "pygments_lexer": "ipython3",
   "version": "3.7.1"
  }
 },
 "nbformat": 4,
 "nbformat_minor": 2
}
