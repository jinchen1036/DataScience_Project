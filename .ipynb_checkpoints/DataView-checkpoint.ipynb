{
 "cells": [
  {
   "cell_type": "code",
   "execution_count": 1,
   "metadata": {},
   "outputs": [],
   "source": [
    "from Helper.DataLoader import *\n",
    "from Helper.DataVisualization import statistic_analysis\n",
    "from Helper.SearchCVModels import CV_Model\n",
    "from Helper.StaticParameters import Parameters\n",
    "\n",
    "from sklearn.neighbors import KNeighborsRegressor\n",
    "from sklearn.linear_model import LinearRegression\n",
    "from sklearn.tree import DecisionTreeClassifier"
   ]
  },
  {
   "cell_type": "code",
   "execution_count": 2,
   "metadata": {},
   "outputs": [],
   "source": [
    "# Prepare Dataset\n",
    "combine_df, train_df_index, test_set1_index, test_set2_index = load_dataset(numeric=True, extract_dataset=False)\n",
    "combine_df = clean_data(combine_df)\n",
    "combine_df = normalized_dataset(combine_df)"
   ]
  },
  {
   "cell_type": "code",
   "execution_count": 3,
   "metadata": {},
   "outputs": [
    {
     "name": "stdout",
     "output_type": "stream",
     "text": [
      "                            OLS Regression Results                            \n",
      "==============================================================================\n",
      "Dep. Variable:                   rent   R-squared:                       0.703\n",
      "Model:                            OLS   Adj. R-squared:                  0.703\n",
      "Method:                 Least Squares   F-statistic:                     1325.\n",
      "Date:                Mon, 18 Nov 2019   Prob (F-statistic):               0.00\n",
      "Time:                        22:47:48   Log-Likelihood:            -1.2285e+05\n",
      "No. Observations:               14000   AIC:                         2.457e+05\n",
      "Df Residuals:                   13974   BIC:                         2.459e+05\n",
      "Df Model:                          25                                         \n",
      "Covariance Type:            nonrobust                                         \n",
      "==========================================================================================\n",
      "                             coef    std err          t      P>|t|      [0.025      0.975]\n",
      "------------------------------------------------------------------------------------------\n",
      "const                   1665.1880     97.198     17.132      0.000    1474.668    1855.708\n",
      "bedrooms                -756.8527    139.976     -5.407      0.000   -1031.224    -482.482\n",
      "bathrooms               7033.8773    228.488     30.784      0.000    6586.010    7481.744\n",
      "size_sqft               2.742e+04    341.460     80.293      0.000    2.67e+04    2.81e+04\n",
      "addr_zip               -1490.0311     74.660    -19.958      0.000   -1636.374   -1343.688\n",
      "addr_lat                 -48.1983    138.958     -0.347      0.729    -320.574     224.177\n",
      "addr_lon               -2442.9943    214.082    -11.412      0.000   -2862.623   -2023.366\n",
      "floor_count             -847.1006    197.961     -4.279      0.000   -1235.131    -459.070\n",
      "year_built                54.2356    101.598      0.534      0.593    -144.910     253.381\n",
      "min_to_subway           -897.8393    218.657     -4.106      0.000   -1326.436    -469.243\n",
      "has_doorman              254.3284     49.487      5.139      0.000     157.327     351.329\n",
      "has_elevator             252.7438     40.037      6.313      0.000     174.266     331.222\n",
      "has_fireplace            244.4887     73.148      3.342      0.001     101.109     387.868\n",
      "has_dishwasher          -148.6462     30.774     -4.830      0.000    -208.968     -88.324\n",
      "is_furnished             675.6099     77.320      8.738      0.000     524.052     827.167\n",
      "has_gym                  297.4016     50.403      5.900      0.000     198.605     396.198\n",
      "allows_pets              128.9347     29.274      4.404      0.000      71.554     186.315\n",
      "has_washer_dryer         206.1889     34.607      5.958      0.000     138.355     274.023\n",
      "has_garage              -110.8525     41.854     -2.649      0.008    -192.892     -28.813\n",
      "has_roofdeck             124.1482     37.691      3.294      0.001      50.268     198.028\n",
      "has_concierge            267.7077     52.035      5.145      0.000     165.712     369.703\n",
      "has_pool                 187.5120     61.691      3.040      0.002      66.589     308.435\n",
      "has_garden               -26.1959     41.402     -0.633      0.527    -107.350      54.958\n",
      "has_childrens_playroom    90.1898     56.682      1.591      0.112     -20.915     201.294\n",
      "no_fee                   -99.1266     29.575     -3.352      0.001    -157.098     -41.156\n",
      "floornumber             2088.3492    216.337      9.653      0.000    1664.299    2512.399\n",
      "==============================================================================\n",
      "Omnibus:                    15690.886   Durbin-Watson:                   2.020\n",
      "Prob(Omnibus):                  0.000   Jarque-Bera (JB):          5716332.395\n",
      "Skew:                           5.260   Prob(JB):                         0.00\n",
      "Kurtosis:                     101.431   Cond. No.                         55.8\n",
      "==============================================================================\n",
      "\n",
      "Warnings:\n",
      "[1] Standard Errors assume that the covariance matrix of the errors is correctly specified.\n"
     ]
    }
   ],
   "source": [
    "# Visualize Columns \n",
    "statistic_analysis(combine_df)"
   ]
  },
  {
   "cell_type": "code",
   "execution_count": 4,
   "metadata": {},
   "outputs": [],
   "source": [
    "parameter = Parameters()"
   ]
  },
  {
   "cell_type": "code",
   "execution_count": 12,
   "metadata": {},
   "outputs": [
    {
     "name": "stderr",
     "output_type": "stream",
     "text": [
      "/Users/jinchen/anaconda3/lib/python3.7/site-packages/sklearn/model_selection/_split.py:652: Warning: The least populated class in y has only 1 members, which is too few. The minimum number of members in any class cannot be less than n_splits=6.\n",
      "  % (min_groups, self.n_splits)), Warning)\n"
     ]
    },
    {
     "name": "stdout",
     "output_type": "stream",
     "text": [
      "Best Estimator DecisionTreeClassifier(class_weight=None, criterion='gini', max_depth=10,\n",
      "            max_features=12, max_leaf_nodes=None,\n",
      "            min_impurity_decrease=0.0, min_impurity_split=None,\n",
      "            min_samples_leaf=1, min_samples_split=50,\n",
      "            min_weight_fraction_leaf=0.0, presort=False, random_state=None,\n",
      "            splitter='best')\n",
      "Best Parameters:  {'min_samples_split': 50, 'max_features': 12, 'max_depth': 10}\n",
      "Best Score:  -2723029.276\n",
      "Test Loss: 3673441.7905\n"
     ]
    },
    {
     "name": "stderr",
     "output_type": "stream",
     "text": [
      "/Users/jinchen/anaconda3/lib/python3.7/site-packages/sklearn/model_selection/_search.py:841: DeprecationWarning: The default of the `iid` parameter will change from True to False in version 0.22 and will be removed in 0.24. This will change numeric results when test-set sizes are unequal.\n",
      "  DeprecationWarning)\n"
     ]
    }
   ],
   "source": [
    "DTree = DecisionTreeClassifier()\n",
    "SearchCV = CV_Model(GridSearch=False)\n",
    "SearchCV.train_model(DTree, parameter.dtree_parameter, combine_df.iloc[:12000], parameter.feature_columns, cv_split = 6)\n",
    "SearchCV.test_model(combine_df.iloc[12000:14000], parameter.feature_columns)"
   ]
  },
  {
   "cell_type": "code",
   "execution_count": 11,
   "metadata": {},
   "outputs": [
    {
     "name": "stdout",
     "output_type": "stream",
     "text": [
      "Best Estimator KNeighborsRegressor(algorithm='auto', leaf_size=30, metric='minkowski',\n",
      "          metric_params=None, n_jobs=None, n_neighbors=4, p=2,\n",
      "          weights='uniform')\n",
      "Best Parameters:  {'n_neighbors': 4}\n",
      "Best Score:  -3890679.1065416667\n",
      "Test Loss: 3911766.0539\n"
     ]
    }
   ],
   "source": [
    "KNN = KNeighborsRegressor()\n",
    "SearchCV = CV_Model(GridSearch=False)\n",
    "SearchCV.train_model(KNN, parameter.knn_parameter, combine_df.iloc[:12000], parameter.feature_columns, cv_split = 6)\n",
    "SearchCV.test_model(combine_df.iloc[12000:14000], parameter.feature_columns)"
   ]
  },
  {
   "cell_type": "markdown",
   "metadata": {},
   "source": [
    "### Change Feature Columns"
   ]
  },
  {
   "cell_type": "code",
   "execution_count": 15,
   "metadata": {},
   "outputs": [],
   "source": [
    "parameter.feature_columns = ['bedrooms','bathrooms','size_sqft','addr_zip','min_to_subway',\n",
    "                                'has_elevator','is_furnished','has_gym','allows_pets','no_fee','floornumber']\n",
    "parameter.dtree_parameter['max_features'] = np.arange(4, 11, 2)"
   ]
  },
  {
   "cell_type": "code",
   "execution_count": 17,
   "metadata": {},
   "outputs": [
    {
     "name": "stderr",
     "output_type": "stream",
     "text": [
      "/Users/jinchen/anaconda3/lib/python3.7/site-packages/sklearn/model_selection/_split.py:652: Warning: The least populated class in y has only 1 members, which is too few. The minimum number of members in any class cannot be less than n_splits=6.\n",
      "  % (min_groups, self.n_splits)), Warning)\n"
     ]
    },
    {
     "name": "stdout",
     "output_type": "stream",
     "text": [
      "Best Estimator DecisionTreeClassifier(class_weight=None, criterion='gini', max_depth=10,\n",
      "            max_features=8, max_leaf_nodes=None, min_impurity_decrease=0.0,\n",
      "            min_impurity_split=None, min_samples_leaf=1,\n",
      "            min_samples_split=100, min_weight_fraction_leaf=0.0,\n",
      "            presort=False, random_state=None, splitter='best')\n",
      "Best Parameters:  {'min_samples_split': 100, 'max_features': 8, 'max_depth': 10}\n",
      "Best Score:  -2942668.336\n",
      "Test Loss: 3491868.8260\n"
     ]
    },
    {
     "name": "stderr",
     "output_type": "stream",
     "text": [
      "/Users/jinchen/anaconda3/lib/python3.7/site-packages/sklearn/model_selection/_search.py:841: DeprecationWarning: The default of the `iid` parameter will change from True to False in version 0.22 and will be removed in 0.24. This will change numeric results when test-set sizes are unequal.\n",
      "  DeprecationWarning)\n"
     ]
    }
   ],
   "source": [
    "DTree = DecisionTreeClassifier()\n",
    "SearchCV = CV_Model(GridSearch=False)\n",
    "SearchCV.train_model(DTree, parameter.dtree_parameter, combine_df.iloc[:12000], parameter.feature_columns, cv_split = 6)\n",
    "SearchCV.test_model(combine_df.iloc[12000:14000], parameter.feature_columns)"
   ]
  },
  {
   "cell_type": "code",
   "execution_count": 18,
   "metadata": {},
   "outputs": [
    {
     "name": "stdout",
     "output_type": "stream",
     "text": [
      "Best Estimator KNeighborsRegressor(algorithm='auto', leaf_size=30, metric='minkowski',\n",
      "          metric_params=None, n_jobs=None, n_neighbors=4, p=2,\n",
      "          weights='uniform')\n",
      "Best Parameters:  {'n_neighbors': 4}\n",
      "Best Score:  -2748465.7093072915\n",
      "Test Loss: 2588572.8098\n"
     ]
    }
   ],
   "source": [
    "KNN = KNeighborsRegressor()\n",
    "SearchCV = CV_Model(GridSearch=False)\n",
    "SearchCV.train_model(KNN, parameter.knn_parameter, combine_df.iloc[:12000], parameter.feature_columns, cv_split = 6)\n",
    "SearchCV.test_model(combine_df.iloc[12000:14000], parameter.feature_columns)"
   ]
  },
  {
   "cell_type": "code",
   "execution_count": null,
   "metadata": {},
   "outputs": [],
   "source": []
  }
 ],
 "metadata": {
  "kernelspec": {
   "display_name": "Python 3",
   "language": "python",
   "name": "python3"
  },
  "language_info": {
   "codemirror_mode": {
    "name": "ipython",
    "version": 3
   },
   "file_extension": ".py",
   "mimetype": "text/x-python",
   "name": "python",
   "nbconvert_exporter": "python",
   "pygments_lexer": "ipython3",
   "version": "3.7.1"
  }
 },
 "nbformat": 4,
 "nbformat_minor": 2
}
