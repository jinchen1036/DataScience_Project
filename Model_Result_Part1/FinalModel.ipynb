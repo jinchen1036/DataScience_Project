{
 "cells": [
  {
   "cell_type": "code",
   "execution_count": 1,
   "metadata": {},
   "outputs": [],
   "source": [
    "import os\n",
    "os.chdir('../')"
   ]
  },
  {
   "cell_type": "code",
   "execution_count": 2,
   "metadata": {},
   "outputs": [],
   "source": [
    "from Helper.DataLoader import *\n",
    "from Helper.StaticParameters import Parameters\n",
    "from Helper.ModelProcessor import ModelProcessor\n",
    "\n",
    "from sklearn.ensemble import GradientBoostingRegressor, RandomForestRegressor"
   ]
  },
  {
   "cell_type": "code",
   "execution_count": 3,
   "metadata": {},
   "outputs": [],
   "source": [
    "# Init model\n",
    "parameter = Parameters()\n",
    "modelProcessor = ModelProcessor()\n",
    "\n",
    "# Get Data\n",
    "combine_df, train_df_index, test_set1_index, test_set2_index = load_dataset(numeric=True, extract_dataset=False)\n",
    "combine_df = clean_data(combine_df)\n",
    "# combine_df = normalized_dataset(combine_df)"
   ]
  },
  {
   "cell_type": "code",
   "execution_count": 9,
   "metadata": {},
   "outputs": [
    {
     "name": "stdout",
     "output_type": "stream",
     "text": [
      "Train Loss: 173603.3291\n",
      "Test Set 1 Loss: 1743435.8523\n",
      "Test Set 2 - Loss: 6583444.1690\n"
     ]
    }
   ],
   "source": [
    "random_train_pred, random_test1_pred, random_test2_pred = modelProcessor.train_final_model(\n",
    "                                                             RandomForestRegressor(max_features=10,n_estimators=320,\n",
    "                                                                                   criterion='mse',bootstrap=True),\n",
    "                                                             train_df= combine_df.loc[train_df_index], \n",
    "                                                             test_df=combine_df.loc[test_set1_index],\n",
    "                                                             feature_columns = parameter.feature_columns,\n",
    "                                                             train_target='rent', trainWithTest1 = False,\n",
    "                                                             test2_df=combine_df.loc[test_set2_index]\n",
    "                                                            )"
   ]
  },
  {
   "cell_type": "code",
   "execution_count": 5,
   "metadata": {},
   "outputs": [
    {
     "name": "stdout",
     "output_type": "stream",
     "text": [
      "Train Loss: 4886592.3184\n",
      "Test Set 1 Loss: 4865627.4079\n",
      "Test Set 2 - Loss: 1133123.8333\n"
     ]
    }
   ],
   "source": [
    "gradient_train_pred, gradient_test1_pred, gradient_test2_pred = modelProcessor.train_final_model(\n",
    "                                                     GradientBoostingRegressor(learning_rate=0.001,\n",
    "                                                                               n_estimators=450,\n",
    "                                                                               min_samples_split=10),\n",
    "                                                     train_df= combine_df.loc[train_df_index], \n",
    "                                                     test_df=combine_df.loc[test_set1_index],\n",
    "                                                     feature_columns = parameter.feature_columns,\n",
    "                                                     train_target='rent', trainWithTest1 = False,\n",
    "                                                     test2_df=combine_df.loc[test_set2_index]\n",
    "                                                    )"
   ]
  },
  {
   "cell_type": "markdown",
   "metadata": {},
   "source": [
    "# Save the Result CSV File"
   ]
  },
  {
   "cell_type": "code",
   "execution_count": 10,
   "metadata": {},
   "outputs": [],
   "source": [
    "test1_df = combine_df.loc[test_set1_index]\n",
    "test1_df['predictions'] = random_test1_pred\n",
    "test1_df['predictions'].to_csv(\"RandomForest_Prediction_TestSet1.csv\", header=True)"
   ]
  },
  {
   "cell_type": "code",
   "execution_count": 8,
   "metadata": {},
   "outputs": [],
   "source": [
    "test2_df = combine_df.loc[test_set2_index]\n",
    "test2_df['predictions'] = random_test2_pred\n",
    "test2_df['predictions'].to_csv(\"RandomForest_Prediction_TestSet2.csv\", header=True)"
   ]
  },
  {
   "cell_type": "code",
   "execution_count": 23,
   "metadata": {},
   "outputs": [],
   "source": [
    "test2_df['predictions'] = gradient_test2_pred\n",
    "test2_df['predictions'].to_csv(\"GradientBoosting_Prediction_TestSet2.csv\", header=True)"
   ]
  },
  {
   "cell_type": "markdown",
   "metadata": {},
   "source": [
    "# Check Result - If Save Correctly "
   ]
  },
  {
   "cell_type": "code",
   "execution_count": 11,
   "metadata": {},
   "outputs": [],
   "source": [
    "save_test1_df = pd.read_csv('RandomForest_Prediction_TestSet1.csv', index_col=0)\n",
    "new_df = pd.concat([test1_df['rent'],save_test1_df],axis=1)"
   ]
  },
  {
   "cell_type": "code",
   "execution_count": 12,
   "metadata": {},
   "outputs": [
    {
     "data": {
      "text/plain": [
       "(2000, 2)"
      ]
     },
     "execution_count": 12,
     "metadata": {},
     "output_type": "execute_result"
    }
   ],
   "source": [
    "new_df.shape"
   ]
  },
  {
   "cell_type": "code",
   "execution_count": 13,
   "metadata": {},
   "outputs": [
    {
     "data": {
      "text/plain": [
       "(2000, 27)"
      ]
     },
     "execution_count": 13,
     "metadata": {},
     "output_type": "execute_result"
    }
   ],
   "source": [
    "test1_df.shape"
   ]
  },
  {
   "cell_type": "code",
   "execution_count": 14,
   "metadata": {},
   "outputs": [
    {
     "data": {
      "text/plain": [
       "Index(['rent', 'predictions'], dtype='object')"
      ]
     },
     "execution_count": 14,
     "metadata": {},
     "output_type": "execute_result"
    }
   ],
   "source": [
    "new_df.columns"
   ]
  },
  {
   "cell_type": "code",
   "execution_count": 15,
   "metadata": {},
   "outputs": [
    {
     "data": {
      "text/plain": [
       "1743435.8523362575"
      ]
     },
     "execution_count": 15,
     "metadata": {},
     "output_type": "execute_result"
    }
   ],
   "source": [
    "from sklearn.metrics import mean_squared_error\n",
    "mean_squared_error(new_df.rent, new_df.predictions)"
   ]
  },
  {
   "cell_type": "markdown",
   "metadata": {},
   "source": [
    "# Analysis Loss "
   ]
  },
  {
   "cell_type": "code",
   "execution_count": 9,
   "metadata": {},
   "outputs": [],
   "source": [
    "train_df = combine_df.loc[train_df_index]\n",
    "median_rents = np.ones(test2_df.shape[0]) * train_df.rent.median()"
   ]
  },
  {
   "cell_type": "code",
   "execution_count": 12,
   "metadata": {},
   "outputs": [
    {
     "data": {
      "text/plain": [
       "7828536.681"
      ]
     },
     "execution_count": 12,
     "metadata": {},
     "output_type": "execute_result"
    }
   ],
   "source": [
    "# compare median rent with test 1 actual rent\n",
    "mean_squared_error(test1_df.rent, median_rents)"
   ]
  },
  {
   "cell_type": "code",
   "execution_count": 13,
   "metadata": {},
   "outputs": [
    {
     "data": {
      "text/plain": [
       "5253709.207441179"
      ]
     },
     "execution_count": 13,
     "metadata": {},
     "output_type": "execute_result"
    }
   ],
   "source": [
    "# compare median rent with test 1 prediction rent\n",
    "mean_squared_error(test1_df.predictions, median_rents)"
   ]
  },
  {
   "cell_type": "code",
   "execution_count": 14,
   "metadata": {},
   "outputs": [
    {
     "data": {
      "text/plain": [
       "1739729.2770655341"
      ]
     },
     "execution_count": 14,
     "metadata": {},
     "output_type": "execute_result"
    }
   ],
   "source": [
    "# compare test 1 actual rent and predict rent\n",
    "mean_squared_error(test1_df.predictions, test1_df.rent)"
   ]
  },
  {
   "cell_type": "markdown",
   "metadata": {},
   "source": [
    "#### Conclusion: Median Rent do poorly on estimate the actual loss"
   ]
  },
  {
   "cell_type": "markdown",
   "metadata": {},
   "source": [
    "# Normalization Data - Less Features"
   ]
  },
  {
   "cell_type": "code",
   "execution_count": 6,
   "metadata": {},
   "outputs": [
    {
     "name": "stdout",
     "output_type": "stream",
     "text": [
      "Train Loss: 178331.7395\n",
      "Test Set 1 Loss: 1750304.2386\n",
      "Test Set 2 - Loss: 6537426.7855\n"
     ]
    }
   ],
   "source": [
    "combine_df = normalized_dataset(combine_df)\n",
    "random_train_pred, random_test1_pred, random_test2_pred = modelProcessor.train_final_model(\n",
    "                                                             RandomForestRegressor(max_features=10,n_estimators=320,\n",
    "                                                                                   criterion='mse',bootstrap=True),\n",
    "                                                             train_df= combine_df.loc[train_df_index], \n",
    "                                                             test_df=combine_df.loc[test_set1_index],\n",
    "                                                             feature_columns = parameter.feature_columns,\n",
    "                                                             train_target='rent', trainWithTest1 = False,\n",
    "                                                             test2_df=combine_df.loc[test_set2_index]\n",
    "                                                            )"
   ]
  },
  {
   "cell_type": "code",
   "execution_count": 7,
   "metadata": {
    "collapsed": false
   },
   "outputs": [
    {
     "name": "stdout",
     "output_type": "stream",
     "text": [
      "Train Loss: 198325.9440\n",
      "Test Set 1 Loss: 1787680.1939\n",
      "Test Set 2 - Loss: 6790996.1342\n"
     ]
    }
   ],
   "source": [
    "features = ['bedrooms','bathrooms','size_sqft','addr_zip','has_elevator','has_gym','allows_pets','no_fee','has_pool','floornumber']\n",
    "random_train_pred, random_test1_pred, random_test2_pred = modelProcessor.train_final_model(\n",
    "                                                             RandomForestRegressor(max_features=10,n_estimators=320,\n",
    "                                                                                   criterion='mse',bootstrap=True),\n",
    "                                                             train_df= combine_df.loc[train_df_index], \n",
    "                                                             test_df=combine_df.loc[test_set1_index],\n",
    "                                                             feature_columns = features,\n",
    "                                                             train_target='rent', trainWithTest1 = False,\n",
    "                                                             test2_df=combine_df.loc[test_set2_index]\n",
    "                                                            )"
   ]
  },
  {
   "cell_type": "markdown",
   "metadata": {},
   "source": [
    "#### Normalization don't make any big difference, performance similar as the original data, less features will make the model performance worse."
   ]
  },
  {
   "cell_type": "markdown",
   "metadata": {},
   "source": [
    "# Final Prediction"
   ]
  },
  {
   "cell_type": "code",
   "execution_count": 8,
   "metadata": {},
   "outputs": [
    {
     "data": {
      "text/plain": [
       "(14000,)"
      ]
     },
     "execution_count": 8,
     "metadata": {},
     "output_type": "execute_result"
    }
   ],
   "source": [
    "import numpy as np\n",
    "combine_df_index = np.concatenate([train_df_index,test_set1_index])\n",
    "combine_df_index.shape"
   ]
  },
  {
   "cell_type": "code",
   "execution_count": 9,
   "metadata": {},
   "outputs": [
    {
     "name": "stdout",
     "output_type": "stream",
     "text": [
      "Train Loss: 181415.2228\n",
      "Test Set Loss: 6766959.5468\n"
     ]
    }
   ],
   "source": [
    "random_train_pred, random_test2_pred = modelProcessor.train_final_model(\n",
    "                                                             RandomForestRegressor(max_features=10,n_estimators=320,\n",
    "                                                                                   criterion='mse',bootstrap=True),\n",
    "                                                             train_df= combine_df.loc[combine_df_index], \n",
    "                                                             test_df=combine_df.loc[test_set2_index],\n",
    "                                                             feature_columns = parameter.feature_columns\n",
    "                                                            )"
   ]
  },
  {
   "cell_type": "code",
   "execution_count": 10,
   "metadata": {},
   "outputs": [],
   "source": [
    "test2_df = combine_df.loc[test_set2_index]\n",
    "test2_df['predictions'] = random_test2_pred\n",
    "test2_df['predictions'].to_csv(\"RandomForest_Prediction_TestSet2_Normalized.csv\", header=True)"
   ]
  },
  {
   "cell_type": "code",
   "execution_count": 11,
   "metadata": {},
   "outputs": [],
   "source": [
    "combine_df, train_df_index, test_set1_index, test_set2_index = load_dataset(numeric=True, extract_dataset=False)\n",
    "combine_df = clean_data(combine_df)"
   ]
  },
  {
   "cell_type": "code",
   "execution_count": 12,
   "metadata": {},
   "outputs": [
    {
     "name": "stdout",
     "output_type": "stream",
     "text": [
      "Train Loss: 178825.0647\n",
      "Test Set Loss: 6794227.2186\n"
     ]
    }
   ],
   "source": [
    "random_train_pred, random_test2_pred = modelProcessor.train_final_model(\n",
    "                                                             RandomForestRegressor(max_features=10,n_estimators=320,\n",
    "                                                                                   criterion='mse',bootstrap=True),\n",
    "                                                             train_df= combine_df.loc[combine_df_index], \n",
    "                                                             test_df=combine_df.loc[test_set2_index],\n",
    "                                                             feature_columns = parameter.feature_columns\n",
    "                                                            )"
   ]
  },
  {
   "cell_type": "code",
   "execution_count": 13,
   "metadata": {},
   "outputs": [],
   "source": [
    "test2_df = combine_df.loc[test_set2_index]\n",
    "test2_df['predictions'] = random_test2_pred\n",
    "test2_df['predictions'].to_csv(\"RandomForest_Prediction_TestSet2_NotNormalized.csv\", header=True)"
   ]
  },
  {
   "cell_type": "code",
   "execution_count": null,
   "metadata": {},
   "outputs": [],
   "source": []
  }
 ],
 "metadata": {
  "kernelspec": {
   "display_name": "Python 3",
   "language": "python",
   "name": "python3"
  },
  "language_info": {
   "codemirror_mode": {
    "name": "ipython",
    "version": 3
   },
   "file_extension": ".py",
   "mimetype": "text/x-python",
   "name": "python",
   "nbconvert_exporter": "python",
   "pygments_lexer": "ipython3",
   "version": "3.7.1"
  }
 },
 "nbformat": 4,
 "nbformat_minor": 2
}
