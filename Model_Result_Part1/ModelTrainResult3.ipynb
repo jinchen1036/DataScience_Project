{
 "cells": [
  {
   "cell_type": "markdown",
   "metadata": {
    "colab_type": "text",
    "id": "view-in-github"
   },
   "source": [
    "<a href=\"https://colab.research.google.com/github/jinchen1036/DataScience_Project/blob/master/ModelTrainResult3.ipynb\" target=\"_parent\"><img src=\"https://colab.research.google.com/assets/colab-badge.svg\" alt=\"Open In Colab\"/></a>"
   ]
  },
  {
   "cell_type": "code",
   "execution_count": 2,
   "metadata": {
    "colab": {
     "base_uri": "https://localhost:8080/",
     "height": 122
    },
    "colab_type": "code",
    "id": "UcF6ZbJgqnZ6",
    "outputId": "4b3c4bf3-f6d5-4f45-ef92-664c1d92d1b1"
   },
   "outputs": [
    {
     "name": "stdout",
     "output_type": "stream",
     "text": [
      "Go to this URL in a browser: https://accounts.google.com/o/oauth2/auth?client_id=947318989803-6bn6qk8qdgf4n4g3pfee6491hc0brc4i.apps.googleusercontent.com&redirect_uri=urn%3aietf%3awg%3aoauth%3a2.0%3aoob&response_type=code&scope=email%20https%3a%2f%2fwww.googleapis.com%2fauth%2fdocs.test%20https%3a%2f%2fwww.googleapis.com%2fauth%2fdrive%20https%3a%2f%2fwww.googleapis.com%2fauth%2fdrive.photos.readonly%20https%3a%2f%2fwww.googleapis.com%2fauth%2fpeopleapi.readonly\n",
      "\n",
      "Enter your authorization code:\n",
      "··········\n",
      "Mounted at /content/drive\n"
     ]
    }
   ],
   "source": [
    "# Only if running in colab\n",
    "from google.colab import drive\n",
    "drive.mount('/content/drive')\n"
   ]
  },
  {
   "cell_type": "code",
   "execution_count": 3,
   "metadata": {
    "colab": {
     "base_uri": "https://localhost:8080/",
     "height": 34
    },
    "colab_type": "code",
    "id": "KE5-bAVzqpk7",
    "outputId": "9b2b3aae-a65d-4a26-e33a-d163f2e66f03"
   },
   "outputs": [
    {
     "data": {
      "text/plain": [
       "'/content/drive/My Drive/Fall 2019/DataScience/Project/DataScience_Project'"
      ]
     },
     "execution_count": 3,
     "metadata": {
      "tags": []
     },
     "output_type": "execute_result"
    }
   ],
   "source": [
    "import os\n",
    "# change the path for your own drive path to the project\n",
    "os.chdir('/content/drive/My Drive/Fall 2019/DataScience/Project/DataScience_Project')\n",
    "os.getcwd()"
   ]
  },
  {
   "cell_type": "code",
   "execution_count": 0,
   "metadata": {
    "colab": {},
    "colab_type": "code",
    "id": "vqfNf8YaqlbC"
   },
   "outputs": [],
   "source": [
    "from Helper.DataLoader import *\n",
    "from Helper.StaticParameters import Parameters\n",
    "from Helper.ModelProcessor import ModelProcessor\n",
    "\n",
    "from sklearn.neighbors import KNeighborsRegressor\n",
    "from sklearn.linear_model import LinearRegression\n",
    "from sklearn.tree import DecisionTreeRegressor\n",
    "from sklearn.ensemble import GradientBoostingRegressor, AdaBoostRegressor, RandomForestRegressor"
   ]
  },
  {
   "cell_type": "code",
   "execution_count": 0,
   "metadata": {
    "colab": {},
    "colab_type": "code",
    "id": "0a4srKvlqhdt"
   },
   "outputs": [],
   "source": [
    "# Init model\n",
    "parameter = Parameters()\n",
    "modelProcessor = ModelProcessor()\n",
    "\n",
    "# Get Data\n",
    "combine_df, train_df_index, test_set1_index, test_set2_index = load_dataset(numeric=True, extract_dataset=False)\n",
    "combine_df = clean_data(combine_df)\n",
    "# combine_df = normalized_dataset(combine_df)"
   ]
  },
  {
   "cell_type": "code",
   "execution_count": 0,
   "metadata": {
    "colab": {},
    "colab_type": "code",
    "id": "sWuaHZzOQoxN"
   },
   "outputs": [],
   "source": []
  },
  {
   "cell_type": "markdown",
   "metadata": {
    "colab_type": "text",
    "id": "DXjOU8TAqNxi"
   },
   "source": [
    "# Train Model with train set and test with test set 1 \n",
    "  - Test all the hyperparameter by setting grid=True, if false only random test the hyparmeters"
   ]
  },
  {
   "cell_type": "code",
   "execution_count": 0,
   "metadata": {
    "colab": {},
    "colab_type": "code",
    "id": "8bUsTaAYqWJc"
   },
   "outputs": [],
   "source": [
    "feature_column1 = ['bedrooms','bathrooms','size_sqft','addr_zip','floor_count','min_to_subway','has_doorman',\n",
    "                                'has_elevator','has_dishwasher','is_furnished','has_gym','allows_pets','has_washer_dryer',\n",
    "                                'has_concierge','no_fee','has_pool','floornumber']"
   ]
  },
  {
   "cell_type": "code",
   "execution_count": 9,
   "metadata": {
    "colab": {
     "base_uri": "https://localhost:8080/",
     "height": 102
    },
    "colab_type": "code",
    "id": "5ql7CD6fqNxi",
    "outputId": "c601d362-41bf-472f-cdca-e26f1118a70f"
   },
   "outputs": [
    {
     "name": "stdout",
     "output_type": "stream",
     "text": [
      "Best Estimator LinearRegression(copy_X=True, fit_intercept=True, n_jobs=None, normalize=False)\n",
      "Best Parameters:  {'fit_intercept': True}\n",
      "Best Score:  -2462756.858821608\n",
      "Test Set 1 - Loss: 2870402.2234\n",
      "Test Set 2 - Loss: 5830874.4832\n"
     ]
    }
   ],
   "source": [
    "#Linear Regression\n",
    "modelProcessor.train_model(classifier=LinearRegression(),\n",
    "                           parameters=parameter.linreg_parameter,\n",
    "                           feature_columns= parameter.feature_columns,\n",
    "                           train_df= combine_df.iloc[:12000], \n",
    "                           test_df=combine_df.iloc[12000:14000],\n",
    "                           grid=True,train_target='rent',\n",
    "                           cv_split = 4, trainWithTest1=False, \n",
    "                           test2_df=combine_df.iloc[14000:])"
   ]
  },
  {
   "cell_type": "code",
   "execution_count": 21,
   "metadata": {
    "colab": {
     "base_uri": "https://localhost:8080/",
     "height": 102
    },
    "colab_type": "code",
    "id": "Wm22xmwDrrGl",
    "outputId": "ec492c29-cce5-49fd-8b9c-c070aaca7000"
   },
   "outputs": [
    {
     "name": "stdout",
     "output_type": "stream",
     "text": [
      "Best Estimator LinearRegression(copy_X=True, fit_intercept=True, n_jobs=None, normalize=False)\n",
      "Best Parameters:  {'fit_intercept': True}\n",
      "Best Score:  -2462756.858821604\n",
      "Test Set 1 - Loss: 2870402.2234\n",
      "Test Set 2 - Loss: 5830874.4832\n"
     ]
    }
   ],
   "source": [
    "#Linear Regression\n",
    "norm_df = normalized_dataset(combine_df)\n",
    "modelProcessor.train_model(classifier=LinearRegression(),\n",
    "                           parameters=parameter.linreg_parameter,\n",
    "                           feature_columns= parameter.feature_columns,\n",
    "                           train_df= norm_df.iloc[:12000], \n",
    "                           test_df=norm_df.iloc[12000:14000],\n",
    "                           grid=True,train_target='rent',\n",
    "                           cv_split = 4, trainWithTest1=False, \n",
    "                           test2_df=norm_df.iloc[14000:])"
   ]
  },
  {
   "cell_type": "code",
   "execution_count": 30,
   "metadata": {
    "colab": {
     "base_uri": "https://localhost:8080/",
     "height": 170
    },
    "colab_type": "code",
    "id": "X8iMCoG1H8Nz",
    "outputId": "1c53f3f6-7ce4-4608-a2f2-8306f2b90cea"
   },
   "outputs": [
    {
     "name": "stdout",
     "output_type": "stream",
     "text": [
      "Best Estimator DecisionTreeRegressor(criterion='mse', max_depth=35, max_features=14,\n",
      "                      max_leaf_nodes=None, min_impurity_decrease=0.0,\n",
      "                      min_impurity_split=None, min_samples_leaf=1,\n",
      "                      min_samples_split=20, min_weight_fraction_leaf=0.0,\n",
      "                      presort=False, random_state=None, splitter='best')\n",
      "Best Parameters:  {'max_depth': 35, 'max_features': 14, 'min_samples_split': 20}\n",
      "Best Score:  -1953093.5689610138\n",
      "Test Set 1 - Loss: 2343719.4770\n",
      "Test Set 2 - Loss: 7637027.5843\n"
     ]
    }
   ],
   "source": [
    "#Decision Tree\n",
    "modelProcessor.train_model(classifier=DecisionTreeRegressor(),\n",
    "                           parameters=parameter.dtree_parameter,\n",
    "                           feature_columns= parameter.feature_columns,\n",
    "                           train_df= combine_df.iloc[:12000], \n",
    "                           test_df=combine_df.iloc[12000:14000],\n",
    "                           grid=True,train_target='rent',\n",
    "                           cv_split = 4, trainWithTest1=False, \n",
    "                           test2_df=combine_df.iloc[14000:])"
   ]
  },
  {
   "cell_type": "code",
   "execution_count": 0,
   "metadata": {
    "colab": {},
    "colab_type": "code",
    "id": "RxX5Z08br6wu"
   },
   "outputs": [],
   "source": [
    "ranforest_parameter = {'n_estimators': np.arange(10, 100, 20),'max_features': np.arange(8, 17, 4)}"
   ]
  },
  {
   "cell_type": "code",
   "execution_count": 19,
   "metadata": {
    "colab": {
     "base_uri": "https://localhost:8080/",
     "height": 204
    },
    "colab_type": "code",
    "id": "65D2EDVPqNxm",
    "outputId": "e7056e35-edfa-44a5-d30d-1563918137bd"
   },
   "outputs": [
    {
     "name": "stdout",
     "output_type": "stream",
     "text": [
      "Best Estimator RandomForestRegressor(bootstrap=True, criterion='mse', max_depth=None,\n",
      "                      max_features=12, max_leaf_nodes=None,\n",
      "                      min_impurity_decrease=0.0, min_impurity_split=None,\n",
      "                      min_samples_leaf=1, min_samples_split=2,\n",
      "                      min_weight_fraction_leaf=0.0, n_estimators=90,\n",
      "                      n_jobs=None, oob_score=False, random_state=None,\n",
      "                      verbose=0, warm_start=False)\n",
      "Best Parameters:  {'max_features': 12, 'n_estimators': 90}\n",
      "Best Score:  -1338461.6377535155\n",
      "Test Set 1 - Loss: 1802893.4785\n",
      "Test Set 2 - Loss: 6799047.5217\n"
     ]
    }
   ],
   "source": [
    "# Random Forest\n",
    "modelProcessor.train_model(classifier=RandomForestRegressor(),\n",
    "                           parameters=ranforest_parameter,\n",
    "                           feature_columns= parameter.feature_columns,\n",
    "                           train_df= combine_df.iloc[:12000], \n",
    "                           test_df=combine_df.iloc[12000:14000],\n",
    "                           grid=True,train_target='rent',\n",
    "                           cv_split = 4, trainWithTest1=False, \n",
    "                           test2_df=combine_df.iloc[14000:])"
   ]
  },
  {
   "cell_type": "code",
   "execution_count": 22,
   "metadata": {
    "colab": {
     "base_uri": "https://localhost:8080/",
     "height": 204
    },
    "colab_type": "code",
    "id": "hD16kfjLtLNe",
    "outputId": "b256c01d-8997-4fa6-bfdf-672e699c7ea2"
   },
   "outputs": [
    {
     "name": "stdout",
     "output_type": "stream",
     "text": [
      "Best Estimator RandomForestRegressor(bootstrap=True, criterion='mse', max_depth=None,\n",
      "                      max_features=10, max_leaf_nodes=None,\n",
      "                      min_impurity_decrease=0.0, min_impurity_split=None,\n",
      "                      min_samples_leaf=1, min_samples_split=2,\n",
      "                      min_weight_fraction_leaf=0.0, n_estimators=190,\n",
      "                      n_jobs=None, oob_score=False, random_state=None,\n",
      "                      verbose=0, warm_start=False)\n",
      "Best Parameters:  {'max_features': 10, 'n_estimators': 190}\n",
      "Best Score:  -1318076.1299546498\n",
      "Test Set 1 - Loss: 1755565.0136\n",
      "Test Set 2 - Loss: 6466553.8402\n"
     ]
    }
   ],
   "source": [
    "ranforest_parameter1 = {'n_estimators': np.arange(90, 200, 20),'max_features': np.arange(10, 18, 3)}\n",
    "modelProcessor.train_model(classifier=RandomForestRegressor(),\n",
    "                           parameters=ranforest_parameter1,\n",
    "                           feature_columns= parameter.feature_columns,\n",
    "                           train_df= combine_df.iloc[:12000], \n",
    "                           test_df=combine_df.iloc[12000:14000],\n",
    "                           grid=True,train_target='rent',\n",
    "                           cv_split = 4, trainWithTest1=False, \n",
    "                           test2_df=combine_df.iloc[14000:])"
   ]
  },
  {
   "cell_type": "code",
   "execution_count": 0,
   "metadata": {
    "colab": {},
    "colab_type": "code",
    "id": "LuC1o_fE-Woj"
   },
   "outputs": [],
   "source": [
    "# generate result file\n",
    "modelProcessor.generate_result_csv(\"random_forest_result1.csv\")"
   ]
  },
  {
   "cell_type": "code",
   "execution_count": 26,
   "metadata": {
    "colab": {
     "base_uri": "https://localhost:8080/",
     "height": 204
    },
    "colab_type": "code",
    "id": "6Wd-BzwH-4rI",
    "outputId": "d5aeef32-a9dd-44f5-950b-3b624348df6b"
   },
   "outputs": [
    {
     "name": "stdout",
     "output_type": "stream",
     "text": [
      "Best Estimator RandomForestRegressor(bootstrap=True, criterion='mse', max_depth=None,\n",
      "                      max_features=10, max_leaf_nodes=None,\n",
      "                      min_impurity_decrease=0.0, min_impurity_split=None,\n",
      "                      min_samples_leaf=1, min_samples_split=2,\n",
      "                      min_weight_fraction_leaf=0.0, n_estimators=320,\n",
      "                      n_jobs=None, oob_score=False, random_state=None,\n",
      "                      verbose=0, warm_start=False)\n",
      "Best Parameters:  {'max_features': 10, 'n_estimators': 320}\n",
      "Best Score:  -1340005.6922343315\n",
      "Test Set 1 - Loss: 1737228.7359\n",
      "Test Set 2 - Loss: 6569618.5177\n"
     ]
    }
   ],
   "source": [
    "ranforest_parameter1 = {'n_estimators': np.arange(200, 400, 40),'max_features': [10,15]}\n",
    "modelProcessor.train_model(classifier=RandomForestRegressor(),\n",
    "                           parameters=ranforest_parameter1,\n",
    "                           feature_columns= parameter.feature_columns,\n",
    "                           train_df= combine_df.iloc[:12000], \n",
    "                           test_df=combine_df.iloc[12000:14000],\n",
    "                           grid=True,train_target='rent',\n",
    "                           cv_split = 4, trainWithTest1=False, \n",
    "                           test2_df=combine_df.iloc[14000:])"
   ]
  },
  {
   "cell_type": "code",
   "execution_count": 0,
   "metadata": {
    "colab": {},
    "colab_type": "code",
    "id": "D70zMxQbDl4y"
   },
   "outputs": [],
   "source": [
    "# generate result file\n",
    "modelProcessor.generate_result_csv(\"random_forest_result2.csv\")"
   ]
  },
  {
   "cell_type": "code",
   "execution_count": 0,
   "metadata": {
    "colab": {},
    "colab_type": "code",
    "id": "Yb3JOSDjS7Ke"
   },
   "outputs": [],
   "source": [
    "feature_column1 = ['bedrooms','bathrooms','size_sqft','addr_zip','floor_count','min_to_subway','has_doorman',\n",
    "                                'has_elevator','has_dishwasher','is_furnished','has_gym','allows_pets','has_washer_dryer',\n",
    "                                'has_concierge','no_fee','has_pool','floornumber']"
   ]
  },
  {
   "cell_type": "code",
   "execution_count": 0,
   "metadata": {
    "colab": {},
    "colab_type": "code",
    "id": "FRieJLBqS7wy"
   },
   "outputs": [],
   "source": []
  }
 ],
 "metadata": {
  "colab": {
   "collapsed_sections": [],
   "include_colab_link": true,
   "name": "ModelTrainResult3.ipynb",
   "provenance": []
  },
  "kernelspec": {
   "display_name": "Python 3",
   "language": "python",
   "name": "python3"
  },
  "language_info": {
   "codemirror_mode": {
    "name": "ipython",
    "version": 3
   },
   "file_extension": ".py",
   "mimetype": "text/x-python",
   "name": "python",
   "nbconvert_exporter": "python",
   "pygments_lexer": "ipython3",
   "version": "3.7.1"
  }
 },
 "nbformat": 4,
 "nbformat_minor": 1
}
