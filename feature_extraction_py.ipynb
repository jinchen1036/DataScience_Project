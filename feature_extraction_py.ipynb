{
  "nbformat": 4,
  "nbformat_minor": 0,
  "metadata": {
    "kernelspec": {
      "display_name": "Python 3",
      "language": "python",
      "name": "python3"
    },
    "language_info": {
      "codemirror_mode": {
        "name": "ipython",
        "version": 3
      },
      "file_extension": ".py",
      "mimetype": "text/x-python",
      "name": "python",
      "nbconvert_exporter": "python",
      "pygments_lexer": "ipython3",
      "version": "3.7.1"
    },
    "colab": {
      "name": "feature extraction.py.ipynb",
      "provenance": [],
      "collapsed_sections": []
    }
  },
  "cells": [
    {
      "cell_type": "code",
      "metadata": {
        "id": "vbwzqkjLMjKi",
        "colab_type": "code",
        "colab": {}
      },
      "source": [
        "import numpy as np\n",
        "import pandas as pd\n",
        "# import matplotlib.pyplot as plt\n",
        "\n",
        "from sklearn.linear_model import LinearRegression\n",
        "from sklearn.metrics import mean_squared_error\n",
        "\n",
        "import statsmodels.api as sm\n",
        "\n",
        "# importing statistics module \n",
        "import statistics\n",
        "# %matplotlib inline\n",
        "\n",
        "from sklearn import preprocessing"
      ],
      "execution_count": 0,
      "outputs": []
    },
    {
      "cell_type": "markdown",
      "metadata": {
        "id": "ycFSXKziMjKo",
        "colab_type": "text"
      },
      "source": [
        "## Data Description\n",
        "1. Trainning Set\n",
        "    - 12K samples of house posted at May, June, July of 2018 at StreetEasy\n",
        "2. Test Set 1\n",
        "    - Samples of house posted at August 2018 with observed rent\n",
        "    - 2000 Samples\n",
        "3. Test Set 2 and Test Set 3\n",
        "    - Samples of house posted at August 2018 without observed rent\n",
        "    - 2000 Samples"
      ]
    },
    {
      "cell_type": "code",
      "metadata": {
        "id": "GOf839-aMjKp",
        "colab_type": "code",
        "colab": {}
      },
      "source": [
        "train_df = pd.read_csv('https://grantmlong.com/data/SE_rents2018_train.csv', index_col=0)\n",
        "test_set1_df = pd.read_csv('https://grantmlong.com/data/SE_rents2018_test1.csv', index_col=0)\n",
        "test_set2_df = pd.read_csv('https://grantmlong.com/data/SE_rents2018_test2.csv', index_col=0)\n",
        "# test_set3_df = pd.read_csv('https://grantmlong.com/data/SE_rents2018_test3.csv', index_col=0)\n"
      ],
      "execution_count": 0,
      "outputs": []
    },
    {
      "cell_type": "code",
      "metadata": {
        "id": "-WU-c6gWTyfj",
        "colab_type": "code",
        "outputId": "78660011-913a-4caa-c7e2-8a90db1c93f8",
        "colab": {
          "base_uri": "https://localhost:8080/",
          "height": 34
        }
      },
      "source": [
        "train_df.shape"
      ],
      "execution_count": 46,
      "outputs": [
        {
          "output_type": "execute_result",
          "data": {
            "text/plain": [
              "(12000, 38)"
            ]
          },
          "metadata": {
            "tags": []
          },
          "execution_count": 46
        }
      ]
    },
    {
      "cell_type": "code",
      "metadata": {
        "id": "65ocuiTjUqtS",
        "colab_type": "code",
        "outputId": "8d6467fd-e44a-46bd-c676-38808ce55c81",
        "colab": {
          "base_uri": "https://localhost:8080/",
          "height": 34
        }
      },
      "source": [
        "test_set1_df.shape"
      ],
      "execution_count": 47,
      "outputs": [
        {
          "output_type": "execute_result",
          "data": {
            "text/plain": [
              "(2000, 38)"
            ]
          },
          "metadata": {
            "tags": []
          },
          "execution_count": 47
        }
      ]
    },
    {
      "cell_type": "code",
      "metadata": {
        "id": "rNZMzRwYUtCQ",
        "colab_type": "code",
        "outputId": "2adef70a-c67a-424c-bcab-9e79bd41ee06",
        "colab": {
          "base_uri": "https://localhost:8080/",
          "height": 34
        }
      },
      "source": [
        "test_set2_df.shape"
      ],
      "execution_count": 48,
      "outputs": [
        {
          "output_type": "execute_result",
          "data": {
            "text/plain": [
              "(2000, 38)"
            ]
          },
          "metadata": {
            "tags": []
          },
          "execution_count": 48
        }
      ]
    },
    {
      "cell_type": "code",
      "metadata": {
        "id": "wlVwUjprUvZR",
        "colab_type": "code",
        "colab": {}
      },
      "source": [
        "combine_df = pd.concat([train_df,test_set1_df,test_set2_df])"
      ],
      "execution_count": 0,
      "outputs": []
    },
    {
      "cell_type": "code",
      "metadata": {
        "id": "kNbzw9_tU9xd",
        "colab_type": "code",
        "outputId": "6c41e24b-fffe-473e-b651-0c05fd314339",
        "colab": {
          "base_uri": "https://localhost:8080/",
          "height": 34
        }
      },
      "source": [
        "combine_df.shape"
      ],
      "execution_count": 50,
      "outputs": [
        {
          "output_type": "execute_result",
          "data": {
            "text/plain": [
              "(16000, 38)"
            ]
          },
          "metadata": {
            "tags": []
          },
          "execution_count": 50
        }
      ]
    },
    {
      "cell_type": "code",
      "metadata": {
        "id": "h_SE6bEpVWgs",
        "colab_type": "code",
        "outputId": "d3ce0f58-f37a-4cca-d080-99e7449f9c24",
        "colab": {
          "base_uri": "https://localhost:8080/",
          "height": 748
        }
      },
      "source": [
        "combine_df.info()"
      ],
      "execution_count": 51,
      "outputs": [
        {
          "output_type": "stream",
          "text": [
            "<class 'pandas.core.frame.DataFrame'>\n",
            "Int64Index: 16000 entries, 7236931 to 7443274\n",
            "Data columns (total 38 columns):\n",
            "addr_unit                 15861 non-null object\n",
            "building_id               16000 non-null int64\n",
            "bedrooms                  16000 non-null int64\n",
            "bathrooms                 16000 non-null float64\n",
            "size_sqft                 16000 non-null float64\n",
            "created_at                16000 non-null object\n",
            "addr_street               16000 non-null object\n",
            "addr_city                 16000 non-null object\n",
            "addr_zip                  16000 non-null int64\n",
            "addr_lat                  16000 non-null float64\n",
            "addr_lon                  16000 non-null float64\n",
            "bin                       15999 non-null float64\n",
            "bbl                       16000 non-null int64\n",
            "floor_count               16000 non-null float64\n",
            "year_built                15448 non-null float64\n",
            "min_to_subway             15841 non-null float64\n",
            "has_doorman               16000 non-null int64\n",
            "has_elevator              16000 non-null int64\n",
            "has_fireplace             16000 non-null int64\n",
            "has_dishwasher            16000 non-null int64\n",
            "is_furnished              16000 non-null int64\n",
            "has_gym                   16000 non-null int64\n",
            "allows_pets               16000 non-null int64\n",
            "has_washer_dryer          16000 non-null int64\n",
            "has_garage                16000 non-null int64\n",
            "has_roofdeck              16000 non-null int64\n",
            "has_concierge             16000 non-null int64\n",
            "has_pool                  16000 non-null int64\n",
            "has_garden                16000 non-null int64\n",
            "has_childrens_playroom    16000 non-null int64\n",
            "rent                      14000 non-null float64\n",
            "no_fee                    16000 non-null int64\n",
            "description               15984 non-null object\n",
            "neighborhood              15996 non-null object\n",
            "borough                   16000 non-null object\n",
            "unit                      15857 non-null object\n",
            "floornumber               14235 non-null float64\n",
            "line                      11253 non-null object\n",
            "dtypes: float64(10), int64(19), object(9)\n",
            "memory usage: 4.8+ MB\n"
          ],
          "name": "stdout"
        }
      ]
    },
    {
      "cell_type": "code",
      "metadata": {
        "id": "EfXKA3ElVy8z",
        "colab_type": "code",
        "colab": {}
      },
      "source": [
        "#drop all the object column\n",
        "numeric_df = combine_df.select_dtypes(include=[np.number])"
      ],
      "execution_count": 0,
      "outputs": []
    },
    {
      "cell_type": "code",
      "metadata": {
        "id": "v5mH1O_OV_uj",
        "colab_type": "code",
        "colab": {}
      },
      "source": [
        "#drop bin and bbl\n",
        "new_numeric_df = numeric_df.drop(['bin', 'bbl'], axis=1)"
      ],
      "execution_count": 0,
      "outputs": []
    },
    {
      "cell_type": "code",
      "metadata": {
        "id": "qn4Y7v0KW_F-",
        "colab_type": "code",
        "outputId": "3c9d5190-f087-4056-f5d2-354053d2eb3b",
        "colab": {
          "base_uri": "https://localhost:8080/",
          "height": 561
        }
      },
      "source": [
        "new_numeric_df.info()"
      ],
      "execution_count": 54,
      "outputs": [
        {
          "output_type": "stream",
          "text": [
            "<class 'pandas.core.frame.DataFrame'>\n",
            "Int64Index: 16000 entries, 7236931 to 7443274\n",
            "Data columns (total 27 columns):\n",
            "building_id               16000 non-null int64\n",
            "bedrooms                  16000 non-null int64\n",
            "bathrooms                 16000 non-null float64\n",
            "size_sqft                 16000 non-null float64\n",
            "addr_zip                  16000 non-null int64\n",
            "addr_lat                  16000 non-null float64\n",
            "addr_lon                  16000 non-null float64\n",
            "floor_count               16000 non-null float64\n",
            "year_built                15448 non-null float64\n",
            "min_to_subway             15841 non-null float64\n",
            "has_doorman               16000 non-null int64\n",
            "has_elevator              16000 non-null int64\n",
            "has_fireplace             16000 non-null int64\n",
            "has_dishwasher            16000 non-null int64\n",
            "is_furnished              16000 non-null int64\n",
            "has_gym                   16000 non-null int64\n",
            "allows_pets               16000 non-null int64\n",
            "has_washer_dryer          16000 non-null int64\n",
            "has_garage                16000 non-null int64\n",
            "has_roofdeck              16000 non-null int64\n",
            "has_concierge             16000 non-null int64\n",
            "has_pool                  16000 non-null int64\n",
            "has_garden                16000 non-null int64\n",
            "has_childrens_playroom    16000 non-null int64\n",
            "rent                      14000 non-null float64\n",
            "no_fee                    16000 non-null int64\n",
            "floornumber               14235 non-null float64\n",
            "dtypes: float64(9), int64(18)\n",
            "memory usage: 3.4 MB\n"
          ],
          "name": "stdout"
        }
      ]
    },
    {
      "cell_type": "code",
      "metadata": {
        "id": "ULIJ1qZLXJlg",
        "colab_type": "code",
        "colab": {}
      },
      "source": [
        "columns = list(new_numeric_df.columns)\n"
      ],
      "execution_count": 0,
      "outputs": []
    },
    {
      "cell_type": "code",
      "metadata": {
        "id": "WwD_pX6TYdhU",
        "colab_type": "code",
        "colab": {}
      },
      "source": [
        "columns.remove('rent')\n",
        "columns.append('const')"
      ],
      "execution_count": 0,
      "outputs": []
    },
    {
      "cell_type": "code",
      "metadata": {
        "id": "mwoXVjARZBlx",
        "colab_type": "code",
        "outputId": "5c27de5b-dcf9-439f-ed23-40c0594b9e78",
        "colab": {
          "base_uri": "https://localhost:8080/",
          "height": 476
        }
      },
      "source": [
        "columns"
      ],
      "execution_count": 57,
      "outputs": [
        {
          "output_type": "execute_result",
          "data": {
            "text/plain": [
              "['building_id',\n",
              " 'bedrooms',\n",
              " 'bathrooms',\n",
              " 'size_sqft',\n",
              " 'addr_zip',\n",
              " 'addr_lat',\n",
              " 'addr_lon',\n",
              " 'floor_count',\n",
              " 'year_built',\n",
              " 'min_to_subway',\n",
              " 'has_doorman',\n",
              " 'has_elevator',\n",
              " 'has_fireplace',\n",
              " 'has_dishwasher',\n",
              " 'is_furnished',\n",
              " 'has_gym',\n",
              " 'allows_pets',\n",
              " 'has_washer_dryer',\n",
              " 'has_garage',\n",
              " 'has_roofdeck',\n",
              " 'has_concierge',\n",
              " 'has_pool',\n",
              " 'has_garden',\n",
              " 'has_childrens_playroom',\n",
              " 'no_fee',\n",
              " 'floornumber',\n",
              " 'const']"
            ]
          },
          "metadata": {
            "tags": []
          },
          "execution_count": 57
        }
      ]
    },
    {
      "cell_type": "code",
      "metadata": {
        "id": "9Wd6T80xZDYn",
        "colab_type": "code",
        "outputId": "c0ce9b7a-a057-4237-d7d1-890dbb0798d9",
        "colab": {
          "base_uri": "https://localhost:8080/",
          "height": 71
        }
      },
      "source": [
        "# Add a constant to our existing dataframe for modeling purposes\n",
        "fixed_set = numeric_df.dropna(axis=0)\n",
        "fixed_set = sm.add_constant(fixed_set)"
      ],
      "execution_count": 58,
      "outputs": [
        {
          "output_type": "stream",
          "text": [
            "/usr/local/lib/python3.6/dist-packages/numpy/core/fromnumeric.py:2495: FutureWarning: Method .ptp is deprecated and will be removed in a future version. Use numpy.ptp instead.\n",
            "  return ptp(axis=axis, out=out, **kwargs)\n"
          ],
          "name": "stderr"
        }
      ]
    },
    {
      "cell_type": "code",
      "metadata": {
        "id": "mvPGbnvpZIi9",
        "colab_type": "code",
        "outputId": "d1f5ecd4-4eed-4a76-d0f0-66227cdcb8ef",
        "colab": {
          "base_uri": "https://localhost:8080/",
          "height": 34
        }
      },
      "source": [
        "fixed_set['rent'].shape"
      ],
      "execution_count": 59,
      "outputs": [
        {
          "output_type": "execute_result",
          "data": {
            "text/plain": [
              "(11917,)"
            ]
          },
          "metadata": {
            "tags": []
          },
          "execution_count": 59
        }
      ]
    },
    {
      "cell_type": "code",
      "metadata": {
        "id": "aa4fZbBrZROD",
        "colab_type": "code",
        "outputId": "9a6375a0-23e7-451e-9e34-5a916924b603",
        "colab": {
          "base_uri": "https://localhost:8080/",
          "height": 34
        }
      },
      "source": [
        "fixed_set[columns].shape"
      ],
      "execution_count": 60,
      "outputs": [
        {
          "output_type": "execute_result",
          "data": {
            "text/plain": [
              "(11917, 27)"
            ]
          },
          "metadata": {
            "tags": []
          },
          "execution_count": 60
        }
      ]
    },
    {
      "cell_type": "code",
      "metadata": {
        "id": "328lvCKZZTov",
        "colab_type": "code",
        "outputId": "497a7632-cbcb-4d9c-f90e-b6d0509cfd40",
        "colab": {
          "base_uri": "https://localhost:8080/",
          "height": 901
        }
      },
      "source": [
        "est = sm.OLS(fixed_set['rent'], \n",
        "             fixed_set[columns].astype(float)).fit()\n",
        "print(est.summary())"
      ],
      "execution_count": 61,
      "outputs": [
        {
          "output_type": "stream",
          "text": [
            "                            OLS Regression Results                            \n",
            "==============================================================================\n",
            "Dep. Variable:                   rent   R-squared:                       0.639\n",
            "Model:                            OLS   Adj. R-squared:                  0.638\n",
            "Method:                 Least Squares   F-statistic:                     810.3\n",
            "Date:                Sat, 16 Nov 2019   Prob (F-statistic):               0.00\n",
            "Time:                        18:56:21   Log-Likelihood:            -1.0548e+05\n",
            "No. Observations:               11917   AIC:                         2.110e+05\n",
            "Df Residuals:                   11890   BIC:                         2.112e+05\n",
            "Df Model:                          26                                         \n",
            "Covariance Type:            nonrobust                                         \n",
            "==========================================================================================\n",
            "                             coef    std err          t      P>|t|      [0.025      0.975]\n",
            "------------------------------------------------------------------------------------------\n",
            "building_id            -1.231e-05   5.76e-06     -2.139      0.032   -2.36e-05   -1.03e-06\n",
            "bedrooms                 175.4589     19.829      8.848      0.000     136.590     214.328\n",
            "bathrooms               1697.4265     40.868     41.535      0.000    1617.319    1777.534\n",
            "size_sqft                  2.2257      0.042     52.498      0.000       2.143       2.309\n",
            "addr_zip                  -0.9173      0.053    -17.408      0.000      -1.021      -0.814\n",
            "addr_lat                 143.0720    498.163      0.287      0.774    -833.409    1119.553\n",
            "addr_lon               -6309.2065    593.900    -10.623      0.000   -7473.347   -5145.066\n",
            "floor_count              -13.5873      2.726     -4.985      0.000     -18.930      -8.245\n",
            "year_built                 0.0589      0.101      0.586      0.558      -0.138       0.256\n",
            "min_to_subway             -0.0074      0.006     -1.275      0.202      -0.019       0.004\n",
            "has_doorman              132.9552     57.435      2.315      0.021      20.373     245.538\n",
            "has_elevator             346.8470     47.559      7.293      0.000     253.624     440.070\n",
            "has_fireplace            522.0886     84.911      6.149      0.000     355.649     688.528\n",
            "has_dishwasher          -123.5454     36.028     -3.429      0.001    -194.166     -52.925\n",
            "is_furnished             668.0267     88.981      7.508      0.000     493.609     842.444\n",
            "has_gym                  354.7376     57.487      6.171      0.000     242.053     467.422\n",
            "allows_pets              183.4643     34.298      5.349      0.000     116.234     250.695\n",
            "has_washer_dryer         313.8174     39.972      7.851      0.000     235.465     392.170\n",
            "has_garage              -137.3179     48.775     -2.815      0.005    -232.925     -41.711\n",
            "has_roofdeck             110.4722     42.631      2.591      0.010      26.908     194.036\n",
            "has_concierge            152.2178     59.047      2.578      0.010      36.476     267.960\n",
            "has_pool                 196.4649     70.727      2.778      0.005      57.829     335.101\n",
            "has_garden                48.7776     48.314      1.010      0.313     -45.925     143.481\n",
            "has_childrens_playroom    79.8675     65.139      1.226      0.220     -47.815     207.550\n",
            "no_fee                  -208.3625     34.596     -6.023      0.000    -276.177    -140.548\n",
            "floornumber               28.4195      3.450      8.237      0.000      21.657      35.182\n",
            "const                  -4.639e+05   5.97e+04     -7.764      0.000   -5.81e+05   -3.47e+05\n",
            "==============================================================================\n",
            "Omnibus:                    13430.573   Durbin-Watson:                   2.005\n",
            "Prob(Omnibus):                  0.000   Jarque-Bera (JB):          4265812.419\n",
            "Skew:                           5.363   Prob(JB):                         0.00\n",
            "Kurtosis:                      95.065   Cond. No.                     1.12e+10\n",
            "==============================================================================\n",
            "\n",
            "Warnings:\n",
            "[1] Standard Errors assume that the covariance matrix of the errors is correctly specified.\n",
            "[2] The condition number is large, 1.12e+10. This might indicate that there are\n",
            "strong multicollinearity or other numerical problems.\n"
          ],
          "name": "stdout"
        }
      ]
    },
    {
      "cell_type": "code",
      "metadata": {
        "id": "t442GmlNZWch",
        "colab_type": "code",
        "colab": {}
      },
      "source": [
        "#drop those column have p-value large than 0.005\n",
        "fixed_pvalue_df = new_numeric_df.drop(['building_id', 'addr_lat','year_built','min_to_subway','has_doorman','has_roofdeck','has_concierge','has_garden','has_childrens_playroom'], axis=1)"
      ],
      "execution_count": 0,
      "outputs": []
    },
    {
      "cell_type": "code",
      "metadata": {
        "id": "YzsDQtJSZZLq",
        "colab_type": "code",
        "outputId": "43a5ee8c-fc49-4f37-f5f4-5cade2aba203",
        "colab": {
          "base_uri": "https://localhost:8080/",
          "height": 408
        }
      },
      "source": [
        "fixed_pvalue_df.info()"
      ],
      "execution_count": 63,
      "outputs": [
        {
          "output_type": "stream",
          "text": [
            "<class 'pandas.core.frame.DataFrame'>\n",
            "Int64Index: 16000 entries, 7236931 to 7443274\n",
            "Data columns (total 18 columns):\n",
            "bedrooms            16000 non-null int64\n",
            "bathrooms           16000 non-null float64\n",
            "size_sqft           16000 non-null float64\n",
            "addr_zip            16000 non-null int64\n",
            "addr_lon            16000 non-null float64\n",
            "floor_count         16000 non-null float64\n",
            "has_elevator        16000 non-null int64\n",
            "has_fireplace       16000 non-null int64\n",
            "has_dishwasher      16000 non-null int64\n",
            "is_furnished        16000 non-null int64\n",
            "has_gym             16000 non-null int64\n",
            "allows_pets         16000 non-null int64\n",
            "has_washer_dryer    16000 non-null int64\n",
            "has_garage          16000 non-null int64\n",
            "has_pool            16000 non-null int64\n",
            "rent                14000 non-null float64\n",
            "no_fee              16000 non-null int64\n",
            "floornumber         14235 non-null float64\n",
            "dtypes: float64(6), int64(12)\n",
            "memory usage: 2.3 MB\n"
          ],
          "name": "stdout"
        }
      ]
    },
    {
      "cell_type": "code",
      "metadata": {
        "id": "dUG8dpRycMgn",
        "colab_type": "code",
        "outputId": "38ded23e-15b4-40d5-c484-c69da902378b",
        "colab": {
          "base_uri": "https://localhost:8080/",
          "height": 282
        }
      },
      "source": [
        "#fill missing value for floornumber\n",
        "fixed_pvalue_df['floornumber'].hist(bins=50)"
      ],
      "execution_count": 64,
      "outputs": [
        {
          "output_type": "execute_result",
          "data": {
            "text/plain": [
              "<matplotlib.axes._subplots.AxesSubplot at 0x7f912d509828>"
            ]
          },
          "metadata": {
            "tags": []
          },
          "execution_count": 64
        },
        {
          "output_type": "display_data",
          "data": {
            "image/png": "[encoded data removed]",
            "text/plain": [
              "<Figure size 432x288 with 1 Axes>"
            ]
          },
          "metadata": {
            "tags": []
          }
        }
      ]
    },
    {
      "cell_type": "code",
      "metadata": {
        "id": "Cp4lZhOmjnc6",
        "colab_type": "code",
        "outputId": "9a188b99-bd5c-46e0-db9e-95b4d58f3911",
        "colab": {
          "base_uri": "https://localhost:8080/",
          "height": 170
        }
      },
      "source": [
        "fixed_pvalue_df['floornumber'].describe()"
      ],
      "execution_count": 65,
      "outputs": [
        {
          "output_type": "execute_result",
          "data": {
            "text/plain": [
              "count    14235.000000\n",
              "mean         6.179979\n",
              "std          7.714384\n",
              "min          0.000000\n",
              "25%          2.000000\n",
              "50%          3.000000\n",
              "75%          6.000000\n",
              "max         78.000000\n",
              "Name: floornumber, dtype: float64"
            ]
          },
          "metadata": {
            "tags": []
          },
          "execution_count": 65
        }
      ]
    },
    {
      "cell_type": "code",
      "metadata": {
        "id": "20HZcPQOjy_M",
        "colab_type": "code",
        "colab": {}
      },
      "source": [
        "median_value = (fixed_pvalue_df['floornumber']).median()"
      ],
      "execution_count": 0,
      "outputs": []
    },
    {
      "cell_type": "code",
      "metadata": {
        "id": "CtizxDQsmDwV",
        "colab_type": "code",
        "outputId": "df5d9aeb-487f-4f4b-fdb7-cab2003ebbb1",
        "colab": {
          "base_uri": "https://localhost:8080/",
          "height": 34
        }
      },
      "source": [
        "print(median_value)"
      ],
      "execution_count": 67,
      "outputs": [
        {
          "output_type": "stream",
          "text": [
            "3.0\n"
          ],
          "name": "stdout"
        }
      ]
    },
    {
      "cell_type": "code",
      "metadata": {
        "id": "8k19EDvlnbiJ",
        "colab_type": "code",
        "colab": {}
      },
      "source": [
        "#fill the median value to the floornumber\n",
        "fixed_pvalue_df['floornumber']=fixed_pvalue_df['floornumber'].fillna(median_value)"
      ],
      "execution_count": 0,
      "outputs": []
    },
    {
      "cell_type": "code",
      "metadata": {
        "id": "6fRejQZeobAz",
        "colab_type": "code",
        "outputId": "dcd5526b-1f7d-4a4e-eed9-8b937cb0fe59",
        "colab": {
          "base_uri": "https://localhost:8080/",
          "height": 408
        }
      },
      "source": [
        "#all columns have 16000 entries\n",
        "fixed_pvalue_df.info()"
      ],
      "execution_count": 69,
      "outputs": [
        {
          "output_type": "stream",
          "text": [
            "<class 'pandas.core.frame.DataFrame'>\n",
            "Int64Index: 16000 entries, 7236931 to 7443274\n",
            "Data columns (total 18 columns):\n",
            "bedrooms            16000 non-null int64\n",
            "bathrooms           16000 non-null float64\n",
            "size_sqft           16000 non-null float64\n",
            "addr_zip            16000 non-null int64\n",
            "addr_lon            16000 non-null float64\n",
            "floor_count         16000 non-null float64\n",
            "has_elevator        16000 non-null int64\n",
            "has_fireplace       16000 non-null int64\n",
            "has_dishwasher      16000 non-null int64\n",
            "is_furnished        16000 non-null int64\n",
            "has_gym             16000 non-null int64\n",
            "allows_pets         16000 non-null int64\n",
            "has_washer_dryer    16000 non-null int64\n",
            "has_garage          16000 non-null int64\n",
            "has_pool            16000 non-null int64\n",
            "rent                14000 non-null float64\n",
            "no_fee              16000 non-null int64\n",
            "floornumber         16000 non-null float64\n",
            "dtypes: float64(6), int64(12)\n",
            "memory usage: 2.3 MB\n"
          ],
          "name": "stdout"
        }
      ]
    },
    {
      "cell_type": "code",
      "metadata": {
        "id": "aZQlWmcdogaW",
        "colab_type": "code",
        "outputId": "344468c7-03f1-4ed8-9a9a-543955f556a2",
        "colab": {
          "base_uri": "https://localhost:8080/",
          "height": 317
        }
      },
      "source": [
        "fixed_pvalue_df.describe()"
      ],
      "execution_count": 70,
      "outputs": [
        {
          "output_type": "execute_result",
          "data": {
            "text/html": [
              "<div>\n",
              "<style scoped>\n",
              "    .dataframe tbody tr th:only-of-type {\n",
              "        vertical-align: middle;\n",
              "    }\n",
              "\n",
              "    .dataframe tbody tr th {\n",
              "        vertical-align: top;\n",
              "    }\n",
              "\n",
              "    .dataframe thead th {\n",
              "        text-align: right;\n",
              "    }\n",
              "</style>\n",
              "<table border=\"1\" class=\"dataframe\">\n",
              "  <thead>\n",
              "    <tr style=\"text-align: right;\">\n",
              "      <th></th>\n",
              "      <th>bedrooms</th>\n",
              "      <th>bathrooms</th>\n",
              "      <th>size_sqft</th>\n",
              "      <th>addr_zip</th>\n",
              "      <th>addr_lon</th>\n",
              "      <th>floor_count</th>\n",
              "      <th>has_elevator</th>\n",
              "      <th>has_fireplace</th>\n",
              "      <th>has_dishwasher</th>\n",
              "      <th>is_furnished</th>\n",
              "      <th>has_gym</th>\n",
              "      <th>allows_pets</th>\n",
              "      <th>has_washer_dryer</th>\n",
              "      <th>has_garage</th>\n",
              "      <th>has_pool</th>\n",
              "      <th>rent</th>\n",
              "      <th>no_fee</th>\n",
              "      <th>floornumber</th>\n",
              "    </tr>\n",
              "  </thead>\n",
              "  <tbody>\n",
              "    <tr>\n",
              "      <th>count</th>\n",
              "      <td>16000.000000</td>\n",
              "      <td>16000.000000</td>\n",
              "      <td>16000.000000</td>\n",
              "      <td>16000.000000</td>\n",
              "      <td>16000.000000</td>\n",
              "      <td>16000.000000</td>\n",
              "      <td>16000.000000</td>\n",
              "      <td>16000.000000</td>\n",
              "      <td>16000.000000</td>\n",
              "      <td>16000.000000</td>\n",
              "      <td>16000.000000</td>\n",
              "      <td>16000.000000</td>\n",
              "      <td>16000.000000</td>\n",
              "      <td>16000.000000</td>\n",
              "      <td>16000.000000</td>\n",
              "      <td>14000.000000</td>\n",
              "      <td>16000.000000</td>\n",
              "      <td>16000.000000</td>\n",
              "    </tr>\n",
              "    <tr>\n",
              "      <th>mean</th>\n",
              "      <td>1.664937</td>\n",
              "      <td>1.237375</td>\n",
              "      <td>846.587937</td>\n",
              "      <td>10682.200312</td>\n",
              "      <td>-73.956909</td>\n",
              "      <td>10.178044</td>\n",
              "      <td>0.461250</td>\n",
              "      <td>0.037187</td>\n",
              "      <td>0.541125</td>\n",
              "      <td>0.031813</td>\n",
              "      <td>0.290187</td>\n",
              "      <td>0.496937</td>\n",
              "      <td>0.268750</td>\n",
              "      <td>0.169687</td>\n",
              "      <td>0.072375</td>\n",
              "      <td>3591.997214</td>\n",
              "      <td>0.499437</td>\n",
              "      <td>5.829187</td>\n",
              "    </tr>\n",
              "    <tr>\n",
              "      <th>std</th>\n",
              "      <td>1.085470</td>\n",
              "      <td>0.545937</td>\n",
              "      <td>510.578192</td>\n",
              "      <td>592.263814</td>\n",
              "      <td>0.042880</td>\n",
              "      <td>11.998397</td>\n",
              "      <td>0.498512</td>\n",
              "      <td>0.189227</td>\n",
              "      <td>0.498321</td>\n",
              "      <td>0.175506</td>\n",
              "      <td>0.453863</td>\n",
              "      <td>0.500006</td>\n",
              "      <td>0.443323</td>\n",
              "      <td>0.375370</td>\n",
              "      <td>0.259116</td>\n",
              "      <td>2874.099247</td>\n",
              "      <td>0.500015</td>\n",
              "      <td>7.344314</td>\n",
              "    </tr>\n",
              "    <tr>\n",
              "      <th>min</th>\n",
              "      <td>0.000000</td>\n",
              "      <td>0.000000</td>\n",
              "      <td>0.000000</td>\n",
              "      <td>10001.000000</td>\n",
              "      <td>-74.168405</td>\n",
              "      <td>0.000000</td>\n",
              "      <td>0.000000</td>\n",
              "      <td>0.000000</td>\n",
              "      <td>0.000000</td>\n",
              "      <td>0.000000</td>\n",
              "      <td>0.000000</td>\n",
              "      <td>0.000000</td>\n",
              "      <td>0.000000</td>\n",
              "      <td>0.000000</td>\n",
              "      <td>0.000000</td>\n",
              "      <td>1250.000000</td>\n",
              "      <td>0.000000</td>\n",
              "      <td>0.000000</td>\n",
              "    </tr>\n",
              "    <tr>\n",
              "      <th>25%</th>\n",
              "      <td>1.000000</td>\n",
              "      <td>1.000000</td>\n",
              "      <td>601.000000</td>\n",
              "      <td>10023.000000</td>\n",
              "      <td>-73.986000</td>\n",
              "      <td>3.000000</td>\n",
              "      <td>0.000000</td>\n",
              "      <td>0.000000</td>\n",
              "      <td>0.000000</td>\n",
              "      <td>0.000000</td>\n",
              "      <td>0.000000</td>\n",
              "      <td>0.000000</td>\n",
              "      <td>0.000000</td>\n",
              "      <td>0.000000</td>\n",
              "      <td>0.000000</td>\n",
              "      <td>2250.000000</td>\n",
              "      <td>0.000000</td>\n",
              "      <td>2.000000</td>\n",
              "    </tr>\n",
              "    <tr>\n",
              "      <th>50%</th>\n",
              "      <td>2.000000</td>\n",
              "      <td>1.000000</td>\n",
              "      <td>800.000000</td>\n",
              "      <td>11103.000000</td>\n",
              "      <td>-73.961582</td>\n",
              "      <td>5.000000</td>\n",
              "      <td>0.000000</td>\n",
              "      <td>0.000000</td>\n",
              "      <td>1.000000</td>\n",
              "      <td>0.000000</td>\n",
              "      <td>0.000000</td>\n",
              "      <td>0.000000</td>\n",
              "      <td>0.000000</td>\n",
              "      <td>0.000000</td>\n",
              "      <td>0.000000</td>\n",
              "      <td>2900.000000</td>\n",
              "      <td>0.000000</td>\n",
              "      <td>3.000000</td>\n",
              "    </tr>\n",
              "    <tr>\n",
              "      <th>75%</th>\n",
              "      <td>2.000000</td>\n",
              "      <td>1.000000</td>\n",
              "      <td>1000.000000</td>\n",
              "      <td>11218.000000</td>\n",
              "      <td>-73.936302</td>\n",
              "      <td>12.000000</td>\n",
              "      <td>1.000000</td>\n",
              "      <td>0.000000</td>\n",
              "      <td>1.000000</td>\n",
              "      <td>0.000000</td>\n",
              "      <td>1.000000</td>\n",
              "      <td>1.000000</td>\n",
              "      <td>1.000000</td>\n",
              "      <td>0.000000</td>\n",
              "      <td>0.000000</td>\n",
              "      <td>3900.000000</td>\n",
              "      <td>1.000000</td>\n",
              "      <td>6.000000</td>\n",
              "    </tr>\n",
              "    <tr>\n",
              "      <th>max</th>\n",
              "      <td>8.000000</td>\n",
              "      <td>20.000000</td>\n",
              "      <td>10000.000000</td>\n",
              "      <td>11694.000000</td>\n",
              "      <td>-73.730550</td>\n",
              "      <td>90.000000</td>\n",
              "      <td>1.000000</td>\n",
              "      <td>1.000000</td>\n",
              "      <td>1.000000</td>\n",
              "      <td>1.000000</td>\n",
              "      <td>1.000000</td>\n",
              "      <td>1.000000</td>\n",
              "      <td>1.000000</td>\n",
              "      <td>1.000000</td>\n",
              "      <td>1.000000</td>\n",
              "      <td>50000.000000</td>\n",
              "      <td>1.000000</td>\n",
              "      <td>78.000000</td>\n",
              "    </tr>\n",
              "  </tbody>\n",
              "</table>\n",
              "</div>"
            ],
            "text/plain": [
              "           bedrooms     bathrooms  ...        no_fee   floornumber\n",
              "count  16000.000000  16000.000000  ...  16000.000000  16000.000000\n",
              "mean       1.664937      1.237375  ...      0.499437      5.829187\n",
              "std        1.085470      0.545937  ...      0.500015      7.344314\n",
              "min        0.000000      0.000000  ...      0.000000      0.000000\n",
              "25%        1.000000      1.000000  ...      0.000000      2.000000\n",
              "50%        2.000000      1.000000  ...      0.000000      3.000000\n",
              "75%        2.000000      1.000000  ...      1.000000      6.000000\n",
              "max        8.000000     20.000000  ...      1.000000     78.000000\n",
              "\n",
              "[8 rows x 18 columns]"
            ]
          },
          "metadata": {
            "tags": []
          },
          "execution_count": 70
        }
      ]
    },
    {
      "cell_type": "code",
      "metadata": {
        "id": "tmRACqFLr22N",
        "colab_type": "code",
        "colab": {}
      },
      "source": [
        "fixed_pvalue_df['bedrooms']=fixed_pvalue_df['bedrooms'].astype(float)"
      ],
      "execution_count": 0,
      "outputs": []
    },
    {
      "cell_type": "code",
      "metadata": {
        "id": "DRNxcp0fsAJs",
        "colab_type": "code",
        "outputId": "063af2a3-6ac0-4cd7-b082-1352dffbe4d3",
        "colab": {
          "base_uri": "https://localhost:8080/",
          "height": 408
        }
      },
      "source": [
        "fixed_pvalue_df.info()"
      ],
      "execution_count": 72,
      "outputs": [
        {
          "output_type": "stream",
          "text": [
            "<class 'pandas.core.frame.DataFrame'>\n",
            "Int64Index: 16000 entries, 7236931 to 7443274\n",
            "Data columns (total 18 columns):\n",
            "bedrooms            16000 non-null float64\n",
            "bathrooms           16000 non-null float64\n",
            "size_sqft           16000 non-null float64\n",
            "addr_zip            16000 non-null int64\n",
            "addr_lon            16000 non-null float64\n",
            "floor_count         16000 non-null float64\n",
            "has_elevator        16000 non-null int64\n",
            "has_fireplace       16000 non-null int64\n",
            "has_dishwasher      16000 non-null int64\n",
            "is_furnished        16000 non-null int64\n",
            "has_gym             16000 non-null int64\n",
            "allows_pets         16000 non-null int64\n",
            "has_washer_dryer    16000 non-null int64\n",
            "has_garage          16000 non-null int64\n",
            "has_pool            16000 non-null int64\n",
            "rent                14000 non-null float64\n",
            "no_fee              16000 non-null int64\n",
            "floornumber         16000 non-null float64\n",
            "dtypes: float64(7), int64(11)\n",
            "memory usage: 2.3 MB\n"
          ],
          "name": "stdout"
        }
      ]
    },
    {
      "cell_type": "code",
      "metadata": {
        "id": "XIZCmJbQowD1",
        "colab_type": "code",
        "colab": {}
      },
      "source": [
        "#take out the rent to make sure we won't normalize it\n",
        "columns = list(fixed_pvalue_df.columns)\n",
        "columns.remove('rent')\n",
        "rent_col=fixed_pvalue_df['rent']\n"
      ],
      "execution_count": 0,
      "outputs": []
    },
    {
      "cell_type": "code",
      "metadata": {
        "id": "VP0KfK-FqdoW",
        "colab_type": "code",
        "outputId": "7581cf20-bdb7-47be-920d-e5b64c32ebc1",
        "colab": {
          "base_uri": "https://localhost:8080/",
          "height": 306
        }
      },
      "source": [
        "columns"
      ],
      "execution_count": 74,
      "outputs": [
        {
          "output_type": "execute_result",
          "data": {
            "text/plain": [
              "['bedrooms',\n",
              " 'bathrooms',\n",
              " 'size_sqft',\n",
              " 'addr_zip',\n",
              " 'addr_lon',\n",
              " 'floor_count',\n",
              " 'has_elevator',\n",
              " 'has_fireplace',\n",
              " 'has_dishwasher',\n",
              " 'is_furnished',\n",
              " 'has_gym',\n",
              " 'allows_pets',\n",
              " 'has_washer_dryer',\n",
              " 'has_garage',\n",
              " 'has_pool',\n",
              " 'no_fee',\n",
              " 'floornumber']"
            ]
          },
          "metadata": {
            "tags": []
          },
          "execution_count": 74
        }
      ]
    },
    {
      "cell_type": "code",
      "metadata": {
        "id": "-uZIEkM7u_J2",
        "colab_type": "code",
        "colab": {}
      },
      "source": [
        "#normalize the data\n",
        "normalized_df=(fixed_pvalue_df[columns]-fixed_pvalue_df[columns].min())/(fixed_pvalue_df[columns].max()-fixed_pvalue_df[columns].min())"
      ],
      "execution_count": 0,
      "outputs": []
    },
    {
      "cell_type": "code",
      "metadata": {
        "id": "uJUFn8mCipLH",
        "colab_type": "code",
        "outputId": "db3b8bc6-4532-499f-88bf-97c43de9c2fa",
        "colab": {
          "base_uri": "https://localhost:8080/",
          "height": 317
        }
      },
      "source": [
        "normalized_df.describe()"
      ],
      "execution_count": 76,
      "outputs": [
        {
          "output_type": "execute_result",
          "data": {
            "text/html": [
              "<div>\n",
              "<style scoped>\n",
              "    .dataframe tbody tr th:only-of-type {\n",
              "        vertical-align: middle;\n",
              "    }\n",
              "\n",
              "    .dataframe tbody tr th {\n",
              "        vertical-align: top;\n",
              "    }\n",
              "\n",
              "    .dataframe thead th {\n",
              "        text-align: right;\n",
              "    }\n",
              "</style>\n",
              "<table border=\"1\" class=\"dataframe\">\n",
              "  <thead>\n",
              "    <tr style=\"text-align: right;\">\n",
              "      <th></th>\n",
              "      <th>bedrooms</th>\n",
              "      <th>bathrooms</th>\n",
              "      <th>size_sqft</th>\n",
              "      <th>addr_zip</th>\n",
              "      <th>addr_lon</th>\n",
              "      <th>floor_count</th>\n",
              "      <th>has_elevator</th>\n",
              "      <th>has_fireplace</th>\n",
              "      <th>has_dishwasher</th>\n",
              "      <th>is_furnished</th>\n",
              "      <th>has_gym</th>\n",
              "      <th>allows_pets</th>\n",
              "      <th>has_washer_dryer</th>\n",
              "      <th>has_garage</th>\n",
              "      <th>has_pool</th>\n",
              "      <th>no_fee</th>\n",
              "      <th>floornumber</th>\n",
              "    </tr>\n",
              "  </thead>\n",
              "  <tbody>\n",
              "    <tr>\n",
              "      <th>count</th>\n",
              "      <td>16000.000000</td>\n",
              "      <td>16000.000000</td>\n",
              "      <td>16000.000000</td>\n",
              "      <td>16000.000000</td>\n",
              "      <td>16000.000000</td>\n",
              "      <td>16000.000000</td>\n",
              "      <td>16000.000000</td>\n",
              "      <td>16000.000000</td>\n",
              "      <td>16000.000000</td>\n",
              "      <td>16000.000000</td>\n",
              "      <td>16000.000000</td>\n",
              "      <td>16000.000000</td>\n",
              "      <td>16000.000000</td>\n",
              "      <td>16000.000000</td>\n",
              "      <td>16000.000000</td>\n",
              "      <td>16000.000000</td>\n",
              "      <td>16000.000000</td>\n",
              "    </tr>\n",
              "    <tr>\n",
              "      <th>mean</th>\n",
              "      <td>0.208117</td>\n",
              "      <td>0.061869</td>\n",
              "      <td>0.084659</td>\n",
              "      <td>0.402363</td>\n",
              "      <td>0.483028</td>\n",
              "      <td>0.113089</td>\n",
              "      <td>0.461250</td>\n",
              "      <td>0.037187</td>\n",
              "      <td>0.541125</td>\n",
              "      <td>0.031813</td>\n",
              "      <td>0.290187</td>\n",
              "      <td>0.496937</td>\n",
              "      <td>0.268750</td>\n",
              "      <td>0.169687</td>\n",
              "      <td>0.072375</td>\n",
              "      <td>0.499437</td>\n",
              "      <td>0.074733</td>\n",
              "    </tr>\n",
              "    <tr>\n",
              "      <th>std</th>\n",
              "      <td>0.135684</td>\n",
              "      <td>0.027297</td>\n",
              "      <td>0.051058</td>\n",
              "      <td>0.349831</td>\n",
              "      <td>0.097931</td>\n",
              "      <td>0.133316</td>\n",
              "      <td>0.498512</td>\n",
              "      <td>0.189227</td>\n",
              "      <td>0.498321</td>\n",
              "      <td>0.175506</td>\n",
              "      <td>0.453863</td>\n",
              "      <td>0.500006</td>\n",
              "      <td>0.443323</td>\n",
              "      <td>0.375370</td>\n",
              "      <td>0.259116</td>\n",
              "      <td>0.500015</td>\n",
              "      <td>0.094158</td>\n",
              "    </tr>\n",
              "    <tr>\n",
              "      <th>min</th>\n",
              "      <td>0.000000</td>\n",
              "      <td>0.000000</td>\n",
              "      <td>0.000000</td>\n",
              "      <td>0.000000</td>\n",
              "      <td>0.000000</td>\n",
              "      <td>0.000000</td>\n",
              "      <td>0.000000</td>\n",
              "      <td>0.000000</td>\n",
              "      <td>0.000000</td>\n",
              "      <td>0.000000</td>\n",
              "      <td>0.000000</td>\n",
              "      <td>0.000000</td>\n",
              "      <td>0.000000</td>\n",
              "      <td>0.000000</td>\n",
              "      <td>0.000000</td>\n",
              "      <td>0.000000</td>\n",
              "      <td>0.000000</td>\n",
              "    </tr>\n",
              "    <tr>\n",
              "      <th>25%</th>\n",
              "      <td>0.125000</td>\n",
              "      <td>0.050000</td>\n",
              "      <td>0.060100</td>\n",
              "      <td>0.012995</td>\n",
              "      <td>0.416588</td>\n",
              "      <td>0.033333</td>\n",
              "      <td>0.000000</td>\n",
              "      <td>0.000000</td>\n",
              "      <td>0.000000</td>\n",
              "      <td>0.000000</td>\n",
              "      <td>0.000000</td>\n",
              "      <td>0.000000</td>\n",
              "      <td>0.000000</td>\n",
              "      <td>0.000000</td>\n",
              "      <td>0.000000</td>\n",
              "      <td>0.000000</td>\n",
              "      <td>0.025641</td>\n",
              "    </tr>\n",
              "    <tr>\n",
              "      <th>50%</th>\n",
              "      <td>0.250000</td>\n",
              "      <td>0.050000</td>\n",
              "      <td>0.080000</td>\n",
              "      <td>0.650916</td>\n",
              "      <td>0.472355</td>\n",
              "      <td>0.055556</td>\n",
              "      <td>0.000000</td>\n",
              "      <td>0.000000</td>\n",
              "      <td>1.000000</td>\n",
              "      <td>0.000000</td>\n",
              "      <td>0.000000</td>\n",
              "      <td>0.000000</td>\n",
              "      <td>0.000000</td>\n",
              "      <td>0.000000</td>\n",
              "      <td>0.000000</td>\n",
              "      <td>0.000000</td>\n",
              "      <td>0.038462</td>\n",
              "    </tr>\n",
              "    <tr>\n",
              "      <th>75%</th>\n",
              "      <td>0.250000</td>\n",
              "      <td>0.050000</td>\n",
              "      <td>0.100000</td>\n",
              "      <td>0.718842</td>\n",
              "      <td>0.530091</td>\n",
              "      <td>0.133333</td>\n",
              "      <td>1.000000</td>\n",
              "      <td>0.000000</td>\n",
              "      <td>1.000000</td>\n",
              "      <td>0.000000</td>\n",
              "      <td>1.000000</td>\n",
              "      <td>1.000000</td>\n",
              "      <td>1.000000</td>\n",
              "      <td>0.000000</td>\n",
              "      <td>0.000000</td>\n",
              "      <td>1.000000</td>\n",
              "      <td>0.076923</td>\n",
              "    </tr>\n",
              "    <tr>\n",
              "      <th>max</th>\n",
              "      <td>1.000000</td>\n",
              "      <td>1.000000</td>\n",
              "      <td>1.000000</td>\n",
              "      <td>1.000000</td>\n",
              "      <td>1.000000</td>\n",
              "      <td>1.000000</td>\n",
              "      <td>1.000000</td>\n",
              "      <td>1.000000</td>\n",
              "      <td>1.000000</td>\n",
              "      <td>1.000000</td>\n",
              "      <td>1.000000</td>\n",
              "      <td>1.000000</td>\n",
              "      <td>1.000000</td>\n",
              "      <td>1.000000</td>\n",
              "      <td>1.000000</td>\n",
              "      <td>1.000000</td>\n",
              "      <td>1.000000</td>\n",
              "    </tr>\n",
              "  </tbody>\n",
              "</table>\n",
              "</div>"
            ],
            "text/plain": [
              "           bedrooms     bathrooms  ...        no_fee   floornumber\n",
              "count  16000.000000  16000.000000  ...  16000.000000  16000.000000\n",
              "mean       0.208117      0.061869  ...      0.499437      0.074733\n",
              "std        0.135684      0.027297  ...      0.500015      0.094158\n",
              "min        0.000000      0.000000  ...      0.000000      0.000000\n",
              "25%        0.125000      0.050000  ...      0.000000      0.025641\n",
              "50%        0.250000      0.050000  ...      0.000000      0.038462\n",
              "75%        0.250000      0.050000  ...      1.000000      0.076923\n",
              "max        1.000000      1.000000  ...      1.000000      1.000000\n",
              "\n",
              "[8 rows x 17 columns]"
            ]
          },
          "metadata": {
            "tags": []
          },
          "execution_count": 76
        }
      ]
    },
    {
      "cell_type": "code",
      "metadata": {
        "id": "IykVx6QTjDtW",
        "colab_type": "code",
        "outputId": "d6e23aba-9042-49e1-fa69-d187b80c6f10",
        "colab": {
          "base_uri": "https://localhost:8080/",
          "height": 34
        }
      },
      "source": [
        "rent_col.shape"
      ],
      "execution_count": 77,
      "outputs": [
        {
          "output_type": "execute_result",
          "data": {
            "text/plain": [
              "(16000,)"
            ]
          },
          "metadata": {
            "tags": []
          },
          "execution_count": 77
        }
      ]
    },
    {
      "cell_type": "code",
      "metadata": {
        "id": "1Pp8KTPEjRwJ",
        "colab_type": "code",
        "outputId": "aa7b17f1-681e-45df-bff5-600e4061ad17",
        "colab": {
          "base_uri": "https://localhost:8080/",
          "height": 34
        }
      },
      "source": [
        "normalized_df.shape"
      ],
      "execution_count": 78,
      "outputs": [
        {
          "output_type": "execute_result",
          "data": {
            "text/plain": [
              "(16000, 17)"
            ]
          },
          "metadata": {
            "tags": []
          },
          "execution_count": 78
        }
      ]
    },
    {
      "cell_type": "code",
      "metadata": {
        "id": "6mPfgDNEjUHd",
        "colab_type": "code",
        "colab": {}
      },
      "source": [
        "final_df=pd.concat([normalized_df,rent_col],axis=1)"
      ],
      "execution_count": 0,
      "outputs": []
    },
    {
      "cell_type": "code",
      "metadata": {
        "id": "xucLwWRyjeQE",
        "colab_type": "code",
        "outputId": "145b07bc-aeff-45c1-9942-a18c862e36b5",
        "colab": {
          "base_uri": "https://localhost:8080/",
          "height": 408
        }
      },
      "source": [
        "final_df.info()"
      ],
      "execution_count": 80,
      "outputs": [
        {
          "output_type": "stream",
          "text": [
            "<class 'pandas.core.frame.DataFrame'>\n",
            "Int64Index: 16000 entries, 7236931 to 7443274\n",
            "Data columns (total 18 columns):\n",
            "bedrooms            16000 non-null float64\n",
            "bathrooms           16000 non-null float64\n",
            "size_sqft           16000 non-null float64\n",
            "addr_zip            16000 non-null float64\n",
            "addr_lon            16000 non-null float64\n",
            "floor_count         16000 non-null float64\n",
            "has_elevator        16000 non-null float64\n",
            "has_fireplace       16000 non-null float64\n",
            "has_dishwasher      16000 non-null float64\n",
            "is_furnished        16000 non-null float64\n",
            "has_gym             16000 non-null float64\n",
            "allows_pets         16000 non-null float64\n",
            "has_washer_dryer    16000 non-null float64\n",
            "has_garage          16000 non-null float64\n",
            "has_pool            16000 non-null float64\n",
            "no_fee              16000 non-null float64\n",
            "floornumber         16000 non-null float64\n",
            "rent                14000 non-null float64\n",
            "dtypes: float64(18)\n",
            "memory usage: 2.3 MB\n"
          ],
          "name": "stdout"
        }
      ]
    },
    {
      "cell_type": "code",
      "metadata": {
        "id": "WI2tr-pNjgI9",
        "colab_type": "code",
        "outputId": "e1bd1a3d-aae9-4ad3-ea84-97453ec70ca4",
        "colab": {
          "base_uri": "https://localhost:8080/",
          "height": 317
        }
      },
      "source": [
        "final_df.describe()"
      ],
      "execution_count": 81,
      "outputs": [
        {
          "output_type": "execute_result",
          "data": {
            "text/html": [
              "<div>\n",
              "<style scoped>\n",
              "    .dataframe tbody tr th:only-of-type {\n",
              "        vertical-align: middle;\n",
              "    }\n",
              "\n",
              "    .dataframe tbody tr th {\n",
              "        vertical-align: top;\n",
              "    }\n",
              "\n",
              "    .dataframe thead th {\n",
              "        text-align: right;\n",
              "    }\n",
              "</style>\n",
              "<table border=\"1\" class=\"dataframe\">\n",
              "  <thead>\n",
              "    <tr style=\"text-align: right;\">\n",
              "      <th></th>\n",
              "      <th>bedrooms</th>\n",
              "      <th>bathrooms</th>\n",
              "      <th>size_sqft</th>\n",
              "      <th>addr_zip</th>\n",
              "      <th>addr_lon</th>\n",
              "      <th>floor_count</th>\n",
              "      <th>has_elevator</th>\n",
              "      <th>has_fireplace</th>\n",
              "      <th>has_dishwasher</th>\n",
              "      <th>is_furnished</th>\n",
              "      <th>has_gym</th>\n",
              "      <th>allows_pets</th>\n",
              "      <th>has_washer_dryer</th>\n",
              "      <th>has_garage</th>\n",
              "      <th>has_pool</th>\n",
              "      <th>no_fee</th>\n",
              "      <th>floornumber</th>\n",
              "      <th>rent</th>\n",
              "    </tr>\n",
              "  </thead>\n",
              "  <tbody>\n",
              "    <tr>\n",
              "      <th>count</th>\n",
              "      <td>16000.000000</td>\n",
              "      <td>16000.000000</td>\n",
              "      <td>16000.000000</td>\n",
              "      <td>16000.000000</td>\n",
              "      <td>16000.000000</td>\n",
              "      <td>16000.000000</td>\n",
              "      <td>16000.000000</td>\n",
              "      <td>16000.000000</td>\n",
              "      <td>16000.000000</td>\n",
              "      <td>16000.000000</td>\n",
              "      <td>16000.000000</td>\n",
              "      <td>16000.000000</td>\n",
              "      <td>16000.000000</td>\n",
              "      <td>16000.000000</td>\n",
              "      <td>16000.000000</td>\n",
              "      <td>16000.000000</td>\n",
              "      <td>16000.000000</td>\n",
              "      <td>14000.000000</td>\n",
              "    </tr>\n",
              "    <tr>\n",
              "      <th>mean</th>\n",
              "      <td>0.208117</td>\n",
              "      <td>0.061869</td>\n",
              "      <td>0.084659</td>\n",
              "      <td>0.402363</td>\n",
              "      <td>0.483028</td>\n",
              "      <td>0.113089</td>\n",
              "      <td>0.461250</td>\n",
              "      <td>0.037187</td>\n",
              "      <td>0.541125</td>\n",
              "      <td>0.031813</td>\n",
              "      <td>0.290187</td>\n",
              "      <td>0.496937</td>\n",
              "      <td>0.268750</td>\n",
              "      <td>0.169687</td>\n",
              "      <td>0.072375</td>\n",
              "      <td>0.499437</td>\n",
              "      <td>0.074733</td>\n",
              "      <td>3591.997214</td>\n",
              "    </tr>\n",
              "    <tr>\n",
              "      <th>std</th>\n",
              "      <td>0.135684</td>\n",
              "      <td>0.027297</td>\n",
              "      <td>0.051058</td>\n",
              "      <td>0.349831</td>\n",
              "      <td>0.097931</td>\n",
              "      <td>0.133316</td>\n",
              "      <td>0.498512</td>\n",
              "      <td>0.189227</td>\n",
              "      <td>0.498321</td>\n",
              "      <td>0.175506</td>\n",
              "      <td>0.453863</td>\n",
              "      <td>0.500006</td>\n",
              "      <td>0.443323</td>\n",
              "      <td>0.375370</td>\n",
              "      <td>0.259116</td>\n",
              "      <td>0.500015</td>\n",
              "      <td>0.094158</td>\n",
              "      <td>2874.099247</td>\n",
              "    </tr>\n",
              "    <tr>\n",
              "      <th>min</th>\n",
              "      <td>0.000000</td>\n",
              "      <td>0.000000</td>\n",
              "      <td>0.000000</td>\n",
              "      <td>0.000000</td>\n",
              "      <td>0.000000</td>\n",
              "      <td>0.000000</td>\n",
              "      <td>0.000000</td>\n",
              "      <td>0.000000</td>\n",
              "      <td>0.000000</td>\n",
              "      <td>0.000000</td>\n",
              "      <td>0.000000</td>\n",
              "      <td>0.000000</td>\n",
              "      <td>0.000000</td>\n",
              "      <td>0.000000</td>\n",
              "      <td>0.000000</td>\n",
              "      <td>0.000000</td>\n",
              "      <td>0.000000</td>\n",
              "      <td>1250.000000</td>\n",
              "    </tr>\n",
              "    <tr>\n",
              "      <th>25%</th>\n",
              "      <td>0.125000</td>\n",
              "      <td>0.050000</td>\n",
              "      <td>0.060100</td>\n",
              "      <td>0.012995</td>\n",
              "      <td>0.416588</td>\n",
              "      <td>0.033333</td>\n",
              "      <td>0.000000</td>\n",
              "      <td>0.000000</td>\n",
              "      <td>0.000000</td>\n",
              "      <td>0.000000</td>\n",
              "      <td>0.000000</td>\n",
              "      <td>0.000000</td>\n",
              "      <td>0.000000</td>\n",
              "      <td>0.000000</td>\n",
              "      <td>0.000000</td>\n",
              "      <td>0.000000</td>\n",
              "      <td>0.025641</td>\n",
              "      <td>2250.000000</td>\n",
              "    </tr>\n",
              "    <tr>\n",
              "      <th>50%</th>\n",
              "      <td>0.250000</td>\n",
              "      <td>0.050000</td>\n",
              "      <td>0.080000</td>\n",
              "      <td>0.650916</td>\n",
              "      <td>0.472355</td>\n",
              "      <td>0.055556</td>\n",
              "      <td>0.000000</td>\n",
              "      <td>0.000000</td>\n",
              "      <td>1.000000</td>\n",
              "      <td>0.000000</td>\n",
              "      <td>0.000000</td>\n",
              "      <td>0.000000</td>\n",
              "      <td>0.000000</td>\n",
              "      <td>0.000000</td>\n",
              "      <td>0.000000</td>\n",
              "      <td>0.000000</td>\n",
              "      <td>0.038462</td>\n",
              "      <td>2900.000000</td>\n",
              "    </tr>\n",
              "    <tr>\n",
              "      <th>75%</th>\n",
              "      <td>0.250000</td>\n",
              "      <td>0.050000</td>\n",
              "      <td>0.100000</td>\n",
              "      <td>0.718842</td>\n",
              "      <td>0.530091</td>\n",
              "      <td>0.133333</td>\n",
              "      <td>1.000000</td>\n",
              "      <td>0.000000</td>\n",
              "      <td>1.000000</td>\n",
              "      <td>0.000000</td>\n",
              "      <td>1.000000</td>\n",
              "      <td>1.000000</td>\n",
              "      <td>1.000000</td>\n",
              "      <td>0.000000</td>\n",
              "      <td>0.000000</td>\n",
              "      <td>1.000000</td>\n",
              "      <td>0.076923</td>\n",
              "      <td>3900.000000</td>\n",
              "    </tr>\n",
              "    <tr>\n",
              "      <th>max</th>\n",
              "      <td>1.000000</td>\n",
              "      <td>1.000000</td>\n",
              "      <td>1.000000</td>\n",
              "      <td>1.000000</td>\n",
              "      <td>1.000000</td>\n",
              "      <td>1.000000</td>\n",
              "      <td>1.000000</td>\n",
              "      <td>1.000000</td>\n",
              "      <td>1.000000</td>\n",
              "      <td>1.000000</td>\n",
              "      <td>1.000000</td>\n",
              "      <td>1.000000</td>\n",
              "      <td>1.000000</td>\n",
              "      <td>1.000000</td>\n",
              "      <td>1.000000</td>\n",
              "      <td>1.000000</td>\n",
              "      <td>1.000000</td>\n",
              "      <td>50000.000000</td>\n",
              "    </tr>\n",
              "  </tbody>\n",
              "</table>\n",
              "</div>"
            ],
            "text/plain": [
              "           bedrooms     bathrooms  ...   floornumber          rent\n",
              "count  16000.000000  16000.000000  ...  16000.000000  14000.000000\n",
              "mean       0.208117      0.061869  ...      0.074733   3591.997214\n",
              "std        0.135684      0.027297  ...      0.094158   2874.099247\n",
              "min        0.000000      0.000000  ...      0.000000   1250.000000\n",
              "25%        0.125000      0.050000  ...      0.025641   2250.000000\n",
              "50%        0.250000      0.050000  ...      0.038462   2900.000000\n",
              "75%        0.250000      0.050000  ...      0.076923   3900.000000\n",
              "max        1.000000      1.000000  ...      1.000000  50000.000000\n",
              "\n",
              "[8 rows x 18 columns]"
            ]
          },
          "metadata": {
            "tags": []
          },
          "execution_count": 81
        }
      ]
    },
    {
      "cell_type": "code",
      "metadata": {
        "id": "l7U85Ho5jpHR",
        "colab_type": "code",
        "colab": {}
      },
      "source": [
        ""
      ],
      "execution_count": 0,
      "outputs": []
    }
  ]
}